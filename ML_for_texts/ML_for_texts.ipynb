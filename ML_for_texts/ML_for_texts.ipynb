{
 "cells": [
  {
   "cell_type": "markdown",
   "metadata": {},
   "source": [
    "# Проект для «Викишоп»"
   ]
  },
  {
   "cell_type": "markdown",
   "metadata": {},
   "source": [
    "Интернет-магазин «Викишоп» запускает новый сервис. Теперь пользователи могут редактировать и дополнять описания товаров, как в вики-сообществах. То есть клиенты предлагают свои правки и комментируют изменения других. Магазину нужен инструмент, который будет искать токсичные комментарии и отправлять их на модерацию. \n",
    "\n",
    "Обучите модель классифицировать комментарии на позитивные и негативные. В вашем распоряжении набор данных с разметкой о токсичности правок.\n",
    "\n",
    "Постройте модель со значением метрики качества *F1* не меньше 0.75. "
   ]
  },
  {
   "cell_type": "markdown",
   "metadata": {},
   "source": [
    "## Подготовка"
   ]
  },
  {
   "cell_type": "code",
   "execution_count": 1,
   "metadata": {},
   "outputs": [],
   "source": [
    "import pandas as pd\n",
    "import nltk\n",
    "from nltk.corpus import stopwords as nltk_stopwords\n",
    "from sklearn.feature_extraction.text import TfidfVectorizer\n",
    "from pymystem3 import Mystem\n",
    "import numpy as np\n",
    "import re\n",
    "from sklearn.model_selection import train_test_split\n",
    "from sklearn.linear_model import LogisticRegression\n",
    "from sklearn.metrics import f1_score\n",
    "from sklearn.tree import DecisionTreeClassifier\n",
    "from catboost import CatBoostClassifier\n",
    "import matplotlib.pyplot as plt"
   ]
  },
  {
   "cell_type": "code",
   "execution_count": 2,
   "metadata": {},
   "outputs": [],
   "source": [
    "data = pd.read_csv('toxic_comments.csv')"
   ]
  },
  {
   "cell_type": "code",
   "execution_count": 3,
   "metadata": {
    "scrolled": false
   },
   "outputs": [
    {
     "name": "stdout",
     "output_type": "stream",
     "text": [
      "<class 'pandas.core.frame.DataFrame'>\n",
      "RangeIndex: 159292 entries, 0 to 159291\n",
      "Data columns (total 3 columns):\n",
      " #   Column      Non-Null Count   Dtype \n",
      "---  ------      --------------   ----- \n",
      " 0   Unnamed: 0  159292 non-null  int64 \n",
      " 1   text        159292 non-null  object\n",
      " 2   toxic       159292 non-null  int64 \n",
      "dtypes: int64(2), object(1)\n",
      "memory usage: 3.6+ MB\n",
      "   Unnamed: 0                                               text  toxic\n",
      "0           0  Explanation\\nWhy the edits made under my usern...      0\n",
      "1           1  D'aww! He matches this background colour I'm s...      0\n",
      "2           2  Hey man, I'm really not trying to edit war. It...      0\n",
      "3           3  \"\\nMore\\nI can't make any real suggestions on ...      0\n",
      "4           4  You, sir, are my hero. Any chance you remember...      0\n",
      "5           5  \"\\n\\nCongratulations from me as well, use the ...      0\n",
      "6           6       COCKSUCKER BEFORE YOU PISS AROUND ON MY WORK      1\n",
      "7           7  Your vandalism to the Matt Shirvington article...      0\n",
      "8           8  Sorry if the word 'nonsense' was offensive to ...      0\n",
      "9           9  alignment on this subject and which are contra...      0\n"
     ]
    }
   ],
   "source": [
    "data.info()\n",
    "print(data.head(10))"
   ]
  },
  {
   "cell_type": "markdown",
   "metadata": {},
   "source": [
    "Столбец Unnamed: 0 дублирует индексы, удаляю его"
   ]
  },
  {
   "cell_type": "code",
   "execution_count": 4,
   "metadata": {},
   "outputs": [],
   "source": [
    "data = data.drop('Unnamed: 0', axis=1)"
   ]
  },
  {
   "cell_type": "code",
   "execution_count": 5,
   "metadata": {},
   "outputs": [
    {
     "data": {
      "text/plain": [
       "0"
      ]
     },
     "execution_count": 5,
     "metadata": {},
     "output_type": "execute_result"
    }
   ],
   "source": [
    "data.duplicated().sum()"
   ]
  },
  {
   "cell_type": "markdown",
   "metadata": {},
   "source": [
    "В данных явных ошибок не обнаружено, дубликатов не выявлено."
   ]
  },
  {
   "cell_type": "code",
   "execution_count": 6,
   "metadata": {
    "scrolled": true
   },
   "outputs": [
    {
     "data": {
      "image/png": "[encoded data removed]",
      "text/plain": [
       "<Figure size 640x480 with 1 Axes>"
      ]
     },
     "metadata": {},
     "output_type": "display_data"
    }
   ],
   "source": [
    "data.pivot_table(index='toxic', values='text', aggfunc='count').plot(\n",
    "    title='Распределение по токсичности', kind='bar')\n",
    "plt.xlabel('Токсичность комментариев')\n",
    "plt.ylabel('Колличество')\n",
    "plt.show()"
   ]
  },
  {
   "cell_type": "markdown",
   "metadata": {},
   "source": [
    "Дальше нужно лемматизировать текст"
   ]
  },
  {
   "cell_type": "code",
   "execution_count": 7,
   "metadata": {
    "scrolled": true
   },
   "outputs": [
    {
     "name": "stderr",
     "output_type": "stream",
     "text": [
      "[nltk_data] Downloading package punkt to /Users/lena/nltk_data...\n",
      "[nltk_data]   Package punkt is already up-to-date!\n",
      "[nltk_data] Downloading package wordnet to /Users/lena/nltk_data...\n",
      "[nltk_data]   Package wordnet is already up-to-date!\n",
      "[nltk_data] Downloading package omw-1.4 to /Users/lena/nltk_data...\n",
      "[nltk_data]   Package omw-1.4 is already up-to-date!\n",
      "[nltk_data] Downloading package averaged_perceptron_tagger to\n",
      "[nltk_data]     /Users/lena/nltk_data...\n",
      "[nltk_data]   Package averaged_perceptron_tagger is already up-to-\n",
      "[nltk_data]       date!\n"
     ]
    },
    {
     "data": {
      "application/vnd.jupyter.widget-view+json": {
       "model_id": "58683a5b8d464403914ecda49e183ef9",
       "version_major": 2,
       "version_minor": 0
      },
      "text/plain": [
       "  0%|          | 0/159292 [00:00<?, ?it/s]"
      ]
     },
     "metadata": {},
     "output_type": "display_data"
    }
   ],
   "source": [
    "import nltk\n",
    "nltk.download('punkt')\n",
    "nltk.download('wordnet')\n",
    "nltk.download('omw-1.4')\n",
    "from nltk.stem import WordNetLemmatizer \n",
    "from nltk.corpus import wordnet\n",
    "nltk.download('averaged_perceptron_tagger')\n",
    "from tqdm.notebook import tqdm\n",
    "tqdm.pandas()\n",
    "\n",
    "lemmatizer = WordNetLemmatizer()\n",
    "\n",
    "def get_wordnet_pos(word):\n",
    "    \"\"\"Map POS tag to first character lemmatize() accepts\"\"\"\n",
    "    tag = nltk.pos_tag([word])[0][1][0].upper()\n",
    "    tag_dict = {\"J\": wordnet.ADJ,\n",
    "                \"N\": wordnet.NOUN,\n",
    "                \"V\": wordnet.VERB,\n",
    "                \"R\": wordnet.ADV}\n",
    "    return tag_dict.get(tag, wordnet.NOUN)\n",
    "\n",
    "def lemmatize_clear(text): \n",
    "    text = [lemmatizer.lemmatize(w, get_wordnet_pos(w)) for w in nltk.word_tokenize(text)]\n",
    "    text = \" \".join(text)\n",
    "    text = text.lower()\n",
    "    text = re.sub(r'[^a-zA-z ]', ' ', text)\n",
    "    text = text.split()\n",
    "    return \" \".join(text)\n",
    "\n",
    "data['lemm'] = data['text'].progress_apply(lambda x: lemmatize_clear(x))"
   ]
  },
  {
   "cell_type": "code",
   "execution_count": 8,
   "metadata": {},
   "outputs": [],
   "source": [
    "train, valid = train_test_split(data, random_state=12345, test_size=0.2)\n",
    "valid, test = train_test_split(valid, random_state=12345, test_size=0.5)"
   ]
  },
  {
   "cell_type": "code",
   "execution_count": 9,
   "metadata": {
    "scrolled": true
   },
   "outputs": [
    {
     "name": "stderr",
     "output_type": "stream",
     "text": [
      "[nltk_data] Downloading package stopwords to /Users/lena/nltk_data...\n",
      "[nltk_data]   Package stopwords is already up-to-date!\n"
     ]
    }
   ],
   "source": [
    "nltk.download('stopwords')\n",
    "stopwords = list(nltk_stopwords.words('english'))\n",
    "count = TfidfVectorizer(stop_words=stopwords)\n",
    "\n",
    "count_train = count.fit_transform(list(train['lemm']))\n",
    "count_valid = count.transform(list(valid['lemm']))\n",
    "count_test = count.transform(list(test['lemm']))\n",
    "\n",
    "target_train = train['toxic']\n",
    "target_valid = valid['toxic']\n",
    "target_test = test['toxic']"
   ]
  },
  {
   "cell_type": "markdown",
   "metadata": {},
   "source": [
    "## Обучение"
   ]
  },
  {
   "cell_type": "code",
   "execution_count": 10,
   "metadata": {},
   "outputs": [
    {
     "name": "stdout",
     "output_type": "stream",
     "text": [
      "f1_logistic_best 0.7803528190937392 c_par_best 13\n"
     ]
    }
   ],
   "source": [
    "import warnings\n",
    "from sklearn.exceptions import ConvergenceWarning\n",
    "warnings.filterwarnings(\"ignore\", category=ConvergenceWarning)\n",
    "\n",
    "c_par_best = 0\n",
    "f1_logistic_best = 0\n",
    "\n",
    "for c_par in range(5,15):\n",
    "    model_regress = LogisticRegression(random_state=12345, C=c_par)\n",
    "    model_regress.fit(count_train, target_train)\n",
    "    predictions = model_regress.predict(count_valid)\n",
    "    f1_logistic = f1_score(target_valid, predictions)\n",
    "    if f1_logistic > f1_logistic_best:\n",
    "        f1_logistic_best = f1_logistic\n",
    "        c_par_best = c_par\n",
    "    \n",
    "print('f1_logistic_best', f1_logistic_best, 'c_par_best', c_par_best)"
   ]
  },
  {
   "cell_type": "code",
   "execution_count": 11,
   "metadata": {},
   "outputs": [
    {
     "name": "stdout",
     "output_type": "stream",
     "text": [
      "f1_tree_best 0.6917910447761195 depth_best 29\n"
     ]
    }
   ],
   "source": [
    "f1_tree_best = 0\n",
    "depth_best = 0\n",
    "\n",
    "for depth in range(1,31):\n",
    "    model_tree = DecisionTreeClassifier(random_state=12345, max_depth=depth)\n",
    "    model_tree.fit(count_train, target_train)\n",
    "    predictions = model_tree.predict(count_valid)\n",
    "    f1_tree = f1_score(target_valid, predictions)\n",
    "    if f1_tree > f1_tree_best:\n",
    "        f1_tree_best = f1_tree\n",
    "        depth_best = depth\n",
    "        \n",
    "print('f1_tree_best', f1_tree_best, 'depth_best', depth_best)"
   ]
  },
  {
   "cell_type": "code",
   "execution_count": 12,
   "metadata": {},
   "outputs": [
    {
     "name": "stdout",
     "output_type": "stream",
     "text": [
      "Learning rate set to 0.5\n",
      "0:\tlearn: 0.3396811\ttotal: 2.94s\tremaining: 0us\n",
      "Learning rate set to 0.5\n",
      "0:\tlearn: 0.3396811\ttotal: 2.2s\tremaining: 2.2s\n",
      "1:\tlearn: 0.2591015\ttotal: 3.46s\tremaining: 0us\n",
      "Learning rate set to 0.5\n",
      "0:\tlearn: 0.3396811\ttotal: 1.69s\tremaining: 3.38s\n",
      "2:\tlearn: 0.2352129\ttotal: 4.14s\tremaining: 0us\n",
      "Learning rate set to 0.5\n",
      "0:\tlearn: 0.3396811\ttotal: 1.41s\tremaining: 4.24s\n",
      "3:\tlearn: 0.2208021\ttotal: 5.16s\tremaining: 0us\n",
      "Learning rate set to 0.5\n",
      "0:\tlearn: 0.3396811\ttotal: 1.42s\tremaining: 5.7s\n",
      "4:\tlearn: 0.2119321\ttotal: 6.38s\tremaining: 0us\n",
      "Learning rate set to 0.5\n",
      "0:\tlearn: 0.3396811\ttotal: 1.4s\tremaining: 7.02s\n",
      "5:\tlearn: 0.2056070\ttotal: 7.57s\tremaining: 0us\n",
      "Learning rate set to 0.5\n",
      "0:\tlearn: 0.3396811\ttotal: 1.44s\tremaining: 8.62s\n",
      "6:\tlearn: 0.2011333\ttotal: 8.9s\tremaining: 0us\n",
      "Learning rate set to 0.5\n",
      "0:\tlearn: 0.3396811\ttotal: 1.42s\tremaining: 9.95s\n",
      "7:\tlearn: 0.1962841\ttotal: 10.9s\tremaining: 0us\n",
      "Learning rate set to 0.5\n",
      "0:\tlearn: 0.3396811\ttotal: 1.42s\tremaining: 11.3s\n",
      "8:\tlearn: 0.1921304\ttotal: 11.9s\tremaining: 0us\n",
      "Learning rate set to 0.5\n",
      "0:\tlearn: 0.3396811\ttotal: 1.42s\tremaining: 12.8s\n",
      "9:\tlearn: 0.1876223\ttotal: 13.2s\tremaining: 0us\n",
      "Learning rate set to 0.5\n",
      "0:\tlearn: 0.3396811\ttotal: 1.43s\tremaining: 14.3s\n",
      "10:\tlearn: 0.1838450\ttotal: 13.5s\tremaining: 0us\n",
      "Learning rate set to 0.5\n",
      "0:\tlearn: 0.3396811\ttotal: 1.42s\tremaining: 15.6s\n",
      "11:\tlearn: 0.1812755\ttotal: 15.7s\tremaining: 0us\n",
      "Learning rate set to 0.5\n",
      "0:\tlearn: 0.3396811\ttotal: 1.61s\tremaining: 19.4s\n",
      "12:\tlearn: 0.1791562\ttotal: 16.2s\tremaining: 0us\n",
      "Learning rate set to 0.5\n",
      "0:\tlearn: 0.3396811\ttotal: 1.4s\tremaining: 18.2s\n",
      "13:\tlearn: 0.1765825\ttotal: 17.9s\tremaining: 0us\n",
      "Learning rate set to 0.5\n",
      "0:\tlearn: 0.3396811\ttotal: 1.39s\tremaining: 19.5s\n",
      "14:\tlearn: 0.1744284\ttotal: 19.5s\tremaining: 0us\n",
      "f1_cat_best 0.6545307443365695 iterations_best 15\n"
     ]
    }
   ],
   "source": [
    "f1_cat_best = 0\n",
    "iterations_best = 0\n",
    "\n",
    "for iterat in range(1,16):\n",
    "    model_cat = CatBoostClassifier(loss_function=\"Logloss\", iterations=iterat) \n",
    "    model_cat.fit(count_train, target_train,verbose=50)\n",
    "    predictions = model_cat.predict(count_valid)\n",
    "    f1_cat = f1_score(target_valid, predictions)\n",
    "    if f1_cat > f1_cat_best:\n",
    "        f1_cat_best = f1_cat\n",
    "        iterations_best = iterat\n",
    "        \n",
    "print('f1_cat_best', f1_cat_best, 'iterations_best', iterations_best)"
   ]
  },
  {
   "cell_type": "code",
   "execution_count": 13,
   "metadata": {},
   "outputs": [
    {
     "name": "stdout",
     "output_type": "stream",
     "text": [
      "f1_logistic 0.7803528190937392 c_par_best 13\n"
     ]
    }
   ],
   "source": [
    "model_regress = LogisticRegression(random_state=12345, C=c_par_best)\n",
    "model_regress.fit(count_train, target_train)\n",
    "predictions = model_regress.predict(count_valid)\n",
    "f1_logistic = f1_score(target_valid, predictions)\n",
    "    \n",
    "print('f1_logistic', f1_logistic, 'c_par_best', c_par_best)"
   ]
  },
  {
   "cell_type": "markdown",
   "metadata": {},
   "source": [
    "Лучшей моделью оказалась LogisticRegression с гиперпараметром С=13, проверяем на тестовой выборке."
   ]
  },
  {
   "cell_type": "code",
   "execution_count": 14,
   "metadata": {},
   "outputs": [
    {
     "name": "stdout",
     "output_type": "stream",
     "text": [
      "f1_regress_test 0.7764866712235133\n"
     ]
    }
   ],
   "source": [
    "predict_regress_test = model_regress.predict(count_test)\n",
    "f1_regress_test = f1_score(target_test, predict_regress_test)\n",
    "print('f1_regress_test', f1_regress_test)"
   ]
  },
  {
   "cell_type": "markdown",
   "metadata": {},
   "source": [
    "## Выводы"
   ]
  },
  {
   "cell_type": "markdown",
   "metadata": {},
   "source": [
    "Лучшей моделью оказалась LogisticRegression с гиперпараметром С=13. f1 на тестовой выборке 0.776 (больше целевого 0.75)."
   ]
  }
 ],
 "metadata": {
  "ExecuteTimeLog": [
   {
    "duration": 435,
    "start_time": "2024-04-04T10:33:25.466Z"
   },
   {
    "duration": 117,
    "start_time": "2024-04-04T10:33:27.191Z"
   },
   {
    "duration": 3452,
    "start_time": "2024-04-04T10:33:58.732Z"
   },
   {
    "duration": 34,
    "start_time": "2024-04-04T10:34:13.263Z"
   },
   {
    "duration": 37,
    "start_time": "2024-04-04T10:34:38.457Z"
   },
   {
    "duration": 13,
    "start_time": "2024-04-04T10:37:13.714Z"
   },
   {
    "duration": 32,
    "start_time": "2024-04-04T10:37:16.965Z"
   },
   {
    "duration": 228,
    "start_time": "2024-04-04T10:37:48.064Z"
   },
   {
    "duration": 1037,
    "start_time": "2024-04-04T10:44:20.241Z"
   },
   {
    "duration": 9,
    "start_time": "2024-04-04T10:46:32.947Z"
   },
   {
    "duration": 1306,
    "start_time": "2024-04-05T08:04:51.556Z"
   },
   {
    "duration": 2495,
    "start_time": "2024-04-05T08:04:52.863Z"
   },
   {
    "duration": 36,
    "start_time": "2024-04-05T08:04:55.359Z"
   },
   {
    "duration": 12,
    "start_time": "2024-04-05T08:04:55.396Z"
   },
   {
    "duration": 268,
    "start_time": "2024-04-05T08:04:55.410Z"
   },
   {
    "duration": 113,
    "start_time": "2024-04-05T08:04:55.679Z"
   },
   {
    "duration": 2590,
    "start_time": "2024-04-05T08:05:42.276Z"
   },
   {
    "duration": 1434,
    "start_time": "2024-04-05T08:06:37.540Z"
   },
   {
    "duration": 2486,
    "start_time": "2024-04-05T08:06:38.976Z"
   },
   {
    "duration": 36,
    "start_time": "2024-04-05T08:06:41.464Z"
   },
   {
    "duration": 36,
    "start_time": "2024-04-05T08:06:41.502Z"
   },
   {
    "duration": 283,
    "start_time": "2024-04-05T08:06:41.539Z"
   },
   {
    "duration": 3033,
    "start_time": "2024-04-05T08:06:41.823Z"
   },
   {
    "duration": 1342,
    "start_time": "2024-04-05T08:10:24.840Z"
   },
   {
    "duration": 2449,
    "start_time": "2024-04-05T08:10:26.184Z"
   },
   {
    "duration": 36,
    "start_time": "2024-04-05T08:10:28.635Z"
   },
   {
    "duration": 13,
    "start_time": "2024-04-05T08:10:28.673Z"
   },
   {
    "duration": 224,
    "start_time": "2024-04-05T08:10:28.688Z"
   },
   {
    "duration": 2285,
    "start_time": "2024-04-05T08:10:28.914Z"
   },
   {
    "duration": 278,
    "start_time": "2024-04-05T08:11:41.120Z"
   },
   {
    "duration": 3,
    "start_time": "2024-04-05T08:27:45.436Z"
   },
   {
    "duration": 284,
    "start_time": "2024-04-05T08:27:50.288Z"
   },
   {
    "duration": 1286,
    "start_time": "2024-04-05T08:28:30.829Z"
   },
   {
    "duration": 949,
    "start_time": "2024-04-05T08:28:32.117Z"
   },
   {
    "duration": 36,
    "start_time": "2024-04-05T08:28:33.068Z"
   },
   {
    "duration": 22,
    "start_time": "2024-04-05T08:28:33.106Z"
   },
   {
    "duration": 258,
    "start_time": "2024-04-05T08:28:33.130Z"
   },
   {
    "duration": 404,
    "start_time": "2024-04-05T08:28:33.389Z"
   },
   {
    "duration": 1088,
    "start_time": "2024-04-05T08:44:10.828Z"
   },
   {
    "duration": 15,
    "start_time": "2024-04-05T08:44:52.586Z"
   },
   {
    "duration": 1300,
    "start_time": "2024-04-05T08:45:22.653Z"
   },
   {
    "duration": 966,
    "start_time": "2024-04-05T08:45:23.956Z"
   },
   {
    "duration": 33,
    "start_time": "2024-04-05T08:45:24.924Z"
   },
   {
    "duration": 19,
    "start_time": "2024-04-05T08:45:24.966Z"
   },
   {
    "duration": 251,
    "start_time": "2024-04-05T08:45:24.987Z"
   },
   {
    "duration": 116,
    "start_time": "2024-04-05T08:45:25.239Z"
   },
   {
    "duration": 251309,
    "start_time": "2024-04-05T08:47:32.330Z"
   },
   {
    "duration": 1276,
    "start_time": "2024-04-05T08:53:40.315Z"
   },
   {
    "duration": 926,
    "start_time": "2024-04-05T08:53:41.593Z"
   },
   {
    "duration": 33,
    "start_time": "2024-04-05T08:53:42.521Z"
   },
   {
    "duration": 20,
    "start_time": "2024-04-05T08:53:42.555Z"
   },
   {
    "duration": 232,
    "start_time": "2024-04-05T08:53:42.577Z"
   },
   {
    "duration": 365,
    "start_time": "2024-04-05T08:53:42.811Z"
   },
   {
    "duration": 1346,
    "start_time": "2024-04-05T08:56:00.824Z"
   },
   {
    "duration": 957,
    "start_time": "2024-04-05T08:56:02.172Z"
   },
   {
    "duration": 41,
    "start_time": "2024-04-05T08:56:03.131Z"
   },
   {
    "duration": 12,
    "start_time": "2024-04-05T08:56:03.174Z"
   },
   {
    "duration": 232,
    "start_time": "2024-04-05T08:56:03.188Z"
   },
   {
    "duration": 365,
    "start_time": "2024-04-05T08:56:03.421Z"
   },
   {
    "duration": 1318,
    "start_time": "2024-04-05T08:57:22.561Z"
   },
   {
    "duration": 947,
    "start_time": "2024-04-05T08:57:23.881Z"
   },
   {
    "duration": 38,
    "start_time": "2024-04-05T08:57:24.830Z"
   },
   {
    "duration": 11,
    "start_time": "2024-04-05T08:57:24.870Z"
   },
   {
    "duration": 241,
    "start_time": "2024-04-05T08:57:24.883Z"
   },
   {
    "duration": 385,
    "start_time": "2024-04-05T08:57:25.126Z"
   },
   {
    "duration": 1321,
    "start_time": "2024-04-05T08:57:44.756Z"
   },
   {
    "duration": 928,
    "start_time": "2024-04-05T08:57:46.079Z"
   },
   {
    "duration": 31,
    "start_time": "2024-04-05T08:57:47.009Z"
   },
   {
    "duration": 73,
    "start_time": "2024-04-05T08:57:47.042Z"
   },
   {
    "duration": 251,
    "start_time": "2024-04-05T08:57:47.117Z"
   },
   {
    "duration": 1113053,
    "start_time": "2024-04-05T08:57:47.370Z"
   },
   {
    "duration": 0,
    "start_time": "2024-04-05T09:16:20.427Z"
   },
   {
    "duration": 1265,
    "start_time": "2024-04-05T09:29:58.173Z"
   },
   {
    "duration": 984,
    "start_time": "2024-04-05T09:29:59.439Z"
   },
   {
    "duration": 41,
    "start_time": "2024-04-05T09:30:00.424Z"
   },
   {
    "duration": 81,
    "start_time": "2024-04-05T09:30:00.467Z"
   },
   {
    "duration": 517,
    "start_time": "2024-04-05T09:30:00.550Z"
   },
   {
    "duration": 1174,
    "start_time": "2024-04-05T09:30:01.069Z"
   },
   {
    "duration": 0,
    "start_time": "2024-04-05T09:30:02.244Z"
   },
   {
    "duration": 1229,
    "start_time": "2024-04-05T09:30:26.807Z"
   },
   {
    "duration": 952,
    "start_time": "2024-04-05T09:30:28.038Z"
   },
   {
    "duration": 33,
    "start_time": "2024-04-05T09:30:28.992Z"
   },
   {
    "duration": 17,
    "start_time": "2024-04-05T09:30:29.027Z"
   },
   {
    "duration": 240,
    "start_time": "2024-04-05T09:30:29.046Z"
   },
   {
    "duration": 1298,
    "start_time": "2024-04-05T10:13:54.310Z"
   },
   {
    "duration": 968,
    "start_time": "2024-04-05T10:13:55.610Z"
   },
   {
    "duration": 35,
    "start_time": "2024-04-05T10:13:56.579Z"
   },
   {
    "duration": 14,
    "start_time": "2024-04-05T10:13:56.615Z"
   },
   {
    "duration": 254,
    "start_time": "2024-04-05T10:13:56.631Z"
   },
   {
    "duration": 55,
    "start_time": "2024-04-05T10:13:56.886Z"
   },
   {
    "duration": 0,
    "start_time": "2024-04-05T10:13:56.942Z"
   },
   {
    "duration": 0,
    "start_time": "2024-04-05T10:13:56.943Z"
   },
   {
    "duration": 0,
    "start_time": "2024-04-05T10:13:56.944Z"
   },
   {
    "duration": 3,
    "start_time": "2024-04-05T10:14:03.203Z"
   },
   {
    "duration": 273260,
    "start_time": "2024-04-05T10:14:06.089Z"
   },
   {
    "duration": 17,
    "start_time": "2024-04-05T10:18:39.352Z"
   },
   {
    "duration": 3,
    "start_time": "2024-04-05T10:19:26.789Z"
   },
   {
    "duration": 122,
    "start_time": "2024-04-05T10:19:32.789Z"
   },
   {
    "duration": 10,
    "start_time": "2024-04-05T10:22:11.118Z"
   },
   {
    "duration": 9,
    "start_time": "2024-04-05T10:22:36.785Z"
   },
   {
    "duration": 8,
    "start_time": "2024-04-05T10:22:42.568Z"
   },
   {
    "duration": 147,
    "start_time": "2024-04-05T10:28:36.082Z"
   },
   {
    "duration": 10,
    "start_time": "2024-04-05T10:45:14.849Z"
   },
   {
    "duration": 3,
    "start_time": "2024-04-05T10:45:22.418Z"
   },
   {
    "duration": 51,
    "start_time": "2024-04-05T10:45:27.912Z"
   },
   {
    "duration": 31,
    "start_time": "2024-04-05T10:49:01.586Z"
   },
   {
    "duration": 4,
    "start_time": "2024-04-05T10:53:27.926Z"
   },
   {
    "duration": 23,
    "start_time": "2024-04-05T10:54:38.312Z"
   },
   {
    "duration": 6,
    "start_time": "2024-04-05T10:55:55.034Z"
   },
   {
    "duration": 11,
    "start_time": "2024-04-05T10:56:13.741Z"
   },
   {
    "duration": 4,
    "start_time": "2024-04-05T10:56:18.623Z"
   },
   {
    "duration": 4,
    "start_time": "2024-04-05T10:56:36.095Z"
   },
   {
    "duration": 4,
    "start_time": "2024-04-05T10:56:45.007Z"
   },
   {
    "duration": 4,
    "start_time": "2024-04-05T10:56:55.784Z"
   },
   {
    "duration": 4,
    "start_time": "2024-04-05T10:57:06.396Z"
   },
   {
    "duration": 4,
    "start_time": "2024-04-05T10:57:14.732Z"
   },
   {
    "duration": 13,
    "start_time": "2024-04-05T11:15:36.282Z"
   },
   {
    "duration": 23,
    "start_time": "2024-04-05T11:15:46.528Z"
   },
   {
    "duration": 21,
    "start_time": "2024-04-05T11:15:51.207Z"
   },
   {
    "duration": 503,
    "start_time": "2024-04-05T11:15:58.018Z"
   },
   {
    "duration": 485,
    "start_time": "2024-04-05T11:16:30.306Z"
   },
   {
    "duration": 20,
    "start_time": "2024-04-05T11:16:52.289Z"
   },
   {
    "duration": 3,
    "start_time": "2024-04-05T11:17:10.378Z"
   },
   {
    "duration": 1373,
    "start_time": "2024-04-05T11:17:47.457Z"
   },
   {
    "duration": 947,
    "start_time": "2024-04-05T11:17:48.832Z"
   },
   {
    "duration": 34,
    "start_time": "2024-04-05T11:17:49.781Z"
   },
   {
    "duration": 14,
    "start_time": "2024-04-05T11:17:49.817Z"
   },
   {
    "duration": 258,
    "start_time": "2024-04-05T11:17:49.833Z"
   },
   {
    "duration": 3,
    "start_time": "2024-04-05T11:17:50.093Z"
   },
   {
    "duration": 684916,
    "start_time": "2024-04-05T11:17:50.098Z"
   },
   {
    "duration": 3,
    "start_time": "2024-04-05T11:29:15.016Z"
   },
   {
    "duration": 98,
    "start_time": "2024-04-05T11:29:15.021Z"
   },
   {
    "duration": 238,
    "start_time": "2024-04-05T11:29:15.120Z"
   },
   {
    "duration": 116,
    "start_time": "2024-04-05T11:29:15.361Z"
   },
   {
    "duration": 0,
    "start_time": "2024-04-05T11:29:15.478Z"
   },
   {
    "duration": 0,
    "start_time": "2024-04-05T11:29:15.479Z"
   },
   {
    "duration": 0,
    "start_time": "2024-04-05T11:29:15.481Z"
   },
   {
    "duration": 37,
    "start_time": "2024-04-05T11:30:05.769Z"
   },
   {
    "duration": 4,
    "start_time": "2024-04-05T11:30:13.023Z"
   },
   {
    "duration": 12,
    "start_time": "2024-04-05T11:30:22.119Z"
   },
   {
    "duration": 1120,
    "start_time": "2024-04-05T11:30:39.681Z"
   },
   {
    "duration": 1154,
    "start_time": "2024-04-05T11:31:15.557Z"
   },
   {
    "duration": 10,
    "start_time": "2024-04-05T11:31:33.514Z"
   },
   {
    "duration": 62,
    "start_time": "2024-04-05T11:31:46.354Z"
   },
   {
    "duration": 10,
    "start_time": "2024-04-05T11:35:58.491Z"
   },
   {
    "duration": 56,
    "start_time": "2024-04-05T11:36:03.418Z"
   },
   {
    "duration": 1448,
    "start_time": "2024-04-05T11:36:10.017Z"
   },
   {
    "duration": 2262,
    "start_time": "2024-04-05T11:38:39.447Z"
   },
   {
    "duration": 781,
    "start_time": "2024-04-05T11:39:05.345Z"
   },
   {
    "duration": 846,
    "start_time": "2024-04-05T11:57:24.267Z"
   },
   {
    "duration": 37214,
    "start_time": "2024-04-05T12:00:57.999Z"
   },
   {
    "duration": 3382,
    "start_time": "2024-04-05T12:02:10.980Z"
   },
   {
    "duration": 5,
    "start_time": "2024-04-05T12:10:41.127Z"
   },
   {
    "duration": 19,
    "start_time": "2024-04-05T12:10:49.472Z"
   },
   {
    "duration": 5,
    "start_time": "2024-04-05T12:11:27.478Z"
   },
   {
    "duration": 4,
    "start_time": "2024-04-05T12:12:12.183Z"
   },
   {
    "duration": 5,
    "start_time": "2024-04-05T12:12:14.344Z"
   },
   {
    "duration": 3,
    "start_time": "2024-04-05T12:12:40.501Z"
   },
   {
    "duration": 6,
    "start_time": "2024-04-05T12:12:42.604Z"
   },
   {
    "duration": 20,
    "start_time": "2024-04-05T12:12:44.345Z"
   },
   {
    "duration": 2,
    "start_time": "2024-04-05T12:13:16.776Z"
   },
   {
    "duration": 12,
    "start_time": "2024-04-05T12:13:28.786Z"
   },
   {
    "duration": 1392,
    "start_time": "2024-04-05T12:13:37.951Z"
   },
   {
    "duration": 941,
    "start_time": "2024-04-05T12:13:39.345Z"
   },
   {
    "duration": 31,
    "start_time": "2024-04-05T12:13:40.287Z"
   },
   {
    "duration": 20,
    "start_time": "2024-04-05T12:13:40.320Z"
   },
   {
    "duration": 229,
    "start_time": "2024-04-05T12:13:40.343Z"
   },
   {
    "duration": 3,
    "start_time": "2024-04-05T12:13:40.574Z"
   },
   {
    "duration": 686990,
    "start_time": "2024-04-05T12:13:40.578Z"
   },
   {
    "duration": 3,
    "start_time": "2024-04-05T12:25:07.570Z"
   },
   {
    "duration": 64,
    "start_time": "2024-04-05T12:25:07.574Z"
   },
   {
    "duration": 184,
    "start_time": "2024-04-05T12:25:07.639Z"
   },
   {
    "duration": 56,
    "start_time": "2024-04-05T12:25:07.825Z"
   },
   {
    "duration": 4,
    "start_time": "2024-04-05T12:25:07.883Z"
   },
   {
    "duration": 732,
    "start_time": "2024-04-05T12:25:07.888Z"
   },
   {
    "duration": 46,
    "start_time": "2024-04-05T12:25:08.622Z"
   },
   {
    "duration": 21674,
    "start_time": "2024-04-05T12:25:08.670Z"
   },
   {
    "duration": 2073,
    "start_time": "2024-04-05T12:25:30.346Z"
   },
   {
    "duration": 12282,
    "start_time": "2024-04-05T12:26:43.628Z"
   },
   {
    "duration": 676,
    "start_time": "2024-04-05T12:27:17.611Z"
   },
   {
    "duration": 56,
    "start_time": "2024-04-05T12:33:41.017Z"
   },
   {
    "duration": 13,
    "start_time": "2024-04-05T12:37:11.536Z"
   },
   {
    "duration": 3,
    "start_time": "2024-04-05T12:37:58.099Z"
   },
   {
    "duration": 12,
    "start_time": "2024-04-05T12:39:02.987Z"
   },
   {
    "duration": 130,
    "start_time": "2024-04-05T12:39:04.961Z"
   },
   {
    "duration": 16,
    "start_time": "2024-04-05T12:41:37.429Z"
   },
   {
    "duration": 6,
    "start_time": "2024-04-05T12:46:39.652Z"
   },
   {
    "duration": 1343,
    "start_time": "2024-04-05T12:52:06.593Z"
   },
   {
    "duration": 984,
    "start_time": "2024-04-05T12:52:07.938Z"
   },
   {
    "duration": 41,
    "start_time": "2024-04-05T12:52:08.924Z"
   },
   {
    "duration": 13,
    "start_time": "2024-04-05T12:52:08.968Z"
   },
   {
    "duration": 245,
    "start_time": "2024-04-05T12:52:08.982Z"
   },
   {
    "duration": 2,
    "start_time": "2024-04-05T12:52:09.229Z"
   },
   {
    "duration": 3936,
    "start_time": "2024-04-05T13:16:25.766Z"
   },
   {
    "duration": 4126,
    "start_time": "2024-04-05T13:16:29.704Z"
   },
   {
    "duration": 82,
    "start_time": "2024-04-05T13:16:33.832Z"
   },
   {
    "duration": 74,
    "start_time": "2024-04-05T13:16:33.916Z"
   },
   {
    "duration": 491,
    "start_time": "2024-04-05T13:16:33.992Z"
   },
   {
    "duration": 3,
    "start_time": "2024-04-05T13:16:34.484Z"
   },
   {
    "duration": 3063,
    "start_time": "2024-04-05T16:16:52.351Z"
   },
   {
    "duration": 1020,
    "start_time": "2024-04-05T16:16:55.415Z"
   },
   {
    "duration": 31,
    "start_time": "2024-04-05T16:16:56.436Z"
   },
   {
    "duration": 23,
    "start_time": "2024-04-05T16:16:56.468Z"
   },
   {
    "duration": 250,
    "start_time": "2024-04-05T16:16:56.494Z"
   },
   {
    "duration": 3,
    "start_time": "2024-04-05T16:16:56.745Z"
   },
   {
    "duration": 924230,
    "start_time": "2024-04-05T16:16:56.749Z"
   },
   {
    "duration": 0,
    "start_time": "2024-04-05T16:32:20.981Z"
   },
   {
    "duration": 0,
    "start_time": "2024-04-05T16:32:20.983Z"
   },
   {
    "duration": 0,
    "start_time": "2024-04-05T16:32:20.985Z"
   },
   {
    "duration": 0,
    "start_time": "2024-04-05T16:32:20.987Z"
   },
   {
    "duration": 0,
    "start_time": "2024-04-05T16:32:20.988Z"
   },
   {
    "duration": 0,
    "start_time": "2024-04-05T16:32:20.989Z"
   },
   {
    "duration": 0,
    "start_time": "2024-04-05T16:32:20.990Z"
   },
   {
    "duration": 0,
    "start_time": "2024-04-05T16:32:20.991Z"
   },
   {
    "duration": 0,
    "start_time": "2024-04-05T16:32:20.992Z"
   },
   {
    "duration": 0,
    "start_time": "2024-04-05T16:32:20.993Z"
   },
   {
    "duration": 0,
    "start_time": "2024-04-05T16:32:20.994Z"
   },
   {
    "duration": 94188,
    "start_time": "2024-04-05T16:32:37.292Z"
   },
   {
    "duration": 102941,
    "start_time": "2024-04-05T16:40:35.154Z"
   },
   {
    "duration": 2,
    "start_time": "2024-04-05T16:42:34.987Z"
   },
   {
    "duration": 76,
    "start_time": "2024-04-05T16:42:35.906Z"
   },
   {
    "duration": 7830,
    "start_time": "2024-04-05T16:42:36.829Z"
   },
   {
    "duration": 38720,
    "start_time": "2024-04-05T16:42:44.661Z"
   },
   {
    "duration": 4,
    "start_time": "2024-04-05T16:43:23.382Z"
   },
   {
    "duration": 204897,
    "start_time": "2024-04-05T16:43:23.388Z"
   },
   {
    "duration": 13121,
    "start_time": "2024-04-05T16:46:48.286Z"
   },
   {
    "duration": 1336,
    "start_time": "2024-04-07T11:13:20.210Z"
   },
   {
    "duration": 2331,
    "start_time": "2024-04-07T11:13:21.548Z"
   },
   {
    "duration": 33,
    "start_time": "2024-04-07T11:13:23.881Z"
   },
   {
    "duration": 12,
    "start_time": "2024-04-07T11:13:23.916Z"
   },
   {
    "duration": 224,
    "start_time": "2024-04-07T11:13:23.930Z"
   },
   {
    "duration": 3,
    "start_time": "2024-04-07T11:13:24.155Z"
   },
   {
    "duration": 84290,
    "start_time": "2024-04-07T11:13:24.159Z"
   },
   {
    "duration": 3,
    "start_time": "2024-04-07T11:14:48.451Z"
   },
   {
    "duration": 80,
    "start_time": "2024-04-07T11:14:48.455Z"
   },
   {
    "duration": 6649,
    "start_time": "2024-04-07T11:14:48.536Z"
   },
   {
    "duration": 38093,
    "start_time": "2024-04-07T11:14:55.187Z"
   },
   {
    "duration": 83,
    "start_time": "2024-04-07T11:15:33.283Z"
   },
   {
    "duration": 171871,
    "start_time": "2024-04-07T11:15:33.368Z"
   },
   {
    "duration": 11447,
    "start_time": "2024-04-07T11:18:25.242Z"
   },
   {
    "duration": 600892,
    "start_time": "2024-04-07T11:18:36.691Z"
   },
   {
    "duration": 32588,
    "start_time": "2024-04-07T11:28:37.584Z"
   },
   {
    "duration": 276,
    "start_time": "2024-04-07T11:29:10.174Z"
   },
   {
    "duration": 20,
    "start_time": "2024-04-07T11:29:10.452Z"
   },
   {
    "duration": 538,
    "start_time": "2024-04-07T11:42:17.720Z"
   },
   {
    "duration": 3181,
    "start_time": "2024-04-07T12:01:24.771Z"
   },
   {
    "duration": 604,
    "start_time": "2024-04-07T12:04:38.052Z"
   },
   {
    "duration": 445,
    "start_time": "2024-04-07T12:05:54.737Z"
   },
   {
    "duration": 55,
    "start_time": "2024-04-07T12:06:49.166Z"
   },
   {
    "duration": 562,
    "start_time": "2024-04-07T12:07:15.820Z"
   },
   {
    "duration": 10768,
    "start_time": "2024-04-07T12:08:07.303Z"
   },
   {
    "duration": 1536,
    "start_time": "2024-04-07T12:21:52.512Z"
   },
   {
    "duration": 4,
    "start_time": "2024-04-07T12:22:22.256Z"
   },
   {
    "duration": 4,
    "start_time": "2024-04-07T12:22:30.899Z"
   },
   {
    "duration": 4,
    "start_time": "2024-04-07T12:24:49.213Z"
   },
   {
    "duration": 3,
    "start_time": "2024-04-07T12:25:34.532Z"
   },
   {
    "duration": 52,
    "start_time": "2024-04-07T12:47:04.064Z"
   },
   {
    "duration": 634,
    "start_time": "2024-04-07T12:47:43.300Z"
   },
   {
    "duration": 13,
    "start_time": "2024-04-07T12:48:46.516Z"
   },
   {
    "duration": 21,
    "start_time": "2024-04-07T12:49:37.613Z"
   },
   {
    "duration": 21,
    "start_time": "2024-04-07T12:49:48.529Z"
   },
   {
    "duration": 8,
    "start_time": "2024-04-07T12:49:58.032Z"
   },
   {
    "duration": 9,
    "start_time": "2024-04-07T12:54:10.520Z"
   },
   {
    "duration": 58347,
    "start_time": "2024-04-07T12:54:36.260Z"
   },
   {
    "duration": 27339,
    "start_time": "2024-04-07T12:55:35.198Z"
   },
   {
    "duration": 51,
    "start_time": "2024-04-07T12:58:50.529Z"
   },
   {
    "duration": 1367,
    "start_time": "2024-04-07T13:02:17.474Z"
   },
   {
    "duration": 1036,
    "start_time": "2024-04-07T13:02:18.843Z"
   },
   {
    "duration": 33,
    "start_time": "2024-04-07T13:02:19.881Z"
   },
   {
    "duration": 13,
    "start_time": "2024-04-07T13:02:19.916Z"
   },
   {
    "duration": 224,
    "start_time": "2024-04-07T13:02:19.931Z"
   },
   {
    "duration": 399,
    "start_time": "2024-04-07T13:02:20.157Z"
   },
   {
    "duration": 1263164,
    "start_time": "2024-04-07T13:02:20.557Z"
   },
   {
    "duration": 75,
    "start_time": "2024-04-07T13:23:23.723Z"
   },
   {
    "duration": 6715,
    "start_time": "2024-04-07T13:23:23.799Z"
   },
   {
    "duration": 44856,
    "start_time": "2024-04-07T13:23:30.515Z"
   },
   {
    "duration": 3,
    "start_time": "2024-04-07T13:24:15.373Z"
   },
   {
    "duration": 247844,
    "start_time": "2024-04-07T13:24:15.378Z"
   },
   {
    "duration": 16438,
    "start_time": "2024-04-07T13:28:23.223Z"
   },
   {
    "duration": 44,
    "start_time": "2024-04-08T11:23:44.749Z"
   },
   {
    "duration": 1400,
    "start_time": "2024-04-08T11:24:09.757Z"
   },
   {
    "duration": 3347,
    "start_time": "2024-04-08T11:24:11.159Z"
   },
   {
    "duration": 30,
    "start_time": "2024-04-08T11:24:14.507Z"
   },
   {
    "duration": 11,
    "start_time": "2024-04-08T11:24:14.539Z"
   },
   {
    "duration": 215,
    "start_time": "2024-04-08T11:24:14.552Z"
   },
   {
    "duration": 578,
    "start_time": "2024-04-08T11:24:14.769Z"
   },
   {
    "duration": 1275966,
    "start_time": "2024-04-08T11:24:15.348Z"
   },
   {
    "duration": 69,
    "start_time": "2024-04-08T11:45:31.316Z"
   },
   {
    "duration": 6696,
    "start_time": "2024-04-08T11:45:31.386Z"
   },
   {
    "duration": 44187,
    "start_time": "2024-04-08T11:45:38.084Z"
   },
   {
    "duration": 249098,
    "start_time": "2024-04-08T11:46:22.273Z"
   },
   {
    "duration": 16473,
    "start_time": "2024-04-08T11:50:31.372Z"
   },
   {
    "duration": 815325,
    "start_time": "2024-04-08T11:50:47.847Z"
   },
   {
    "duration": 45606,
    "start_time": "2024-04-08T12:04:23.173Z"
   },
   {
    "duration": 205,
    "start_time": "2024-04-08T12:05:08.781Z"
   },
   {
    "duration": 10,
    "start_time": "2024-04-08T12:05:08.987Z"
   },
   {
    "duration": 120,
    "start_time": "2024-04-08T12:06:02.242Z"
   },
   {
    "duration": 450027,
    "start_time": "2024-04-08T12:06:32.641Z"
   },
   {
    "duration": 46326,
    "start_time": "2024-04-08T12:15:51.835Z"
   },
   {
    "duration": 9,
    "start_time": "2024-04-08T12:18:28.915Z"
   },
   {
    "duration": 46637,
    "start_time": "2024-04-08T12:21:04.423Z"
   },
   {
    "duration": 11,
    "start_time": "2024-04-08T12:21:58.196Z"
   },
   {
    "duration": 3193,
    "start_time": "2024-04-08T12:54:53.799Z"
   },
   {
    "duration": 3489,
    "start_time": "2024-04-08T12:54:56.994Z"
   },
   {
    "duration": 36,
    "start_time": "2024-04-08T12:55:00.484Z"
   },
   {
    "duration": 113,
    "start_time": "2024-04-08T12:55:00.522Z"
   },
   {
    "duration": 398,
    "start_time": "2024-04-08T12:55:00.638Z"
   },
   {
    "duration": 552,
    "start_time": "2024-04-08T12:55:01.038Z"
   },
   {
    "duration": 1464586,
    "start_time": "2024-04-08T12:55:01.591Z"
   },
   {
    "duration": 58,
    "start_time": "2024-04-08T13:19:26.180Z"
   },
   {
    "duration": 7473,
    "start_time": "2024-04-08T13:19:26.240Z"
   },
   {
    "duration": 473467,
    "start_time": "2024-04-08T13:19:33.714Z"
   },
   {
    "duration": 282222,
    "start_time": "2024-04-08T13:27:27.183Z"
   },
   {
    "duration": 42784,
    "start_time": "2024-04-08T13:32:09.407Z"
   },
   {
    "duration": 0,
    "start_time": "2024-04-08T13:32:52.193Z"
   },
   {
    "duration": 0,
    "start_time": "2024-04-08T13:32:52.196Z"
   },
   {
    "duration": 44,
    "start_time": "2024-04-08T14:08:42.288Z"
   },
   {
    "duration": 1334,
    "start_time": "2024-04-08T14:09:15.224Z"
   },
   {
    "duration": 2205,
    "start_time": "2024-04-08T14:09:16.560Z"
   },
   {
    "duration": 32,
    "start_time": "2024-04-08T14:09:18.767Z"
   },
   {
    "duration": 12,
    "start_time": "2024-04-08T14:09:18.801Z"
   },
   {
    "duration": 205,
    "start_time": "2024-04-08T14:09:18.815Z"
   },
   {
    "duration": 552,
    "start_time": "2024-04-08T14:09:19.022Z"
   },
   {
    "duration": 8962,
    "start_time": "2024-04-08T14:09:19.576Z"
   },
   {
    "duration": 0,
    "start_time": "2024-04-08T14:09:28.540Z"
   },
   {
    "duration": 0,
    "start_time": "2024-04-08T14:09:28.541Z"
   },
   {
    "duration": 0,
    "start_time": "2024-04-08T14:09:28.542Z"
   },
   {
    "duration": 0,
    "start_time": "2024-04-08T14:09:28.543Z"
   },
   {
    "duration": 0,
    "start_time": "2024-04-08T14:09:28.544Z"
   },
   {
    "duration": 0,
    "start_time": "2024-04-08T14:09:28.545Z"
   },
   {
    "duration": 0,
    "start_time": "2024-04-08T14:09:28.546Z"
   },
   {
    "duration": 186,
    "start_time": "2024-04-08T14:13:25.156Z"
   },
   {
    "duration": 4,
    "start_time": "2024-04-08T14:13:49.023Z"
   },
   {
    "duration": 174,
    "start_time": "2024-04-08T14:13:53.612Z"
   },
   {
    "duration": 1461,
    "start_time": "2024-04-08T14:16:13.737Z"
   },
   {
    "duration": 875,
    "start_time": "2024-04-08T14:16:15.200Z"
   },
   {
    "duration": 27,
    "start_time": "2024-04-08T14:16:16.077Z"
   },
   {
    "duration": 11,
    "start_time": "2024-04-08T14:16:16.106Z"
   },
   {
    "duration": 214,
    "start_time": "2024-04-08T14:16:16.119Z"
   },
   {
    "duration": 45,
    "start_time": "2024-04-08T14:20:47.467Z"
   },
   {
    "duration": 1481,
    "start_time": "2024-04-08T14:20:53.783Z"
   },
   {
    "duration": 2191,
    "start_time": "2024-04-08T14:20:55.266Z"
   },
   {
    "duration": 32,
    "start_time": "2024-04-08T14:20:57.459Z"
   },
   {
    "duration": 11,
    "start_time": "2024-04-08T14:20:57.493Z"
   },
   {
    "duration": 208,
    "start_time": "2024-04-08T14:20:57.506Z"
   },
   {
    "duration": 158652,
    "start_time": "2024-04-08T14:20:57.716Z"
   },
   {
    "duration": 0,
    "start_time": "2024-04-08T14:23:36.370Z"
   },
   {
    "duration": 0,
    "start_time": "2024-04-08T14:23:36.371Z"
   },
   {
    "duration": 0,
    "start_time": "2024-04-08T14:23:36.372Z"
   },
   {
    "duration": 0,
    "start_time": "2024-04-08T14:23:36.373Z"
   },
   {
    "duration": 0,
    "start_time": "2024-04-08T14:23:36.374Z"
   },
   {
    "duration": 0,
    "start_time": "2024-04-08T14:23:36.374Z"
   },
   {
    "duration": 1,
    "start_time": "2024-04-08T14:23:36.375Z"
   },
   {
    "duration": 0,
    "start_time": "2024-04-08T14:23:36.376Z"
   },
   {
    "duration": 3,
    "start_time": "2024-04-08T14:23:39.803Z"
   },
   {
    "duration": 813,
    "start_time": "2024-04-08T14:23:43.805Z"
   },
   {
    "duration": 30,
    "start_time": "2024-04-08T14:23:45.832Z"
   },
   {
    "duration": 11,
    "start_time": "2024-04-08T14:23:51.918Z"
   },
   {
    "duration": 199,
    "start_time": "2024-04-08T14:23:54.073Z"
   },
   {
    "duration": 39,
    "start_time": "2024-04-08T14:23:57.095Z"
   },
   {
    "duration": 64,
    "start_time": "2024-04-08T14:24:19.290Z"
   },
   {
    "duration": 5738,
    "start_time": "2024-04-08T14:24:36.452Z"
   },
   {
    "duration": 155,
    "start_time": "2024-04-08T14:26:01.558Z"
   },
   {
    "duration": 1416,
    "start_time": "2024-04-08T14:29:05.711Z"
   },
   {
    "duration": 861,
    "start_time": "2024-04-08T14:29:07.129Z"
   },
   {
    "duration": 29,
    "start_time": "2024-04-08T14:29:07.992Z"
   },
   {
    "duration": 25,
    "start_time": "2024-04-08T14:29:08.023Z"
   },
   {
    "duration": 229,
    "start_time": "2024-04-08T14:29:08.050Z"
   },
   {
    "duration": 182,
    "start_time": "2024-04-08T14:29:08.280Z"
   },
   {
    "duration": 1240201,
    "start_time": "2024-04-08T14:29:08.463Z"
   },
   {
    "duration": 49,
    "start_time": "2024-04-08T14:49:48.666Z"
   },
   {
    "duration": 6396,
    "start_time": "2024-04-08T14:49:48.717Z"
   },
   {
    "duration": 461141,
    "start_time": "2024-04-08T14:49:55.116Z"
   },
   {
    "duration": 240920,
    "start_time": "2024-04-08T14:57:36.258Z"
   },
   {
    "duration": 799087,
    "start_time": "2024-04-08T15:01:37.179Z"
   },
   {
    "duration": 0,
    "start_time": "2024-04-08T15:14:56.267Z"
   },
   {
    "duration": 0,
    "start_time": "2024-04-08T15:14:56.269Z"
   },
   {
    "duration": 798366,
    "start_time": "2024-04-08T15:16:26.226Z"
   },
   {
    "duration": 46080,
    "start_time": "2024-04-08T15:30:15.279Z"
   },
   {
    "duration": 10,
    "start_time": "2024-04-08T15:31:06.452Z"
   }
  ],
  "kernelspec": {
   "display_name": "Python 3 (ipykernel)",
   "language": "python",
   "name": "python3"
  },
  "language_info": {
   "codemirror_mode": {
    "name": "ipython",
    "version": 3
   },
   "file_extension": ".py",
   "mimetype": "text/x-python",
   "name": "python",
   "nbconvert_exporter": "python",
   "pygments_lexer": "ipython3",
   "version": "3.10.9"
  },
  "toc": {
   "base_numbering": 1,
   "nav_menu": {},
   "number_sections": true,
   "sideBar": true,
   "skip_h1_title": true,
   "title_cell": "Содержание",
   "title_sidebar": "Contents",
   "toc_cell": true,
   "toc_position": {
    "height": "calc(100% - 180px)",
    "left": "10px",
    "top": "150px",
    "width": "302.391px"
   },
   "toc_section_display": true,
   "toc_window_display": false
  }
 },
 "nbformat": 4,
 "nbformat_minor": 2
}
