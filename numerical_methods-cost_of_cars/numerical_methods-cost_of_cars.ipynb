{
 "cells": [
  {
   "cell_type": "markdown",
   "metadata": {},
   "source": [
    "# Определение стоимости автомобилей"
   ]
  },
  {
   "cell_type": "markdown",
   "metadata": {},
   "source": [
    "Сервис по продаже автомобилей с пробегом «Не бит, не крашен» разрабатывает приложение для привлечения новых клиентов. В нём можно быстро узнать рыночную стоимость своего автомобиля. В вашем распоряжении исторические данные: технические характеристики, комплектации и цены автомобилей. Вам нужно построить модель для определения стоимости. \n",
    "\n",
    "Заказчику важны:\n",
    "\n",
    "- качество предсказания;\n",
    "- скорость предсказания;\n",
    "- время обучения."
   ]
  },
  {
   "cell_type": "markdown",
   "metadata": {},
   "source": [
    "## Подготовка данных"
   ]
  },
  {
   "cell_type": "code",
   "execution_count": 1,
   "metadata": {},
   "outputs": [
    {
     "name": "stdout",
     "output_type": "stream",
     "text": [
      "Collecting lightgbm\n",
      "  Downloading lightgbm-4.4.0-py3-none-macosx_10_15_x86_64.macosx_11_6_x86_64.macosx_12_5_x86_64.whl (2.0 MB)\n",
      "\u001b[2K     \u001b[90m━━━━━━━━━━━━━━━━━━━━━━━━━━━━━━━━━━━━━━━━\u001b[0m \u001b[32m2.0/2.0 MB\u001b[0m \u001b[31m1.7 MB/s\u001b[0m eta \u001b[36m0:00:00\u001b[0m00:01\u001b[0m00:01\u001b[0m0m\n",
      "\u001b[?25hRequirement already satisfied: scipy in /Users/lena/anaconda3/lib/python3.10/site-packages (from lightgbm) (1.10.0)\n",
      "Requirement already satisfied: numpy>=1.17.0 in /Users/lena/anaconda3/lib/python3.10/site-packages (from lightgbm) (1.23.5)\n",
      "Installing collected packages: lightgbm\n",
      "Successfully installed lightgbm-4.4.0\n"
     ]
    }
   ],
   "source": [
    "import pandas as pd\n",
    "from sklearn.model_selection import train_test_split\n",
    "!pip install lightgbm\n",
    "from lightgbm import LGBMRegressor\n",
    "from sklearn.metrics import mean_squared_error\n",
    "from sklearn.tree import DecisionTreeRegressor\n",
    "from sklearn.ensemble import RandomForestRegressor\n",
    "from sklearn.preprocessing import OrdinalEncoder\n",
    "from sklearn.preprocessing import StandardScaler"
   ]
  },
  {
   "cell_type": "code",
   "execution_count": 2,
   "metadata": {},
   "outputs": [],
   "source": [
    "data = pd.read_csv('autos.csv')"
   ]
  },
  {
   "cell_type": "code",
   "execution_count": 3,
   "metadata": {},
   "outputs": [],
   "source": [
    "data['DateCrawled'] = pd.to_datetime(data['DateCrawled'], format='%Y-%m-%d')\n",
    "data['MonthCrawled'] = data['DateCrawled'].dt.month\n",
    "data['YearCrawled'] = data['DateCrawled'].dt.year\n",
    "\n",
    "data = data.loc[data['RegistrationYear'] <= data['YearCrawled']]\n",
    "data = data.drop(data.loc[(data['RegistrationYear'] == data['YearCrawled']) \n",
    "                          & (data['MonthCrawled'] < data['RegistrationMonth'])].index)"
   ]
  },
  {
   "cell_type": "markdown",
   "metadata": {},
   "source": [
    "Разбила дату по месяцам, годам. Удалила строки, где дата публикации раньше, чем выпуск автомобиля."
   ]
  },
  {
   "cell_type": "code",
   "execution_count": 4,
   "metadata": {
    "scrolled": true
   },
   "outputs": [
    {
     "name": "stdout",
     "output_type": "stream",
     "text": [
      "<class 'pandas.core.frame.DataFrame'>\n",
      "Int64Index: 334610 entries, 0 to 354368\n",
      "Data columns (total 18 columns):\n",
      " #   Column             Non-Null Count   Dtype         \n",
      "---  ------             --------------   -----         \n",
      " 0   DateCrawled        334610 non-null  datetime64[ns]\n",
      " 1   Price              334610 non-null  int64         \n",
      " 2   VehicleType        316830 non-null  object        \n",
      " 3   RegistrationYear   334610 non-null  int64         \n",
      " 4   Gearbox            317124 non-null  object        \n",
      " 5   Power              334610 non-null  int64         \n",
      " 6   Model              317618 non-null  object        \n",
      " 7   Kilometer          334610 non-null  int64         \n",
      " 8   RegistrationMonth  334610 non-null  int64         \n",
      " 9   FuelType           309414 non-null  object        \n",
      " 10  Brand              334610 non-null  object        \n",
      " 11  Repaired           271924 non-null  object        \n",
      " 12  DateCreated        334610 non-null  object        \n",
      " 13  NumberOfPictures   334610 non-null  int64         \n",
      " 14  PostalCode         334610 non-null  int64         \n",
      " 15  LastSeen           334610 non-null  object        \n",
      " 16  MonthCrawled       334610 non-null  int64         \n",
      " 17  YearCrawled        334610 non-null  int64         \n",
      "dtypes: datetime64[ns](1), int64(9), object(8)\n",
      "memory usage: 48.5+ MB\n",
      "          DateCrawled  Price  VehicleType  RegistrationYear Gearbox  Power  \\\n",
      "0 2016-03-24 11:52:17    480          NaN              1993  manual      0   \n",
      "1 2016-03-24 10:58:45  18300        coupe              2011  manual    190   \n",
      "2 2016-03-14 12:52:21   9800          suv              2004    auto    163   \n",
      "3 2016-03-17 16:54:04   1500        small              2001  manual     75   \n",
      "4 2016-03-31 17:25:20   3600        small              2008  manual     69   \n",
      "5 2016-04-04 17:36:23    650        sedan              1995  manual    102   \n",
      "6 2016-04-01 20:48:51   2200  convertible              2004  manual    109   \n",
      "7 2016-03-21 18:54:38      0        sedan              1980  manual     50   \n",
      "8 2016-04-04 23:42:13  14500          bus              2014  manual    125   \n",
      "9 2016-03-17 10:53:50    999        small              1998  manual    101   \n",
      "\n",
      "     Model  Kilometer  RegistrationMonth  FuelType       Brand Repaired  \\\n",
      "0     golf     150000                  0    petrol  volkswagen      NaN   \n",
      "1      NaN     125000                  5  gasoline        audi      yes   \n",
      "2    grand     125000                  8  gasoline        jeep      NaN   \n",
      "3     golf     150000                  6    petrol  volkswagen       no   \n",
      "4    fabia      90000                  7  gasoline       skoda       no   \n",
      "5      3er     150000                 10    petrol         bmw      yes   \n",
      "6  2_reihe     150000                  8    petrol     peugeot       no   \n",
      "7    other      40000                  7    petrol  volkswagen       no   \n",
      "8    c_max      30000                  8    petrol        ford      NaN   \n",
      "9     golf     150000                  0       NaN  volkswagen      NaN   \n",
      "\n",
      "           DateCreated  NumberOfPictures  PostalCode             LastSeen  \\\n",
      "0  2016-03-24 00:00:00                 0       70435  2016-04-07 03:16:57   \n",
      "1  2016-03-24 00:00:00                 0       66954  2016-04-07 01:46:50   \n",
      "2  2016-03-14 00:00:00                 0       90480  2016-04-05 12:47:46   \n",
      "3  2016-03-17 00:00:00                 0       91074  2016-03-17 17:40:17   \n",
      "4  2016-03-31 00:00:00                 0       60437  2016-04-06 10:17:21   \n",
      "5  2016-04-04 00:00:00                 0       33775  2016-04-06 19:17:07   \n",
      "6  2016-04-01 00:00:00                 0       67112  2016-04-05 18:18:39   \n",
      "7  2016-03-21 00:00:00                 0       19348  2016-03-25 16:47:58   \n",
      "8  2016-04-04 00:00:00                 0       94505  2016-04-04 23:42:13   \n",
      "9  2016-03-17 00:00:00                 0       27472  2016-03-31 17:17:06   \n",
      "\n",
      "   MonthCrawled  YearCrawled  \n",
      "0             3         2016  \n",
      "1             3         2016  \n",
      "2             3         2016  \n",
      "3             3         2016  \n",
      "4             3         2016  \n",
      "5             4         2016  \n",
      "6             4         2016  \n",
      "7             3         2016  \n",
      "8             4         2016  \n",
      "9             3         2016  \n"
     ]
    }
   ],
   "source": [
    "data.info()\n",
    "print(data.head(10))\n",
    "data = data.drop(columns=\n",
    "    ['DateCrawled', 'NumberOfPictures', 'PostalCode', 'LastSeen', 'DateCreated', 'RegistrationMonth'], axis=1)"
   ]
  },
  {
   "cell_type": "markdown",
   "metadata": {},
   "source": [
    "Удалила лишние признаки, которые не имеют значения для модели."
   ]
  },
  {
   "cell_type": "code",
   "execution_count": 5,
   "metadata": {},
   "outputs": [
    {
     "name": "stdout",
     "output_type": "stream",
     "text": [
      "37519\n"
     ]
    }
   ],
   "source": [
    "print(data.duplicated().sum())"
   ]
  },
  {
   "cell_type": "code",
   "execution_count": 6,
   "metadata": {},
   "outputs": [],
   "source": [
    "data = data.drop_duplicates().reset_index(drop = True)"
   ]
  },
  {
   "cell_type": "markdown",
   "metadata": {},
   "source": [
    "Проверила наличие дубликатов и удалила их"
   ]
  },
  {
   "cell_type": "code",
   "execution_count": 7,
   "metadata": {},
   "outputs": [
    {
     "name": "stdout",
     "output_type": "stream",
     "text": [
      "count    297091.000000\n",
      "mean       4567.036689\n",
      "std        4602.961863\n",
      "min           0.000000\n",
      "25%        1100.000000\n",
      "50%        2890.000000\n",
      "75%        6600.000000\n",
      "max       20000.000000\n",
      "Name: Price, dtype: float64\n"
     ]
    }
   ],
   "source": [
    "print(data['Price'].describe())\n",
    "data = data.loc[data['Price'] > 500]"
   ]
  },
  {
   "cell_type": "markdown",
   "metadata": {},
   "source": [
    "По диаграмме размаха межквартильный интервал +- 3 сигмы покрывают весь размах наблюдений. Выбросов не обнаружено. Удалила строки, где цена <500, это неправдоподобное значение или ошибка."
   ]
  },
  {
   "cell_type": "code",
   "execution_count": 8,
   "metadata": {
    "scrolled": true
   },
   "outputs": [
    {
     "name": "stdout",
     "output_type": "stream",
     "text": [
      "count    262434.000000\n",
      "mean       2002.755889\n",
      "std          10.068875\n",
      "min        1000.000000\n",
      "25%        1999.000000\n",
      "50%        2003.000000\n",
      "75%        2007.000000\n",
      "max        2016.000000\n",
      "Name: RegistrationYear, dtype: float64\n"
     ]
    }
   ],
   "source": [
    "print(data['RegistrationYear'].describe())\n",
    "data = data.loc[data['RegistrationYear'] < 2020]\n",
    "data = data.loc[data['RegistrationYear'] > 1900]\n"
   ]
  },
  {
   "cell_type": "markdown",
   "metadata": {},
   "source": [
    "В годах выпуска неправдоподобные те, что больше текущего календарного года и меньше 1900, удалил."
   ]
  },
  {
   "cell_type": "code",
   "execution_count": 9,
   "metadata": {},
   "outputs": [
    {
     "name": "stdout",
     "output_type": "stream",
     "text": [
      "count    262414.000000\n",
      "mean        117.918735\n",
      "std         195.849573\n",
      "min           0.000000\n",
      "25%          75.000000\n",
      "50%         110.000000\n",
      "75%         150.000000\n",
      "max       20000.000000\n",
      "Name: Power, dtype: float64\n"
     ]
    }
   ],
   "source": [
    "print(data['Power'].describe())\n",
    "data = data.loc[data['Power'] < 400]\n",
    "data = data.loc[data['Power'] != 0]\n",
    "data = data.loc[data['Power'] >= 50]"
   ]
  },
  {
   "cell_type": "markdown",
   "metadata": {},
   "source": [
    "По диаграмме размаха удалил значения > 400(результат 365, округлил) и околонулевые значения мощности (меньше 50лс)."
   ]
  },
  {
   "cell_type": "code",
   "execution_count": 10,
   "metadata": {},
   "outputs": [
    {
     "name": "stdout",
     "output_type": "stream",
     "text": [
      "count    237047.000000\n",
      "mean     126814.766692\n",
      "std       37385.318151\n",
      "min        5000.000000\n",
      "25%      125000.000000\n",
      "50%      150000.000000\n",
      "75%      150000.000000\n",
      "max      150000.000000\n",
      "Name: Kilometer, dtype: float64\n"
     ]
    }
   ],
   "source": [
    "print(data['Kilometer'].describe())"
   ]
  },
  {
   "cell_type": "markdown",
   "metadata": {},
   "source": [
    "В данном столбце все значения выглядят правдопрдобно и вписываются в диаграмму размаха."
   ]
  },
  {
   "cell_type": "code",
   "execution_count": 11,
   "metadata": {},
   "outputs": [
    {
     "name": "stdout",
     "output_type": "stream",
     "text": [
      "             Price\n",
      "VehicleType       \n",
      "bus          23295\n",
      "convertible  16556\n",
      "coupe        12529\n",
      "other         2061\n",
      "sedan        68334\n",
      "small        50350\n",
      "suv           9780\n",
      "wagon        49281\n"
     ]
    }
   ],
   "source": [
    "VehicleType = data.pivot_table(index='VehicleType', values='Price', aggfunc='count')\n",
    "print(VehicleType)"
   ]
  },
  {
   "cell_type": "code",
   "execution_count": 12,
   "metadata": {},
   "outputs": [
    {
     "name": "stdout",
     "output_type": "stream",
     "text": [
      "          Price\n",
      "Gearbox        \n",
      "auto      50520\n",
      "manual   182731\n"
     ]
    }
   ],
   "source": [
    "Gearbox = data.pivot_table(index='Gearbox', values='Price', aggfunc='count')\n",
    "print(Gearbox)"
   ]
  },
  {
   "cell_type": "code",
   "execution_count": 13,
   "metadata": {},
   "outputs": [
    {
     "name": "stdout",
     "output_type": "stream",
     "text": [
      "         Price\n",
      "Model         \n",
      "100        274\n",
      "145         21\n",
      "147        421\n",
      "156        414\n",
      "159        184\n",
      "...        ...\n",
      "yaris      824\n",
      "yeti       157\n",
      "ypsilon    123\n",
      "z_reihe    640\n",
      "zafira    2104\n",
      "\n",
      "[249 rows x 1 columns]\n"
     ]
    }
   ],
   "source": [
    "Model = data.pivot_table(index='Model', values='Price', aggfunc='count')\n",
    "print(Model)"
   ]
  },
  {
   "cell_type": "code",
   "execution_count": 14,
   "metadata": {},
   "outputs": [
    {
     "name": "stdout",
     "output_type": "stream",
     "text": [
      "           Price\n",
      "FuelType        \n",
      "cng          427\n",
      "electric      30\n",
      "gasoline   75303\n",
      "hybrid       186\n",
      "lpg         4139\n",
      "other         44\n",
      "petrol    146475\n"
     ]
    }
   ],
   "source": [
    "FuelType = data.pivot_table(index='FuelType', values='Price', aggfunc='count')\n",
    "print(FuelType)"
   ]
  },
  {
   "cell_type": "code",
   "execution_count": 15,
   "metadata": {},
   "outputs": [
    {
     "name": "stdout",
     "output_type": "stream",
     "text": [
      "                Price\n",
      "Brand                \n",
      "alfa_romeo       1668\n",
      "audi            21577\n",
      "bmw             27126\n",
      "chevrolet        1342\n",
      "chrysler         1013\n",
      "citroen          3566\n",
      "dacia             726\n",
      "daewoo            296\n",
      "daihatsu          414\n",
      "fiat             5672\n",
      "ford            15782\n",
      "honda            2030\n",
      "hyundai          2729\n",
      "jaguar            411\n",
      "jeep              538\n",
      "kia              1819\n",
      "lada              142\n",
      "lancia            295\n",
      "land_rover        430\n",
      "mazda            3884\n",
      "mercedes_benz   24055\n",
      "mini             2642\n",
      "mitsubishi       2000\n",
      "nissan           3278\n",
      "opel            23482\n",
      "peugeot          7595\n",
      "porsche           535\n",
      "renault         10376\n",
      "rover             266\n",
      "saab              405\n",
      "seat             4732\n",
      "skoda            4374\n",
      "smart            3275\n",
      "sonstige_autos   1416\n",
      "subaru            525\n",
      "suzuki           1632\n",
      "toyota           3647\n",
      "trabant             6\n",
      "volkswagen      48994\n",
      "volvo            2352\n"
     ]
    }
   ],
   "source": [
    "Brand = data.pivot_table(index='Brand', values='Price', aggfunc='count')\n",
    "print(Brand)"
   ]
  },
  {
   "cell_type": "code",
   "execution_count": 16,
   "metadata": {},
   "outputs": [
    {
     "name": "stdout",
     "output_type": "stream",
     "text": [
      "           Price\n",
      "Repaired        \n",
      "no        185676\n",
      "yes        19705\n"
     ]
    }
   ],
   "source": [
    "Repaired = data.pivot_table(index='Repaired', values='Price', aggfunc='count')\n",
    "print(Repaired)"
   ]
  },
  {
   "cell_type": "markdown",
   "metadata": {},
   "source": [
    "Все категориальные признаки выглядят прадоподобно."
   ]
  },
  {
   "cell_type": "code",
   "execution_count": 17,
   "metadata": {},
   "outputs": [
    {
     "name": "stdout",
     "output_type": "stream",
     "text": [
      "Price                   0\n",
      "VehicleType          4861\n",
      "RegistrationYear        0\n",
      "Gearbox              3796\n",
      "Power                   0\n",
      "Model                8372\n",
      "Kilometer               0\n",
      "FuelType            10443\n",
      "Brand                   0\n",
      "Repaired            31666\n",
      "MonthCrawled            0\n",
      "YearCrawled             0\n",
      "dtype: int64\n"
     ]
    }
   ],
   "source": [
    "print(data.isnull().sum())"
   ]
  },
  {
   "cell_type": "code",
   "execution_count": 18,
   "metadata": {},
   "outputs": [],
   "source": [
    "data = data.fillna('N')"
   ]
  },
  {
   "cell_type": "code",
   "execution_count": 19,
   "metadata": {},
   "outputs": [],
   "source": [
    "features_train, features_valid_test, target_train, target_valid_test = train_test_split(\n",
    "    data.drop('Price', axis=1), data.Price, test_size=0.4, random_state=12345)\n",
    "features_valid, features_test, target_valid, target_test = train_test_split(\n",
    "    features_valid_test, target_valid_test, test_size=0.5, random_state=12345)"
   ]
  },
  {
   "cell_type": "code",
   "execution_count": 20,
   "metadata": {},
   "outputs": [],
   "source": [
    "encoder = OrdinalEncoder(handle_unknown='use_encoded_value', unknown_value=1000)\n",
    "\n",
    "categor = ['VehicleType', 'Gearbox', 'Model', 'FuelType', 'Brand', 'Repaired', 'Kilometer', 'RegistrationYear']"
   ]
  },
  {
   "cell_type": "code",
   "execution_count": 21,
   "metadata": {},
   "outputs": [],
   "source": [
    "pd.options.mode.chained_assignment = None\n",
    "\n",
    "features_train[categor] = encoder.fit_transform(features_train[categor])\n",
    "features_valid[categor] = encoder.transform(features_valid[categor])\n",
    "features_test[categor] = encoder.transform(features_test[categor])"
   ]
  },
  {
   "cell_type": "markdown",
   "metadata": {},
   "source": [
    "Считаю не важными для цены DateCrawled, NumberOfPictures, PostalCode, LastSeen, DateCreated, RegistrationMonth. Удалила эти столбцы. Столбцы с числовыми признаками заполнены полностью, а катерориальные признаки имеют пропуски, поменяла на 'N', будет отдельная категория. Применяю прямое кодирование (так перевела объекты в числа). \n",
    "Разделила данные на обучающую и тестовую выборки. "
   ]
  },
  {
   "cell_type": "markdown",
   "metadata": {},
   "source": [
    "## Обучение моделей"
   ]
  },
  {
   "cell_type": "code",
   "execution_count": 22,
   "metadata": {},
   "outputs": [
    {
     "name": "stdout",
     "output_type": "stream",
     "text": [
      "[LightGBM] [Info] Auto-choosing row-wise multi-threading, the overhead of testing was 0.010657 seconds.\n",
      "You can set `force_row_wise=true` to remove the overhead.\n",
      "And if memory is not enough, you can set `force_col_wise=true`.\n",
      "[LightGBM] [Info] Total Bins 602\n",
      "[LightGBM] [Info] Number of data points in the train set: 142228, number of used features: 10\n",
      "[LightGBM] [Info] Start training from score 5343.816597\n",
      "CPU times: user 1.52 s, sys: 72.3 ms, total: 1.6 s\n",
      "Wall time: 937 ms\n",
      "CPU times: user 701 ms, sys: 14.9 ms, total: 716 ms\n",
      "Wall time: 544 ms\n",
      "rmse_light: 1681.1465853276025\n"
     ]
    }
   ],
   "source": [
    "model_light = LGBMRegressor(random_state=12345)\n",
    "%time model_light.fit(features_train, target_train)\n",
    "%time predictions = model_light.predict(features_valid)\n",
    "rmse_light = mean_squared_error(target_valid, predictions)**0.5\n",
    "print('rmse_light:', rmse_light)"
   ]
  },
  {
   "cell_type": "markdown",
   "metadata": {},
   "source": [
    "Обучила модель LGBMRegressor."
   ]
  },
  {
   "cell_type": "code",
   "execution_count": 23,
   "metadata": {},
   "outputs": [
    {
     "name": "stdout",
     "output_type": "stream",
     "text": [
      "max_depth: 13 rmse_tree: 1924.1712065407787\n"
     ]
    }
   ],
   "source": [
    "max_depth = 0\n",
    "rmse_tree = 5000\n",
    "for i in range(1, 31):\n",
    "    model_tree = DecisionTreeRegressor(random_state=12345, max_depth=i)\n",
    "    model_tree.fit(features_train, target_train)\n",
    "    predictions = model_tree.predict(features_valid)\n",
    "    rmse_tree1 = mean_squared_error(target_valid, predictions)**0.5\n",
    "    if rmse_tree1 < rmse_tree:\n",
    "        rmse_tree = rmse_tree1\n",
    "        max_depth = i\n",
    "print('max_depth:', max_depth,'rmse_tree:', rmse_tree)"
   ]
  },
  {
   "cell_type": "code",
   "execution_count": 24,
   "metadata": {
    "scrolled": true
   },
   "outputs": [
    {
     "name": "stdout",
     "output_type": "stream",
     "text": [
      "CPU times: user 465 ms, sys: 14.1 ms, total: 479 ms\n",
      "Wall time: 605 ms\n",
      "CPU times: user 10.7 ms, sys: 493 µs, total: 11.2 ms\n",
      "Wall time: 10.9 ms\n",
      "rmse_tree: 1924.1712065407787\n"
     ]
    }
   ],
   "source": [
    "model_tree = DecisionTreeRegressor(random_state=12345, max_depth=13)\n",
    "%time model_tree.fit(features_train, target_train)\n",
    "%time predictions = model_tree.predict(features_valid)\n",
    "rmse_tree = mean_squared_error(target_valid, predictions)**0.5\n",
    "print('rmse_tree:', rmse_tree)"
   ]
  },
  {
   "cell_type": "markdown",
   "metadata": {},
   "source": [
    "Обучила модель DecisionTreeRegressor. лучший показатель rmse был на max_depth=13"
   ]
  },
  {
   "cell_type": "code",
   "execution_count": 25,
   "metadata": {},
   "outputs": [
    {
     "name": "stdout",
     "output_type": "stream",
     "text": [
      "max_depth: 30 n_estimators: 100 rmse_forest: 1657.875464328077\n"
     ]
    }
   ],
   "source": [
    "rmse_forest = 5000\n",
    "max_depth = 0\n",
    "n_estimators = 0\n",
    "\n",
    "for i in range(1,31):\n",
    "    for n in range(10,110,10):\n",
    "        model_forest = RandomForestRegressor(random_state=12345,n_estimators=n, max_depth=i)\n",
    "        model_forest.fit(features_train, target_train)\n",
    "        predictions = model_forest.predict(features_valid)\n",
    "        rmse_forest1 = mean_squared_error(target_valid, predictions)**0.5\n",
    "        if rmse_forest1 < rmse_forest:\n",
    "            rmse_forest = rmse_forest1\n",
    "            max_depth = i\n",
    "            n_estimators = n\n",
    "print('max_depth:', i, 'n_estimators:', n, 'rmse_forest:', rmse_forest)"
   ]
  },
  {
   "cell_type": "code",
   "execution_count": 26,
   "metadata": {},
   "outputs": [
    {
     "name": "stdout",
     "output_type": "stream",
     "text": [
      "CPU times: user 47.6 s, sys: 742 ms, total: 48.4 s\n",
      "Wall time: 49.7 s\n",
      "CPU times: user 2.05 s, sys: 24.7 ms, total: 2.08 s\n",
      "Wall time: 2.09 s\n",
      "rmse_forest: 1683.042846624122\n"
     ]
    }
   ],
   "source": [
    "model_forest = RandomForestRegressor(random_state=12345, n_estimators=100, max_depth=30)\n",
    "%time model_forest.fit(features_train, target_train)\n",
    "%time predictions = model_forest.predict(features_valid)\n",
    "rmse_forest = mean_squared_error(target_valid, predictions)**0.5\n",
    "print('rmse_forest:', rmse_forest)"
   ]
  },
  {
   "cell_type": "markdown",
   "metadata": {},
   "source": [
    "Обучила модель RandomForestRegressor. лучший показатель rmse был на max_depth=30, n_estimators=100. В увеличении гиперпараметров не вижу особого смысла, это займет много времени и итоговая модель будет обучаться слишком долго."
   ]
  },
  {
   "cell_type": "markdown",
   "metadata": {},
   "source": [
    "## Анализ моделей"
   ]
  },
  {
   "cell_type": "markdown",
   "metadata": {},
   "source": [
    "    Критерии, которые важны заказчику:\n",
    "качество предсказания;\n",
    "\n",
    "время обучения модели;\n",
    "\n",
    "время предсказания модели.\n",
    "\n",
    "Среди обученных моделей самой лучшей оказалась lightgbm.\n",
    "Время обучения модели: 3.92 s\n",
    "Время предсказания модели: 400 ms\n",
    "rmse: 1681.1465853276025\n",
    "Проверю выбранную модель на тестовой выборке."
   ]
  },
  {
   "cell_type": "code",
   "execution_count": 27,
   "metadata": {},
   "outputs": [
    {
     "name": "stdout",
     "output_type": "stream",
     "text": [
      "rmse_light_test: 1668.4037825082114\n"
     ]
    }
   ],
   "source": [
    "predictions_test = model_light.predict(features_test)\n",
    "rmse_light_test = mean_squared_error(target_test, predictions_test)**0.5\n",
    "print('rmse_light_test:', rmse_light_test)"
   ]
  },
  {
   "cell_type": "code",
   "execution_count": 28,
   "metadata": {},
   "outputs": [
    {
     "name": "stdout",
     "output_type": "stream",
     "text": [
      "rmse_light_mean: 4608.553507638853\n"
     ]
    }
   ],
   "source": [
    "predictions_mean = pd.Series(target_train.mean(), index=target_test.index)\n",
    "rmse_light = mean_squared_error(target_test, predictions_mean)**0.5\n",
    "print('rmse_light_mean:', rmse_light)"
   ]
  },
  {
   "cell_type": "markdown",
   "metadata": {},
   "source": [
    "    При сравнении с предсказаниями по среднему обучающей выборки, rmse больше на тестовой:\n",
    "rmse_light_mean: 4623.619085005347,\n",
    "rmse_light_test: 1668.4037825082114"
   ]
  },
  {
   "cell_type": "markdown",
   "metadata": {},
   "source": [
    "    Вывод: В течении данного проекта разрабатывалась модель для предсказания средней рыночной стоимости автомобиля. Предложенные данные были обработаны и проанализированы. Протестировалось несколько моделей с разными гиперпараметрами и была выбрана одна с самым высоким качеством предсказания и низкими скоростью обучения и предсказания. Модель была протестирована на тестовых данных и проверена на адекватность. Лучшей моделью оказалась lightgbm. Вреия обучения - 3.92 s, время предсказания - 400 ms, rmse - 1681.15."
   ]
  }
 ],
 "metadata": {
  "ExecuteTimeLog": [
   {
    "duration": 3287,
    "start_time": "2024-02-07T13:32:03.532Z"
   },
   {
    "duration": 1008,
    "start_time": "2024-02-07T13:32:45.284Z"
   },
   {
    "duration": 1021,
    "start_time": "2024-02-07T13:39:10.124Z"
   },
   {
    "duration": 1042,
    "start_time": "2024-02-07T13:39:30.545Z"
   },
   {
    "duration": 1113,
    "start_time": "2024-02-07T13:41:07.726Z"
   },
   {
    "duration": 121,
    "start_time": "2024-02-07T13:43:14.305Z"
   },
   {
    "duration": 1036,
    "start_time": "2024-02-07T13:44:05.893Z"
   },
   {
    "duration": 105,
    "start_time": "2024-02-07T13:44:10.870Z"
   },
   {
    "duration": 1053,
    "start_time": "2024-02-07T13:45:18.957Z"
   },
   {
    "duration": 104,
    "start_time": "2024-02-07T13:45:29.112Z"
   },
   {
    "duration": 1891,
    "start_time": "2024-02-07T13:57:20.480Z"
   },
   {
    "duration": 23,
    "start_time": "2024-02-07T13:57:27.719Z"
   },
   {
    "duration": 1081,
    "start_time": "2024-02-07T14:03:29.402Z"
   },
   {
    "duration": 156,
    "start_time": "2024-02-07T14:03:59.384Z"
   },
   {
    "duration": 3083,
    "start_time": "2024-02-07T14:31:21.061Z"
   },
   {
    "duration": 99,
    "start_time": "2024-02-07T14:31:30.039Z"
   },
   {
    "duration": 2584,
    "start_time": "2024-02-07T14:35:38.920Z"
   },
   {
    "duration": 3555,
    "start_time": "2024-02-07T14:35:51.478Z"
   },
   {
    "duration": 97,
    "start_time": "2024-02-07T14:35:55.035Z"
   },
   {
    "duration": 2722,
    "start_time": "2024-02-07T14:35:55.134Z"
   },
   {
    "duration": 1045,
    "start_time": "2024-02-07T14:38:33.560Z"
   },
   {
    "duration": 102,
    "start_time": "2024-02-07T14:38:40.416Z"
   },
   {
    "duration": 2510,
    "start_time": "2024-02-07T14:39:12.508Z"
   },
   {
    "duration": 101,
    "start_time": "2024-02-07T14:39:22.686Z"
   },
   {
    "duration": 5855,
    "start_time": "2024-02-07T14:41:07.449Z"
   },
   {
    "duration": 112,
    "start_time": "2024-02-07T14:41:13.306Z"
   },
   {
    "duration": 812,
    "start_time": "2024-02-07T14:43:02.089Z"
   },
   {
    "duration": 5951,
    "start_time": "2024-02-07T14:43:35.314Z"
   },
   {
    "duration": 105,
    "start_time": "2024-02-07T14:43:41.267Z"
   },
   {
    "duration": 5852,
    "start_time": "2024-02-07T14:43:55.706Z"
   },
   {
    "duration": 791,
    "start_time": "2024-02-07T14:44:31.312Z"
   },
   {
    "duration": 4530,
    "start_time": "2024-02-07T14:47:23.768Z"
   },
   {
    "duration": 4626,
    "start_time": "2024-02-07T14:49:21.993Z"
   },
   {
    "duration": 4429,
    "start_time": "2024-02-07T14:56:54.814Z"
   },
   {
    "duration": 2223,
    "start_time": "2024-02-08T11:26:38.631Z"
   },
   {
    "duration": 2089,
    "start_time": "2024-02-08T11:27:16.663Z"
   },
   {
    "duration": 56,
    "start_time": "2024-02-08T11:27:18.754Z"
   },
   {
    "duration": 179,
    "start_time": "2024-02-08T11:43:59.957Z"
   },
   {
    "duration": 1764,
    "start_time": "2024-02-08T11:45:33.457Z"
   },
   {
    "duration": 15,
    "start_time": "2024-02-08T11:46:02.530Z"
   },
   {
    "duration": 2978,
    "start_time": "2024-02-08T11:46:56.105Z"
   },
   {
    "duration": 43,
    "start_time": "2024-02-08T11:46:59.084Z"
   },
   {
    "duration": 8277,
    "start_time": "2024-02-08T11:46:59.128Z"
   },
   {
    "duration": 8034,
    "start_time": "2024-02-08T11:51:44.117Z"
   },
   {
    "duration": 2729,
    "start_time": "2024-02-08T11:52:01.457Z"
   },
   {
    "duration": 48,
    "start_time": "2024-02-08T11:52:04.188Z"
   },
   {
    "duration": 7819,
    "start_time": "2024-02-08T11:52:04.237Z"
   },
   {
    "duration": 10725,
    "start_time": "2024-02-08T11:52:43.286Z"
   },
   {
    "duration": 8644,
    "start_time": "2024-02-08T11:53:59.565Z"
   },
   {
    "duration": 11152,
    "start_time": "2024-02-08T12:00:25.566Z"
   },
   {
    "duration": 2729,
    "start_time": "2024-02-08T13:15:07.978Z"
   },
   {
    "duration": 40,
    "start_time": "2024-02-08T13:15:10.708Z"
   },
   {
    "duration": 10557,
    "start_time": "2024-02-08T13:15:10.749Z"
   },
   {
    "duration": 6749,
    "start_time": "2024-02-08T13:15:21.307Z"
   },
   {
    "duration": 1508,
    "start_time": "2024-02-08T13:16:54.238Z"
   },
   {
    "duration": 2354,
    "start_time": "2024-02-08T13:17:00.830Z"
   },
   {
    "duration": 3083,
    "start_time": "2024-02-08T13:17:14.279Z"
   },
   {
    "duration": 4073,
    "start_time": "2024-02-08T13:17:28.858Z"
   },
   {
    "duration": 5601,
    "start_time": "2024-02-08T13:17:45.110Z"
   },
   {
    "duration": 6289,
    "start_time": "2024-02-08T13:18:16.418Z"
   },
   {
    "duration": 6641,
    "start_time": "2024-02-08T13:18:31.749Z"
   },
   {
    "duration": 2765,
    "start_time": "2024-02-08T13:19:26.183Z"
   },
   {
    "duration": 41,
    "start_time": "2024-02-08T13:19:28.950Z"
   },
   {
    "duration": 8714,
    "start_time": "2024-02-08T13:19:28.992Z"
   },
   {
    "duration": 5765,
    "start_time": "2024-02-08T13:19:37.708Z"
   },
   {
    "duration": 2721,
    "start_time": "2024-02-08T13:33:27.393Z"
   },
   {
    "duration": 43,
    "start_time": "2024-02-08T13:33:30.115Z"
   },
   {
    "duration": 8855,
    "start_time": "2024-02-08T13:33:30.159Z"
   },
   {
    "duration": 5718,
    "start_time": "2024-02-08T13:33:39.015Z"
   },
   {
    "duration": 12391,
    "start_time": "2024-02-08T13:33:44.734Z"
   },
   {
    "duration": 10622,
    "start_time": "2024-02-08T13:34:25.060Z"
   },
   {
    "duration": 13824,
    "start_time": "2024-02-08T13:34:51.952Z"
   },
   {
    "duration": 17558,
    "start_time": "2024-02-08T13:35:27.692Z"
   },
   {
    "duration": 17375,
    "start_time": "2024-02-08T13:36:06.403Z"
   },
   {
    "duration": 1814,
    "start_time": "2024-02-08T13:48:52.672Z"
   },
   {
    "duration": 1765,
    "start_time": "2024-02-08T13:49:16.812Z"
   },
   {
    "duration": 2899,
    "start_time": "2024-02-08T13:49:29.015Z"
   },
   {
    "duration": 39,
    "start_time": "2024-02-08T13:49:31.916Z"
   },
   {
    "duration": 7446,
    "start_time": "2024-02-08T13:49:31.956Z"
   },
   {
    "duration": 4416,
    "start_time": "2024-02-08T13:49:39.403Z"
   },
   {
    "duration": 13150,
    "start_time": "2024-02-08T13:49:43.821Z"
   },
   {
    "duration": 790,
    "start_time": "2024-02-08T13:53:01.314Z"
   },
   {
    "duration": 1109,
    "start_time": "2024-02-08T15:42:25.117Z"
   },
   {
    "duration": 660,
    "start_time": "2024-02-08T15:42:26.228Z"
   },
   {
    "duration": 146,
    "start_time": "2024-02-08T15:42:26.889Z"
   },
   {
    "duration": 168,
    "start_time": "2024-02-08T15:42:27.037Z"
   },
   {
    "duration": 90,
    "start_time": "2024-02-08T15:42:27.207Z"
   },
   {
    "duration": 532,
    "start_time": "2024-02-08T15:42:27.298Z"
   },
   {
    "duration": 457,
    "start_time": "2024-02-08T15:42:27.832Z"
   },
   {
    "duration": 40,
    "start_time": "2024-02-08T15:44:57.597Z"
   },
   {
    "duration": 1134,
    "start_time": "2024-02-08T15:45:06.019Z"
   },
   {
    "duration": 874,
    "start_time": "2024-02-08T15:45:07.155Z"
   },
   {
    "duration": 147,
    "start_time": "2024-02-08T15:45:08.030Z"
   },
   {
    "duration": 163,
    "start_time": "2024-02-08T15:45:08.179Z"
   },
   {
    "duration": 229,
    "start_time": "2024-02-08T15:45:08.345Z"
   },
   {
    "duration": 69,
    "start_time": "2024-02-08T15:45:08.576Z"
   },
   {
    "duration": 430,
    "start_time": "2024-02-08T15:45:08.647Z"
   },
   {
    "duration": 394,
    "start_time": "2024-02-08T15:45:09.078Z"
   },
   {
    "duration": 3,
    "start_time": "2024-02-08T15:45:09.474Z"
   },
   {
    "duration": 6424,
    "start_time": "2024-02-08T15:45:09.478Z"
   },
   {
    "duration": 3763,
    "start_time": "2024-02-08T15:45:15.904Z"
   },
   {
    "duration": 11171,
    "start_time": "2024-02-08T15:45:19.668Z"
   },
   {
    "duration": 669,
    "start_time": "2024-02-08T15:45:30.840Z"
   },
   {
    "duration": 1171,
    "start_time": "2024-02-08T15:45:39.978Z"
   },
   {
    "duration": 671,
    "start_time": "2024-02-08T15:45:42.579Z"
   },
   {
    "duration": 170,
    "start_time": "2024-02-08T15:45:48.149Z"
   },
   {
    "duration": 154,
    "start_time": "2024-02-08T15:45:52.509Z"
   },
   {
    "duration": 330,
    "start_time": "2024-02-08T15:46:04.496Z"
   },
   {
    "duration": 309,
    "start_time": "2024-02-08T15:46:16.008Z"
   },
   {
    "duration": 134,
    "start_time": "2024-02-08T15:46:32.408Z"
   },
   {
    "duration": 93,
    "start_time": "2024-02-08T15:51:22.287Z"
   },
   {
    "duration": 60,
    "start_time": "2024-02-08T15:51:33.348Z"
   },
   {
    "duration": 53,
    "start_time": "2024-02-08T15:51:58.847Z"
   },
   {
    "duration": 50,
    "start_time": "2024-02-11T12:56:47.234Z"
   },
   {
    "duration": 1352,
    "start_time": "2024-02-11T12:57:12.803Z"
   },
   {
    "duration": 2886,
    "start_time": "2024-02-11T12:57:14.157Z"
   },
   {
    "duration": 206,
    "start_time": "2024-02-11T12:57:17.044Z"
   },
   {
    "duration": 223,
    "start_time": "2024-02-11T12:57:17.251Z"
   },
   {
    "duration": 286,
    "start_time": "2024-02-11T12:57:17.479Z"
   },
   {
    "duration": 93,
    "start_time": "2024-02-11T12:57:17.766Z"
   },
   {
    "duration": 94,
    "start_time": "2024-02-11T12:57:17.861Z"
   },
   {
    "duration": 127,
    "start_time": "2024-02-11T12:57:17.957Z"
   },
   {
    "duration": 689,
    "start_time": "2024-02-11T12:57:18.086Z"
   },
   {
    "duration": 550,
    "start_time": "2024-02-11T12:57:18.779Z"
   },
   {
    "duration": 2,
    "start_time": "2024-02-11T12:57:19.331Z"
   },
   {
    "duration": 9671,
    "start_time": "2024-02-11T12:57:19.335Z"
   },
   {
    "duration": 5866,
    "start_time": "2024-02-11T12:57:29.007Z"
   },
   {
    "duration": 17498,
    "start_time": "2024-02-11T12:57:34.881Z"
   },
   {
    "duration": 817,
    "start_time": "2024-02-11T12:57:52.380Z"
   },
   {
    "duration": 16,
    "start_time": "2024-02-11T13:25:39.790Z"
   },
   {
    "duration": 27,
    "start_time": "2024-02-11T13:32:28.070Z"
   },
   {
    "duration": 42,
    "start_time": "2024-02-11T13:32:44.500Z"
   },
   {
    "duration": 1383,
    "start_time": "2024-02-11T13:33:34.110Z"
   },
   {
    "duration": 911,
    "start_time": "2024-02-11T13:33:35.495Z"
   },
   {
    "duration": 236,
    "start_time": "2024-02-11T13:33:36.407Z"
   },
   {
    "duration": 208,
    "start_time": "2024-02-11T13:33:36.644Z"
   },
   {
    "duration": 267,
    "start_time": "2024-02-11T13:33:36.854Z"
   },
   {
    "duration": 90,
    "start_time": "2024-02-11T13:33:37.123Z"
   },
   {
    "duration": 30,
    "start_time": "2024-02-11T13:33:37.215Z"
   },
   {
    "duration": 138,
    "start_time": "2024-02-11T13:33:37.246Z"
   },
   {
    "duration": 100,
    "start_time": "2024-02-11T13:33:37.387Z"
   },
   {
    "duration": 2,
    "start_time": "2024-02-11T13:33:37.488Z"
   },
   {
    "duration": 127,
    "start_time": "2024-02-11T13:33:37.492Z"
   },
   {
    "duration": 3,
    "start_time": "2024-02-11T13:33:37.620Z"
   },
   {
    "duration": 312,
    "start_time": "2024-02-11T13:33:37.624Z"
   },
   {
    "duration": 0,
    "start_time": "2024-02-11T13:33:37.938Z"
   },
   {
    "duration": 0,
    "start_time": "2024-02-11T13:33:37.939Z"
   },
   {
    "duration": 0,
    "start_time": "2024-02-11T13:33:37.940Z"
   },
   {
    "duration": 48,
    "start_time": "2024-02-11T13:46:13.839Z"
   },
   {
    "duration": 140,
    "start_time": "2024-02-11T13:46:19.399Z"
   },
   {
    "duration": 31,
    "start_time": "2024-02-11T13:46:42.729Z"
   },
   {
    "duration": 22,
    "start_time": "2024-02-11T13:47:35.600Z"
   },
   {
    "duration": 23,
    "start_time": "2024-02-11T13:48:24.130Z"
   },
   {
    "duration": 26,
    "start_time": "2024-02-11T13:49:13.469Z"
   },
   {
    "duration": 35,
    "start_time": "2024-02-11T13:49:26.138Z"
   },
   {
    "duration": 26,
    "start_time": "2024-02-11T13:50:29.949Z"
   },
   {
    "duration": 21,
    "start_time": "2024-02-11T13:51:09.849Z"
   },
   {
    "duration": 54,
    "start_time": "2024-02-11T13:52:23.089Z"
   },
   {
    "duration": 105,
    "start_time": "2024-02-11T13:52:38.639Z"
   },
   {
    "duration": 38,
    "start_time": "2024-02-11T13:52:56.669Z"
   },
   {
    "duration": 55,
    "start_time": "2024-02-11T13:53:24.140Z"
   },
   {
    "duration": 87,
    "start_time": "2024-02-11T13:55:34.890Z"
   },
   {
    "duration": 15,
    "start_time": "2024-02-11T13:56:02.950Z"
   },
   {
    "duration": 30,
    "start_time": "2024-02-11T14:05:41.281Z"
   },
   {
    "duration": 20,
    "start_time": "2024-02-11T14:06:07.851Z"
   },
   {
    "duration": 28,
    "start_time": "2024-02-11T14:07:22.949Z"
   },
   {
    "duration": 48,
    "start_time": "2024-02-11T14:08:22.709Z"
   },
   {
    "duration": 46,
    "start_time": "2024-02-11T14:08:23.579Z"
   },
   {
    "duration": 13,
    "start_time": "2024-02-11T14:10:33.349Z"
   },
   {
    "duration": 9,
    "start_time": "2024-02-11T14:12:33.479Z"
   },
   {
    "duration": 356,
    "start_time": "2024-02-11T14:12:39.027Z"
   },
   {
    "duration": 26,
    "start_time": "2024-02-11T14:16:37.739Z"
   },
   {
    "duration": 31,
    "start_time": "2024-02-11T14:17:00.889Z"
   },
   {
    "duration": 19,
    "start_time": "2024-02-11T14:19:13.899Z"
   },
   {
    "duration": 17,
    "start_time": "2024-02-11T14:19:24.609Z"
   },
   {
    "duration": 28,
    "start_time": "2024-02-11T14:21:08.139Z"
   },
   {
    "duration": 27,
    "start_time": "2024-02-11T14:21:47.730Z"
   },
   {
    "duration": 32,
    "start_time": "2024-02-11T14:22:38.179Z"
   },
   {
    "duration": 45,
    "start_time": "2024-02-11T14:23:22.399Z"
   },
   {
    "duration": 31,
    "start_time": "2024-02-11T14:23:59.020Z"
   },
   {
    "duration": 30,
    "start_time": "2024-02-11T14:24:29.659Z"
   },
   {
    "duration": 1350,
    "start_time": "2024-02-11T14:26:03.021Z"
   },
   {
    "duration": 974,
    "start_time": "2024-02-11T14:26:04.373Z"
   },
   {
    "duration": 238,
    "start_time": "2024-02-11T14:26:05.348Z"
   },
   {
    "duration": 242,
    "start_time": "2024-02-11T14:26:05.589Z"
   },
   {
    "duration": 304,
    "start_time": "2024-02-11T14:26:05.833Z"
   },
   {
    "duration": 35,
    "start_time": "2024-02-11T14:26:06.138Z"
   },
   {
    "duration": 57,
    "start_time": "2024-02-11T14:26:06.181Z"
   },
   {
    "duration": 63,
    "start_time": "2024-02-11T14:26:06.239Z"
   },
   {
    "duration": 13,
    "start_time": "2024-02-11T14:26:06.304Z"
   },
   {
    "duration": 32,
    "start_time": "2024-02-11T14:26:06.319Z"
   },
   {
    "duration": 63,
    "start_time": "2024-02-11T14:26:06.353Z"
   },
   {
    "duration": 49,
    "start_time": "2024-02-11T14:26:06.418Z"
   },
   {
    "duration": 39,
    "start_time": "2024-02-11T14:26:06.469Z"
   },
   {
    "duration": 62,
    "start_time": "2024-02-11T14:26:06.511Z"
   },
   {
    "duration": 42,
    "start_time": "2024-02-11T14:26:06.574Z"
   },
   {
    "duration": 90,
    "start_time": "2024-02-11T14:26:06.617Z"
   },
   {
    "duration": 97,
    "start_time": "2024-02-11T14:26:06.709Z"
   },
   {
    "duration": 3,
    "start_time": "2024-02-11T14:26:06.807Z"
   },
   {
    "duration": 120,
    "start_time": "2024-02-11T14:26:06.811Z"
   },
   {
    "duration": 4,
    "start_time": "2024-02-11T14:26:06.932Z"
   },
   {
    "duration": 357,
    "start_time": "2024-02-11T14:26:06.938Z"
   },
   {
    "duration": 0,
    "start_time": "2024-02-11T14:26:07.298Z"
   },
   {
    "duration": 0,
    "start_time": "2024-02-11T14:26:07.299Z"
   },
   {
    "duration": 0,
    "start_time": "2024-02-11T14:26:07.300Z"
   },
   {
    "duration": 1367,
    "start_time": "2024-02-15T20:15:14.802Z"
   },
   {
    "duration": 2926,
    "start_time": "2024-02-15T20:15:16.171Z"
   },
   {
    "duration": 195,
    "start_time": "2024-02-15T20:15:19.099Z"
   },
   {
    "duration": 205,
    "start_time": "2024-02-15T20:15:19.296Z"
   },
   {
    "duration": 259,
    "start_time": "2024-02-15T20:15:19.502Z"
   },
   {
    "duration": 37,
    "start_time": "2024-02-15T20:15:19.762Z"
   },
   {
    "duration": 46,
    "start_time": "2024-02-15T20:15:19.800Z"
   },
   {
    "duration": 61,
    "start_time": "2024-02-15T20:15:19.847Z"
   },
   {
    "duration": 12,
    "start_time": "2024-02-15T20:15:19.909Z"
   },
   {
    "duration": 28,
    "start_time": "2024-02-15T20:15:19.923Z"
   },
   {
    "duration": 52,
    "start_time": "2024-02-15T20:15:19.953Z"
   },
   {
    "duration": 51,
    "start_time": "2024-02-15T20:15:20.007Z"
   },
   {
    "duration": 65,
    "start_time": "2024-02-15T20:15:20.059Z"
   },
   {
    "duration": 36,
    "start_time": "2024-02-15T20:15:20.126Z"
   },
   {
    "duration": 37,
    "start_time": "2024-02-15T20:15:20.164Z"
   },
   {
    "duration": 68,
    "start_time": "2024-02-15T20:15:20.202Z"
   },
   {
    "duration": 90,
    "start_time": "2024-02-15T20:15:20.271Z"
   },
   {
    "duration": 113,
    "start_time": "2024-02-15T20:15:20.363Z"
   },
   {
    "duration": 112,
    "start_time": "2024-02-15T20:15:20.477Z"
   },
   {
    "duration": 0,
    "start_time": "2024-02-15T20:15:20.590Z"
   },
   {
    "duration": 0,
    "start_time": "2024-02-15T20:15:20.592Z"
   },
   {
    "duration": 0,
    "start_time": "2024-02-15T20:15:20.593Z"
   },
   {
    "duration": 0,
    "start_time": "2024-02-15T20:15:20.594Z"
   },
   {
    "duration": 10,
    "start_time": "2024-02-15T20:16:48.107Z"
   },
   {
    "duration": 321,
    "start_time": "2024-02-15T20:17:19.121Z"
   },
   {
    "duration": 522,
    "start_time": "2024-02-15T20:18:33.661Z"
   },
   {
    "duration": 488,
    "start_time": "2024-02-15T20:19:35.914Z"
   },
   {
    "duration": 1637,
    "start_time": "2024-02-15T20:19:56.507Z"
   },
   {
    "duration": 205,
    "start_time": "2024-02-15T20:20:13.857Z"
   },
   {
    "duration": 77,
    "start_time": "2024-02-15T20:31:23.822Z"
   },
   {
    "duration": 217,
    "start_time": "2024-02-15T20:32:26.874Z"
   },
   {
    "duration": 1309,
    "start_time": "2024-02-15T20:36:33.096Z"
   },
   {
    "duration": 858,
    "start_time": "2024-02-15T20:36:34.408Z"
   },
   {
    "duration": 173,
    "start_time": "2024-02-15T20:36:35.268Z"
   },
   {
    "duration": 195,
    "start_time": "2024-02-15T20:36:35.443Z"
   },
   {
    "duration": 207,
    "start_time": "2024-02-15T20:36:35.639Z"
   },
   {
    "duration": 44,
    "start_time": "2024-02-15T20:36:35.847Z"
   },
   {
    "duration": 43,
    "start_time": "2024-02-15T20:36:35.893Z"
   },
   {
    "duration": 57,
    "start_time": "2024-02-15T20:36:35.938Z"
   },
   {
    "duration": 11,
    "start_time": "2024-02-15T20:36:35.997Z"
   },
   {
    "duration": 28,
    "start_time": "2024-02-15T20:36:36.010Z"
   },
   {
    "duration": 49,
    "start_time": "2024-02-15T20:36:36.039Z"
   },
   {
    "duration": 32,
    "start_time": "2024-02-15T20:36:36.090Z"
   },
   {
    "duration": 28,
    "start_time": "2024-02-15T20:36:36.124Z"
   },
   {
    "duration": 52,
    "start_time": "2024-02-15T20:36:36.154Z"
   },
   {
    "duration": 28,
    "start_time": "2024-02-15T20:36:36.207Z"
   },
   {
    "duration": 83,
    "start_time": "2024-02-15T20:36:36.237Z"
   },
   {
    "duration": 84,
    "start_time": "2024-02-15T20:36:36.322Z"
   },
   {
    "duration": 96,
    "start_time": "2024-02-15T20:36:36.407Z"
   },
   {
    "duration": 510,
    "start_time": "2024-02-15T20:36:36.504Z"
   },
   {
    "duration": 57779,
    "start_time": "2024-02-15T20:36:37.016Z"
   },
   {
    "duration": 530,
    "start_time": "2024-02-15T20:37:34.797Z"
   },
   {
    "duration": 1651,
    "start_time": "2024-02-15T20:37:35.328Z"
   },
   {
    "duration": 110,
    "start_time": "2024-02-15T20:37:36.981Z"
   },
   {
    "duration": 2281,
    "start_time": "2024-02-15T20:39:07.274Z"
   },
   {
    "duration": 3322,
    "start_time": "2024-02-15T20:39:13.305Z"
   },
   {
    "duration": 3937,
    "start_time": "2024-02-15T20:39:21.884Z"
   },
   {
    "duration": 4909,
    "start_time": "2024-02-15T20:39:34.542Z"
   },
   {
    "duration": 6364,
    "start_time": "2024-02-15T20:39:44.523Z"
   },
   {
    "duration": 16153,
    "start_time": "2024-02-15T20:39:58.800Z"
   },
   {
    "duration": 32300,
    "start_time": "2024-02-15T20:40:30.331Z"
   },
   {
    "duration": 4852,
    "start_time": "2024-02-15T20:41:14.783Z"
   },
   {
    "duration": 401,
    "start_time": "2024-02-15T20:51:08.191Z"
   },
   {
    "duration": 1369,
    "start_time": "2024-02-24T13:29:17.627Z"
   },
   {
    "duration": 1190,
    "start_time": "2024-02-24T13:29:18.998Z"
   },
   {
    "duration": 205,
    "start_time": "2024-02-24T13:29:20.190Z"
   },
   {
    "duration": 215,
    "start_time": "2024-02-24T13:29:20.397Z"
   },
   {
    "duration": 233,
    "start_time": "2024-02-24T13:29:20.615Z"
   },
   {
    "duration": 34,
    "start_time": "2024-02-24T13:29:20.849Z"
   },
   {
    "duration": 63,
    "start_time": "2024-02-24T13:29:20.885Z"
   },
   {
    "duration": 48,
    "start_time": "2024-02-24T13:29:20.949Z"
   },
   {
    "duration": 27,
    "start_time": "2024-02-24T13:29:20.998Z"
   },
   {
    "duration": 32,
    "start_time": "2024-02-24T13:29:21.026Z"
   },
   {
    "duration": 32,
    "start_time": "2024-02-24T13:29:21.060Z"
   },
   {
    "duration": 52,
    "start_time": "2024-02-24T13:29:21.093Z"
   },
   {
    "duration": 38,
    "start_time": "2024-02-24T13:29:21.146Z"
   },
   {
    "duration": 44,
    "start_time": "2024-02-24T13:29:21.186Z"
   },
   {
    "duration": 31,
    "start_time": "2024-02-24T13:29:21.231Z"
   },
   {
    "duration": 97,
    "start_time": "2024-02-24T13:29:21.264Z"
   },
   {
    "duration": 97,
    "start_time": "2024-02-24T13:29:21.363Z"
   },
   {
    "duration": 115,
    "start_time": "2024-02-24T13:29:21.461Z"
   },
   {
    "duration": 557,
    "start_time": "2024-02-24T13:29:21.578Z"
   },
   {
    "duration": 5993,
    "start_time": "2024-02-24T13:29:22.136Z"
   },
   {
    "duration": 12056,
    "start_time": "2024-02-24T13:29:28.131Z"
   },
   {
    "duration": 551,
    "start_time": "2024-02-24T13:29:40.189Z"
   },
   {
    "duration": 5386,
    "start_time": "2024-02-24T13:29:40.742Z"
   },
   {
    "duration": 405,
    "start_time": "2024-02-24T13:29:46.129Z"
   },
   {
    "duration": 12366,
    "start_time": "2024-02-24T13:44:50.194Z"
   },
   {
    "duration": 95,
    "start_time": "2024-02-24T13:45:41.020Z"
   },
   {
    "duration": 12662,
    "start_time": "2024-02-24T14:01:11.338Z"
   },
   {
    "duration": 196,
    "start_time": "2024-02-24T14:04:31.065Z"
   },
   {
    "duration": 82235,
    "start_time": "2024-02-24T14:11:01.839Z"
   },
   {
    "duration": 229451,
    "start_time": "2024-02-24T14:17:12.368Z"
   },
   {
    "duration": 35400,
    "start_time": "2024-02-24T14:21:13.791Z"
   },
   {
    "duration": 419,
    "start_time": "2024-02-24T14:23:40.831Z"
   },
   {
    "duration": 6,
    "start_time": "2024-02-24T14:33:08.030Z"
   },
   {
    "duration": 7,
    "start_time": "2024-02-24T14:33:57.822Z"
   },
   {
    "duration": 1409,
    "start_time": "2024-02-24T14:43:55.957Z"
   },
   {
    "duration": 1032,
    "start_time": "2024-02-24T14:43:57.368Z"
   },
   {
    "duration": 209,
    "start_time": "2024-02-24T14:43:58.401Z"
   },
   {
    "duration": 224,
    "start_time": "2024-02-24T14:43:58.613Z"
   },
   {
    "duration": 228,
    "start_time": "2024-02-24T14:43:58.839Z"
   },
   {
    "duration": 35,
    "start_time": "2024-02-24T14:43:59.069Z"
   },
   {
    "duration": 59,
    "start_time": "2024-02-24T14:43:59.105Z"
   },
   {
    "duration": 60,
    "start_time": "2024-02-24T14:43:59.166Z"
   },
   {
    "duration": 13,
    "start_time": "2024-02-24T14:43:59.227Z"
   },
   {
    "duration": 34,
    "start_time": "2024-02-24T14:43:59.242Z"
   },
   {
    "duration": 55,
    "start_time": "2024-02-24T14:43:59.278Z"
   },
   {
    "duration": 33,
    "start_time": "2024-02-24T14:43:59.334Z"
   },
   {
    "duration": 54,
    "start_time": "2024-02-24T14:43:59.369Z"
   },
   {
    "duration": 42,
    "start_time": "2024-02-24T14:43:59.425Z"
   },
   {
    "duration": 36,
    "start_time": "2024-02-24T14:43:59.469Z"
   },
   {
    "duration": 81,
    "start_time": "2024-02-24T14:43:59.506Z"
   },
   {
    "duration": 98,
    "start_time": "2024-02-24T14:43:59.588Z"
   },
   {
    "duration": 113,
    "start_time": "2024-02-24T14:43:59.688Z"
   },
   {
    "duration": 561,
    "start_time": "2024-02-24T14:43:59.803Z"
   },
   {
    "duration": 5372,
    "start_time": "2024-02-24T14:44:00.366Z"
   },
   {
    "duration": 1332,
    "start_time": "2024-02-24T14:45:35.248Z"
   },
   {
    "duration": 987,
    "start_time": "2024-02-24T14:45:36.582Z"
   },
   {
    "duration": 241,
    "start_time": "2024-02-24T14:45:37.571Z"
   },
   {
    "duration": 224,
    "start_time": "2024-02-24T14:45:37.814Z"
   },
   {
    "duration": 227,
    "start_time": "2024-02-24T14:45:38.040Z"
   },
   {
    "duration": 36,
    "start_time": "2024-02-24T14:45:38.269Z"
   },
   {
    "duration": 60,
    "start_time": "2024-02-24T14:45:38.306Z"
   },
   {
    "duration": 58,
    "start_time": "2024-02-24T14:45:38.368Z"
   },
   {
    "duration": 13,
    "start_time": "2024-02-24T14:45:38.428Z"
   },
   {
    "duration": 32,
    "start_time": "2024-02-24T14:45:38.442Z"
   },
   {
    "duration": 50,
    "start_time": "2024-02-24T14:45:38.476Z"
   },
   {
    "duration": 39,
    "start_time": "2024-02-24T14:45:38.527Z"
   },
   {
    "duration": 57,
    "start_time": "2024-02-24T14:45:38.567Z"
   },
   {
    "duration": 30,
    "start_time": "2024-02-24T14:45:38.627Z"
   },
   {
    "duration": 31,
    "start_time": "2024-02-24T14:45:38.659Z"
   },
   {
    "duration": 98,
    "start_time": "2024-02-24T14:45:38.692Z"
   },
   {
    "duration": 99,
    "start_time": "2024-02-24T14:45:38.792Z"
   },
   {
    "duration": 123,
    "start_time": "2024-02-24T14:45:38.893Z"
   },
   {
    "duration": 552,
    "start_time": "2024-02-24T14:45:39.018Z"
   },
   {
    "duration": 5964,
    "start_time": "2024-02-24T14:45:39.572Z"
   },
   {
    "duration": 12725,
    "start_time": "2024-02-24T14:45:45.537Z"
   },
   {
    "duration": 206,
    "start_time": "2024-02-24T14:45:58.264Z"
   },
   {
    "duration": 83869,
    "start_time": "2024-02-24T14:45:58.472Z"
   },
   {
    "duration": 229863,
    "start_time": "2024-02-24T14:47:22.343Z"
   },
   {
    "duration": 33386,
    "start_time": "2024-02-24T14:51:12.207Z"
   },
   {
    "duration": 439,
    "start_time": "2024-02-24T14:51:45.594Z"
   },
   {
    "duration": 6,
    "start_time": "2024-02-24T14:51:46.035Z"
   },
   {
    "duration": 1391,
    "start_time": "2024-02-24T15:44:12.707Z"
   },
   {
    "duration": 1011,
    "start_time": "2024-02-24T15:44:14.100Z"
   },
   {
    "duration": 224,
    "start_time": "2024-02-24T15:44:15.113Z"
   },
   {
    "duration": 232,
    "start_time": "2024-02-24T15:44:15.339Z"
   },
   {
    "duration": 230,
    "start_time": "2024-02-24T15:44:15.574Z"
   },
   {
    "duration": 42,
    "start_time": "2024-02-24T15:44:15.806Z"
   },
   {
    "duration": 51,
    "start_time": "2024-02-24T15:44:15.850Z"
   },
   {
    "duration": 63,
    "start_time": "2024-02-24T15:44:15.903Z"
   },
   {
    "duration": 13,
    "start_time": "2024-02-24T15:44:15.967Z"
   },
   {
    "duration": 45,
    "start_time": "2024-02-24T15:44:15.981Z"
   },
   {
    "duration": 31,
    "start_time": "2024-02-24T15:44:16.028Z"
   },
   {
    "duration": 62,
    "start_time": "2024-02-24T15:44:16.061Z"
   },
   {
    "duration": 34,
    "start_time": "2024-02-24T15:44:16.125Z"
   },
   {
    "duration": 30,
    "start_time": "2024-02-24T15:44:16.162Z"
   },
   {
    "duration": 58,
    "start_time": "2024-02-24T15:44:16.194Z"
   },
   {
    "duration": 113,
    "start_time": "2024-02-24T15:44:16.255Z"
   },
   {
    "duration": 100,
    "start_time": "2024-02-24T15:44:16.370Z"
   },
   {
    "duration": 124,
    "start_time": "2024-02-24T15:44:16.472Z"
   },
   {
    "duration": 587,
    "start_time": "2024-02-24T15:44:16.598Z"
   },
   {
    "duration": 5941,
    "start_time": "2024-02-24T15:44:17.187Z"
   },
   {
    "duration": 12593,
    "start_time": "2024-02-24T15:44:23.130Z"
   },
   {
    "duration": 229,
    "start_time": "2024-02-24T15:44:35.725Z"
   },
   {
    "duration": 85510,
    "start_time": "2024-02-24T15:44:35.956Z"
   },
   {
    "duration": 238211,
    "start_time": "2024-02-24T15:46:01.468Z"
   },
   {
    "duration": 34510,
    "start_time": "2024-02-24T15:49:59.680Z"
   },
   {
    "duration": 436,
    "start_time": "2024-02-24T15:50:34.192Z"
   },
   {
    "duration": 7,
    "start_time": "2024-02-24T15:50:34.630Z"
   },
   {
    "duration": 62,
    "start_time": "2024-02-26T10:49:43.338Z"
   },
   {
    "duration": 1296,
    "start_time": "2024-02-26T10:49:50.769Z"
   },
   {
    "duration": 1144,
    "start_time": "2024-02-26T10:49:52.067Z"
   },
   {
    "duration": 204,
    "start_time": "2024-02-26T10:49:53.212Z"
   },
   {
    "duration": 208,
    "start_time": "2024-02-26T10:49:53.417Z"
   },
   {
    "duration": 224,
    "start_time": "2024-02-26T10:49:53.627Z"
   },
   {
    "duration": 33,
    "start_time": "2024-02-26T10:49:53.852Z"
   },
   {
    "duration": 61,
    "start_time": "2024-02-26T10:49:53.887Z"
   },
   {
    "duration": 44,
    "start_time": "2024-02-26T10:49:53.950Z"
   },
   {
    "duration": 25,
    "start_time": "2024-02-26T10:49:53.996Z"
   },
   {
    "duration": 30,
    "start_time": "2024-02-26T10:49:54.022Z"
   },
   {
    "duration": 37,
    "start_time": "2024-02-26T10:49:54.054Z"
   },
   {
    "duration": 49,
    "start_time": "2024-02-26T10:49:54.092Z"
   },
   {
    "duration": 40,
    "start_time": "2024-02-26T10:49:54.142Z"
   },
   {
    "duration": 41,
    "start_time": "2024-02-26T10:49:54.186Z"
   },
   {
    "duration": 31,
    "start_time": "2024-02-26T10:49:54.228Z"
   },
   {
    "duration": 87,
    "start_time": "2024-02-26T10:49:54.261Z"
   },
   {
    "duration": 91,
    "start_time": "2024-02-26T10:49:54.349Z"
   },
   {
    "duration": 97,
    "start_time": "2024-02-26T10:49:54.442Z"
   },
   {
    "duration": 515,
    "start_time": "2024-02-26T10:49:54.540Z"
   },
   {
    "duration": 6472,
    "start_time": "2024-02-26T10:49:55.057Z"
   },
   {
    "duration": 10834,
    "start_time": "2024-02-26T10:50:01.530Z"
   },
   {
    "duration": 183,
    "start_time": "2024-02-26T10:50:12.366Z"
   },
   {
    "duration": 71521,
    "start_time": "2024-02-26T10:50:12.551Z"
   },
   {
    "duration": 195164,
    "start_time": "2024-02-26T10:51:24.074Z"
   },
   {
    "duration": 26811,
    "start_time": "2024-02-26T10:54:39.239Z"
   },
   {
    "duration": 369,
    "start_time": "2024-02-26T10:55:06.052Z"
   },
   {
    "duration": 6,
    "start_time": "2024-02-26T10:55:06.422Z"
   },
   {
    "duration": 80,
    "start_time": "2024-02-26T10:58:28.561Z"
   },
   {
    "duration": 816,
    "start_time": "2024-02-26T10:58:36.207Z"
   },
   {
    "duration": 72,
    "start_time": "2024-02-26T10:59:17.144Z"
   },
   {
    "duration": 165,
    "start_time": "2024-02-26T10:59:25.751Z"
   },
   {
    "duration": 69,
    "start_time": "2024-02-26T11:04:19.378Z"
   },
   {
    "duration": 129,
    "start_time": "2024-02-26T11:04:21.844Z"
   },
   {
    "duration": 42,
    "start_time": "2024-02-26T11:06:21.928Z"
   },
   {
    "duration": 133,
    "start_time": "2024-02-26T11:06:25.540Z"
   },
   {
    "duration": 70,
    "start_time": "2024-02-26T11:07:46.090Z"
   },
   {
    "duration": 139,
    "start_time": "2024-02-26T11:07:48.446Z"
   },
   {
    "duration": 125,
    "start_time": "2024-02-26T11:16:00.376Z"
   },
   {
    "duration": 130,
    "start_time": "2024-02-26T11:16:03.930Z"
   },
   {
    "duration": 166,
    "start_time": "2024-02-26T11:28:51.850Z"
   },
   {
    "duration": 130,
    "start_time": "2024-02-26T11:28:56.624Z"
   },
   {
    "duration": 881,
    "start_time": "2024-02-26T11:29:18.406Z"
   },
   {
    "duration": 110,
    "start_time": "2024-02-26T11:29:24.179Z"
   },
   {
    "duration": 159,
    "start_time": "2024-02-26T11:29:34.456Z"
   },
   {
    "duration": 184,
    "start_time": "2024-02-26T11:29:39.654Z"
   },
   {
    "duration": 144,
    "start_time": "2024-02-26T11:29:43.327Z"
   },
   {
    "duration": 197,
    "start_time": "2024-02-26T11:29:54.650Z"
   },
   {
    "duration": 158,
    "start_time": "2024-02-26T11:29:58.058Z"
   },
   {
    "duration": 123,
    "start_time": "2024-02-26T11:36:10.173Z"
   },
   {
    "duration": 124,
    "start_time": "2024-02-26T11:36:16.960Z"
   },
   {
    "duration": 10806,
    "start_time": "2024-02-26T11:39:51.218Z"
   },
   {
    "duration": 48,
    "start_time": "2024-02-26T15:46:52.969Z"
   },
   {
    "duration": 1294,
    "start_time": "2024-02-26T15:47:11.824Z"
   },
   {
    "duration": 1046,
    "start_time": "2024-02-26T15:47:13.120Z"
   },
   {
    "duration": 280,
    "start_time": "2024-02-26T15:47:14.167Z"
   },
   {
    "duration": 146,
    "start_time": "2024-02-26T15:47:14.449Z"
   },
   {
    "duration": 165,
    "start_time": "2024-02-26T15:47:14.597Z"
   },
   {
    "duration": 194,
    "start_time": "2024-02-26T15:47:14.764Z"
   },
   {
    "duration": 29,
    "start_time": "2024-02-26T15:47:14.959Z"
   },
   {
    "duration": 57,
    "start_time": "2024-02-26T15:47:14.990Z"
   },
   {
    "duration": 50,
    "start_time": "2024-02-26T15:47:15.049Z"
   },
   {
    "duration": 10,
    "start_time": "2024-02-26T15:47:15.101Z"
   },
   {
    "duration": 49,
    "start_time": "2024-02-26T15:47:15.112Z"
   },
   {
    "duration": 133,
    "start_time": "2024-02-26T15:47:15.163Z"
   },
   {
    "duration": 61,
    "start_time": "2024-02-26T15:47:15.297Z"
   },
   {
    "duration": 33,
    "start_time": "2024-02-26T15:47:15.360Z"
   },
   {
    "duration": 62,
    "start_time": "2024-02-26T15:47:15.395Z"
   },
   {
    "duration": 54,
    "start_time": "2024-02-26T15:47:15.459Z"
   },
   {
    "duration": 79,
    "start_time": "2024-02-26T15:47:15.514Z"
   },
   {
    "duration": 99,
    "start_time": "2024-02-26T15:47:15.595Z"
   },
   {
    "duration": 86,
    "start_time": "2024-02-26T15:47:15.696Z"
   },
   {
    "duration": 380,
    "start_time": "2024-02-26T15:47:15.783Z"
   },
   {
    "duration": 0,
    "start_time": "2024-02-26T15:47:16.164Z"
   },
   {
    "duration": 0,
    "start_time": "2024-02-26T15:47:16.165Z"
   },
   {
    "duration": 0,
    "start_time": "2024-02-26T15:47:16.166Z"
   },
   {
    "duration": 0,
    "start_time": "2024-02-26T15:47:16.167Z"
   },
   {
    "duration": 0,
    "start_time": "2024-02-26T15:47:16.168Z"
   },
   {
    "duration": 0,
    "start_time": "2024-02-26T15:47:16.169Z"
   },
   {
    "duration": 0,
    "start_time": "2024-02-26T15:47:16.170Z"
   },
   {
    "duration": 0,
    "start_time": "2024-02-26T15:47:16.171Z"
   },
   {
    "duration": 312,
    "start_time": "2024-02-26T16:12:23.920Z"
   },
   {
    "duration": 321,
    "start_time": "2024-02-26T16:17:57.042Z"
   },
   {
    "duration": 308,
    "start_time": "2024-02-26T16:19:55.623Z"
   },
   {
    "duration": 438,
    "start_time": "2024-02-26T16:23:25.996Z"
   },
   {
    "duration": 65,
    "start_time": "2024-02-26T16:26:04.533Z"
   },
   {
    "duration": 254,
    "start_time": "2024-02-26T16:27:51.221Z"
   },
   {
    "duration": 281,
    "start_time": "2024-02-26T16:32:24.548Z"
   },
   {
    "duration": 337,
    "start_time": "2024-02-26T16:33:02.697Z"
   },
   {
    "duration": 45,
    "start_time": "2024-02-27T08:10:51.049Z"
   },
   {
    "duration": 1300,
    "start_time": "2024-02-27T08:11:00.142Z"
   },
   {
    "duration": 2766,
    "start_time": "2024-02-27T08:11:01.444Z"
   },
   {
    "duration": 285,
    "start_time": "2024-02-27T08:11:04.211Z"
   },
   {
    "duration": 155,
    "start_time": "2024-02-27T08:11:04.498Z"
   },
   {
    "duration": 200,
    "start_time": "2024-02-27T08:11:04.655Z"
   },
   {
    "duration": 273,
    "start_time": "2024-02-27T08:11:04.856Z"
   },
   {
    "duration": 30,
    "start_time": "2024-02-27T08:11:05.131Z"
   },
   {
    "duration": 60,
    "start_time": "2024-02-27T08:11:05.163Z"
   },
   {
    "duration": 53,
    "start_time": "2024-02-27T08:11:05.225Z"
   },
   {
    "duration": 23,
    "start_time": "2024-02-27T08:11:05.280Z"
   },
   {
    "duration": 79,
    "start_time": "2024-02-27T08:11:05.304Z"
   },
   {
    "duration": 46,
    "start_time": "2024-02-27T08:11:05.384Z"
   },
   {
    "duration": 30,
    "start_time": "2024-02-27T08:11:05.432Z"
   },
   {
    "duration": 37,
    "start_time": "2024-02-27T08:11:05.464Z"
   },
   {
    "duration": 26,
    "start_time": "2024-02-27T08:11:05.502Z"
   },
   {
    "duration": 25,
    "start_time": "2024-02-27T08:11:05.529Z"
   },
   {
    "duration": 87,
    "start_time": "2024-02-27T08:11:05.555Z"
   },
   {
    "duration": 93,
    "start_time": "2024-02-27T08:11:05.643Z"
   },
   {
    "duration": 94,
    "start_time": "2024-02-27T08:11:05.737Z"
   },
   {
    "duration": 420,
    "start_time": "2024-02-27T08:11:05.832Z"
   },
   {
    "duration": 0,
    "start_time": "2024-02-27T08:11:06.254Z"
   },
   {
    "duration": 0,
    "start_time": "2024-02-27T08:11:06.255Z"
   },
   {
    "duration": 0,
    "start_time": "2024-02-27T08:11:06.256Z"
   },
   {
    "duration": 0,
    "start_time": "2024-02-27T08:11:06.257Z"
   },
   {
    "duration": 0,
    "start_time": "2024-02-27T08:11:06.258Z"
   },
   {
    "duration": 0,
    "start_time": "2024-02-27T08:11:06.259Z"
   },
   {
    "duration": 0,
    "start_time": "2024-02-27T08:11:06.260Z"
   },
   {
    "duration": 0,
    "start_time": "2024-02-27T08:11:06.261Z"
   },
   {
    "duration": 0,
    "start_time": "2024-02-27T08:11:06.262Z"
   },
   {
    "duration": 25,
    "start_time": "2024-02-27T08:15:28.060Z"
   },
   {
    "duration": 16,
    "start_time": "2024-02-27T08:18:56.451Z"
   },
   {
    "duration": 61,
    "start_time": "2024-02-27T08:25:36.750Z"
   },
   {
    "duration": 65,
    "start_time": "2024-02-27T08:25:54.694Z"
   },
   {
    "duration": 17,
    "start_time": "2024-02-27T08:28:32.558Z"
   },
   {
    "duration": 14,
    "start_time": "2024-02-27T08:29:47.208Z"
   },
   {
    "duration": 98,
    "start_time": "2024-02-27T08:30:53.941Z"
   },
   {
    "duration": 14,
    "start_time": "2024-02-27T08:31:22.965Z"
   },
   {
    "duration": 19,
    "start_time": "2024-02-27T08:32:14.485Z"
   },
   {
    "duration": 18,
    "start_time": "2024-02-27T08:32:58.666Z"
   },
   {
    "duration": 1259,
    "start_time": "2024-02-27T08:37:02.648Z"
   },
   {
    "duration": 852,
    "start_time": "2024-02-27T08:37:03.909Z"
   },
   {
    "duration": 308,
    "start_time": "2024-02-27T08:37:04.763Z"
   },
   {
    "duration": 156,
    "start_time": "2024-02-27T08:37:05.073Z"
   },
   {
    "duration": 206,
    "start_time": "2024-02-27T08:37:05.231Z"
   },
   {
    "duration": 216,
    "start_time": "2024-02-27T08:37:05.438Z"
   },
   {
    "duration": 38,
    "start_time": "2024-02-27T08:37:05.656Z"
   },
   {
    "duration": 51,
    "start_time": "2024-02-27T08:37:05.696Z"
   },
   {
    "duration": 73,
    "start_time": "2024-02-27T08:37:05.749Z"
   },
   {
    "duration": 12,
    "start_time": "2024-02-27T08:37:05.823Z"
   },
   {
    "duration": 69,
    "start_time": "2024-02-27T08:37:05.836Z"
   },
   {
    "duration": 54,
    "start_time": "2024-02-27T08:37:05.906Z"
   },
   {
    "duration": 45,
    "start_time": "2024-02-27T08:37:05.961Z"
   },
   {
    "duration": 52,
    "start_time": "2024-02-27T08:37:06.008Z"
   },
   {
    "duration": 62,
    "start_time": "2024-02-27T08:37:06.061Z"
   },
   {
    "duration": 28,
    "start_time": "2024-02-27T08:37:06.124Z"
   },
   {
    "duration": 121,
    "start_time": "2024-02-27T08:37:06.154Z"
   },
   {
    "duration": 82,
    "start_time": "2024-02-27T08:37:06.276Z"
   },
   {
    "duration": 95,
    "start_time": "2024-02-27T08:37:06.359Z"
   },
   {
    "duration": 385,
    "start_time": "2024-02-27T08:37:06.456Z"
   },
   {
    "duration": 0,
    "start_time": "2024-02-27T08:37:06.843Z"
   },
   {
    "duration": 0,
    "start_time": "2024-02-27T08:37:06.844Z"
   },
   {
    "duration": 0,
    "start_time": "2024-02-27T08:37:06.845Z"
   },
   {
    "duration": 0,
    "start_time": "2024-02-27T08:37:06.846Z"
   },
   {
    "duration": 0,
    "start_time": "2024-02-27T08:37:06.847Z"
   },
   {
    "duration": 0,
    "start_time": "2024-02-27T08:37:06.848Z"
   },
   {
    "duration": 0,
    "start_time": "2024-02-27T08:37:06.849Z"
   },
   {
    "duration": 0,
    "start_time": "2024-02-27T08:37:06.850Z"
   },
   {
    "duration": 0,
    "start_time": "2024-02-27T08:37:06.851Z"
   },
   {
    "duration": 20,
    "start_time": "2024-02-27T08:39:11.003Z"
   },
   {
    "duration": 1320,
    "start_time": "2024-02-27T08:39:44.763Z"
   },
   {
    "duration": 829,
    "start_time": "2024-02-27T08:39:46.085Z"
   },
   {
    "duration": 286,
    "start_time": "2024-02-27T08:39:46.916Z"
   },
   {
    "duration": 155,
    "start_time": "2024-02-27T08:39:47.204Z"
   },
   {
    "duration": 203,
    "start_time": "2024-02-27T08:39:47.360Z"
   },
   {
    "duration": 285,
    "start_time": "2024-02-27T08:39:47.565Z"
   },
   {
    "duration": 32,
    "start_time": "2024-02-27T08:39:47.851Z"
   },
   {
    "duration": 65,
    "start_time": "2024-02-27T08:39:47.884Z"
   },
   {
    "duration": 67,
    "start_time": "2024-02-27T08:39:47.950Z"
   },
   {
    "duration": 10,
    "start_time": "2024-02-27T08:39:48.020Z"
   },
   {
    "duration": 28,
    "start_time": "2024-02-27T08:39:48.031Z"
   },
   {
    "duration": 41,
    "start_time": "2024-02-27T08:39:48.060Z"
   },
   {
    "duration": 37,
    "start_time": "2024-02-27T08:39:48.102Z"
   },
   {
    "duration": 29,
    "start_time": "2024-02-27T08:39:48.140Z"
   },
   {
    "duration": 32,
    "start_time": "2024-02-27T08:39:48.171Z"
   },
   {
    "duration": 25,
    "start_time": "2024-02-27T08:39:48.204Z"
   },
   {
    "duration": 74,
    "start_time": "2024-02-27T08:39:48.231Z"
   },
   {
    "duration": 84,
    "start_time": "2024-02-27T08:39:48.306Z"
   },
   {
    "duration": 85,
    "start_time": "2024-02-27T08:39:48.392Z"
   },
   {
    "duration": 211,
    "start_time": "2024-02-27T08:39:48.478Z"
   },
   {
    "duration": 69,
    "start_time": "2024-02-27T08:39:48.691Z"
   },
   {
    "duration": 340,
    "start_time": "2024-02-27T08:39:48.762Z"
   },
   {
    "duration": 0,
    "start_time": "2024-02-27T08:39:49.103Z"
   },
   {
    "duration": 0,
    "start_time": "2024-02-27T08:39:49.104Z"
   },
   {
    "duration": 0,
    "start_time": "2024-02-27T08:39:49.106Z"
   },
   {
    "duration": 0,
    "start_time": "2024-02-27T08:39:49.107Z"
   },
   {
    "duration": 0,
    "start_time": "2024-02-27T08:39:49.108Z"
   },
   {
    "duration": 0,
    "start_time": "2024-02-27T08:39:49.110Z"
   },
   {
    "duration": 0,
    "start_time": "2024-02-27T08:39:49.111Z"
   },
   {
    "duration": 1345,
    "start_time": "2024-02-27T08:46:20.272Z"
   },
   {
    "duration": 833,
    "start_time": "2024-02-27T08:46:21.618Z"
   },
   {
    "duration": 284,
    "start_time": "2024-02-27T08:46:22.453Z"
   },
   {
    "duration": 168,
    "start_time": "2024-02-27T08:46:22.739Z"
   },
   {
    "duration": 199,
    "start_time": "2024-02-27T08:46:22.909Z"
   },
   {
    "duration": 252,
    "start_time": "2024-02-27T08:46:23.109Z"
   },
   {
    "duration": 37,
    "start_time": "2024-02-27T08:46:23.363Z"
   },
   {
    "duration": 52,
    "start_time": "2024-02-27T08:46:23.401Z"
   },
   {
    "duration": 68,
    "start_time": "2024-02-27T08:46:23.454Z"
   },
   {
    "duration": 11,
    "start_time": "2024-02-27T08:46:23.524Z"
   },
   {
    "duration": 27,
    "start_time": "2024-02-27T08:46:23.536Z"
   },
   {
    "duration": 47,
    "start_time": "2024-02-27T08:46:23.564Z"
   },
   {
    "duration": 42,
    "start_time": "2024-02-27T08:46:23.613Z"
   },
   {
    "duration": 27,
    "start_time": "2024-02-27T08:46:23.656Z"
   },
   {
    "duration": 27,
    "start_time": "2024-02-27T08:46:23.684Z"
   },
   {
    "duration": 32,
    "start_time": "2024-02-27T08:46:23.712Z"
   },
   {
    "duration": 72,
    "start_time": "2024-02-27T08:46:23.746Z"
   },
   {
    "duration": 93,
    "start_time": "2024-02-27T08:46:23.819Z"
   },
   {
    "duration": 95,
    "start_time": "2024-02-27T08:46:23.914Z"
   },
   {
    "duration": 118,
    "start_time": "2024-02-27T08:46:24.010Z"
   },
   {
    "duration": 0,
    "start_time": "2024-02-27T08:46:24.130Z"
   },
   {
    "duration": 0,
    "start_time": "2024-02-27T08:46:24.131Z"
   },
   {
    "duration": 0,
    "start_time": "2024-02-27T08:46:24.133Z"
   },
   {
    "duration": 0,
    "start_time": "2024-02-27T08:46:24.134Z"
   },
   {
    "duration": 0,
    "start_time": "2024-02-27T08:46:24.136Z"
   },
   {
    "duration": 0,
    "start_time": "2024-02-27T08:46:24.137Z"
   },
   {
    "duration": 0,
    "start_time": "2024-02-27T08:46:24.139Z"
   },
   {
    "duration": 1,
    "start_time": "2024-02-27T08:46:24.140Z"
   },
   {
    "duration": 0,
    "start_time": "2024-02-27T08:46:24.142Z"
   },
   {
    "duration": 248,
    "start_time": "2024-02-27T08:47:21.145Z"
   },
   {
    "duration": 15,
    "start_time": "2024-02-27T08:49:21.824Z"
   },
   {
    "duration": 1303,
    "start_time": "2024-02-27T08:49:45.166Z"
   },
   {
    "duration": 807,
    "start_time": "2024-02-27T08:49:46.471Z"
   },
   {
    "duration": 284,
    "start_time": "2024-02-27T08:49:47.279Z"
   },
   {
    "duration": 156,
    "start_time": "2024-02-27T08:49:47.565Z"
   },
   {
    "duration": 196,
    "start_time": "2024-02-27T08:49:47.722Z"
   },
   {
    "duration": 218,
    "start_time": "2024-02-27T08:49:47.920Z"
   },
   {
    "duration": 32,
    "start_time": "2024-02-27T08:49:48.140Z"
   },
   {
    "duration": 58,
    "start_time": "2024-02-27T08:49:48.173Z"
   },
   {
    "duration": 62,
    "start_time": "2024-02-27T08:49:48.233Z"
   },
   {
    "duration": 11,
    "start_time": "2024-02-27T08:49:48.297Z"
   },
   {
    "duration": 32,
    "start_time": "2024-02-27T08:49:48.310Z"
   },
   {
    "duration": 28,
    "start_time": "2024-02-27T08:49:48.344Z"
   },
   {
    "duration": 54,
    "start_time": "2024-02-27T08:49:48.393Z"
   },
   {
    "duration": 28,
    "start_time": "2024-02-27T08:49:48.449Z"
   },
   {
    "duration": 45,
    "start_time": "2024-02-27T08:49:48.478Z"
   },
   {
    "duration": 25,
    "start_time": "2024-02-27T08:49:48.524Z"
   },
   {
    "duration": 65,
    "start_time": "2024-02-27T08:49:48.550Z"
   },
   {
    "duration": 66,
    "start_time": "2024-02-27T08:49:48.616Z"
   },
   {
    "duration": 110,
    "start_time": "2024-02-27T08:49:48.684Z"
   },
   {
    "duration": 415,
    "start_time": "2024-02-27T08:49:48.796Z"
   },
   {
    "duration": 68,
    "start_time": "2024-02-27T08:49:49.213Z"
   },
   {
    "duration": 4303,
    "start_time": "2024-02-27T08:49:49.293Z"
   },
   {
    "duration": 131,
    "start_time": "2024-02-27T08:49:53.597Z"
   },
   {
    "duration": 0,
    "start_time": "2024-02-27T08:49:53.729Z"
   },
   {
    "duration": 0,
    "start_time": "2024-02-27T08:49:53.730Z"
   },
   {
    "duration": 0,
    "start_time": "2024-02-27T08:49:53.732Z"
   },
   {
    "duration": 0,
    "start_time": "2024-02-27T08:49:53.732Z"
   },
   {
    "duration": 0,
    "start_time": "2024-02-27T08:49:53.733Z"
   },
   {
    "duration": 0,
    "start_time": "2024-02-27T08:49:53.734Z"
   },
   {
    "duration": 1261,
    "start_time": "2024-02-27T08:50:40.935Z"
   },
   {
    "duration": 802,
    "start_time": "2024-02-27T08:50:42.198Z"
   },
   {
    "duration": 277,
    "start_time": "2024-02-27T08:50:43.002Z"
   },
   {
    "duration": 157,
    "start_time": "2024-02-27T08:50:43.281Z"
   },
   {
    "duration": 211,
    "start_time": "2024-02-27T08:50:43.440Z"
   },
   {
    "duration": 273,
    "start_time": "2024-02-27T08:50:43.653Z"
   },
   {
    "duration": 31,
    "start_time": "2024-02-27T08:50:43.928Z"
   },
   {
    "duration": 73,
    "start_time": "2024-02-27T08:50:43.961Z"
   },
   {
    "duration": 56,
    "start_time": "2024-02-27T08:50:44.035Z"
   },
   {
    "duration": 11,
    "start_time": "2024-02-27T08:50:44.094Z"
   },
   {
    "duration": 34,
    "start_time": "2024-02-27T08:50:44.106Z"
   },
   {
    "duration": 25,
    "start_time": "2024-02-27T08:50:44.142Z"
   },
   {
    "duration": 79,
    "start_time": "2024-02-27T08:50:44.168Z"
   },
   {
    "duration": 26,
    "start_time": "2024-02-27T08:50:44.250Z"
   },
   {
    "duration": 35,
    "start_time": "2024-02-27T08:50:44.278Z"
   },
   {
    "duration": 27,
    "start_time": "2024-02-27T08:50:44.315Z"
   },
   {
    "duration": 86,
    "start_time": "2024-02-27T08:50:44.344Z"
   },
   {
    "duration": 73,
    "start_time": "2024-02-27T08:50:44.432Z"
   },
   {
    "duration": 97,
    "start_time": "2024-02-27T08:50:44.507Z"
   },
   {
    "duration": 457,
    "start_time": "2024-02-27T08:50:44.606Z"
   },
   {
    "duration": 73,
    "start_time": "2024-02-27T08:50:45.065Z"
   },
   {
    "duration": 3766,
    "start_time": "2024-02-27T08:50:45.140Z"
   },
   {
    "duration": 200,
    "start_time": "2024-02-27T08:50:48.907Z"
   },
   {
    "duration": 0,
    "start_time": "2024-02-27T08:50:49.108Z"
   },
   {
    "duration": 0,
    "start_time": "2024-02-27T08:50:49.110Z"
   },
   {
    "duration": 0,
    "start_time": "2024-02-27T08:50:49.111Z"
   },
   {
    "duration": 0,
    "start_time": "2024-02-27T08:50:49.111Z"
   },
   {
    "duration": 0,
    "start_time": "2024-02-27T08:50:49.112Z"
   },
   {
    "duration": 0,
    "start_time": "2024-02-27T08:50:49.114Z"
   },
   {
    "duration": 12,
    "start_time": "2024-02-27T08:56:07.612Z"
   },
   {
    "duration": 1384,
    "start_time": "2024-02-27T08:57:55.431Z"
   },
   {
    "duration": 869,
    "start_time": "2024-02-27T08:57:56.817Z"
   },
   {
    "duration": 319,
    "start_time": "2024-02-27T08:57:57.688Z"
   },
   {
    "duration": 172,
    "start_time": "2024-02-27T08:57:58.009Z"
   },
   {
    "duration": 229,
    "start_time": "2024-02-27T08:57:58.194Z"
   },
   {
    "duration": 235,
    "start_time": "2024-02-27T08:57:58.425Z"
   },
   {
    "duration": 39,
    "start_time": "2024-02-27T08:57:58.661Z"
   },
   {
    "duration": 60,
    "start_time": "2024-02-27T08:57:58.702Z"
   },
   {
    "duration": 80,
    "start_time": "2024-02-27T08:57:58.763Z"
   },
   {
    "duration": 11,
    "start_time": "2024-02-27T08:57:58.847Z"
   },
   {
    "duration": 57,
    "start_time": "2024-02-27T08:57:58.860Z"
   },
   {
    "duration": 34,
    "start_time": "2024-02-27T08:57:58.919Z"
   },
   {
    "duration": 98,
    "start_time": "2024-02-27T08:57:58.954Z"
   },
   {
    "duration": 46,
    "start_time": "2024-02-27T08:57:59.054Z"
   },
   {
    "duration": 56,
    "start_time": "2024-02-27T08:57:59.102Z"
   },
   {
    "duration": 26,
    "start_time": "2024-02-27T08:57:59.159Z"
   },
   {
    "duration": 88,
    "start_time": "2024-02-27T08:57:59.186Z"
   },
   {
    "duration": 103,
    "start_time": "2024-02-27T08:57:59.275Z"
   },
   {
    "duration": 109,
    "start_time": "2024-02-27T08:57:59.380Z"
   },
   {
    "duration": 521,
    "start_time": "2024-02-27T08:57:59.490Z"
   },
   {
    "duration": 71,
    "start_time": "2024-02-27T08:58:00.013Z"
   },
   {
    "duration": 1330,
    "start_time": "2024-02-27T08:58:26.671Z"
   },
   {
    "duration": 844,
    "start_time": "2024-02-27T08:58:28.002Z"
   },
   {
    "duration": 300,
    "start_time": "2024-02-27T08:58:28.848Z"
   },
   {
    "duration": 158,
    "start_time": "2024-02-27T08:58:29.150Z"
   },
   {
    "duration": 214,
    "start_time": "2024-02-27T08:58:29.310Z"
   },
   {
    "duration": 249,
    "start_time": "2024-02-27T08:58:29.525Z"
   },
   {
    "duration": 34,
    "start_time": "2024-02-27T08:58:29.776Z"
   },
   {
    "duration": 55,
    "start_time": "2024-02-27T08:58:29.812Z"
   },
   {
    "duration": 76,
    "start_time": "2024-02-27T08:58:29.868Z"
   },
   {
    "duration": 12,
    "start_time": "2024-02-27T08:58:29.946Z"
   },
   {
    "duration": 49,
    "start_time": "2024-02-27T08:58:29.960Z"
   },
   {
    "duration": 52,
    "start_time": "2024-02-27T08:58:30.010Z"
   },
   {
    "duration": 170,
    "start_time": "2024-02-27T08:58:30.064Z"
   },
   {
    "duration": 182,
    "start_time": "2024-02-27T08:58:30.238Z"
   },
   {
    "duration": 331,
    "start_time": "2024-02-27T08:58:30.422Z"
   },
   {
    "duration": 503,
    "start_time": "2024-02-27T08:58:30.754Z"
   },
   {
    "duration": 198,
    "start_time": "2024-02-27T08:58:31.259Z"
   },
   {
    "duration": 148,
    "start_time": "2024-02-27T08:58:31.458Z"
   },
   {
    "duration": 94,
    "start_time": "2024-02-27T08:58:31.608Z"
   },
   {
    "duration": 456,
    "start_time": "2024-02-27T08:58:31.704Z"
   },
   {
    "duration": 0,
    "start_time": "2024-02-27T08:58:32.161Z"
   },
   {
    "duration": 0,
    "start_time": "2024-02-27T08:58:32.162Z"
   },
   {
    "duration": 0,
    "start_time": "2024-02-27T08:58:32.163Z"
   },
   {
    "duration": 0,
    "start_time": "2024-02-27T08:58:32.164Z"
   },
   {
    "duration": 0,
    "start_time": "2024-02-27T08:58:32.165Z"
   },
   {
    "duration": 0,
    "start_time": "2024-02-27T08:58:32.166Z"
   },
   {
    "duration": 1,
    "start_time": "2024-02-27T08:58:32.167Z"
   },
   {
    "duration": 0,
    "start_time": "2024-02-27T08:58:32.168Z"
   },
   {
    "duration": 0,
    "start_time": "2024-02-27T08:58:32.169Z"
   },
   {
    "duration": 0,
    "start_time": "2024-02-27T08:58:32.170Z"
   },
   {
    "duration": 1468,
    "start_time": "2024-02-28T08:45:07.707Z"
   },
   {
    "duration": 1188,
    "start_time": "2024-02-28T08:45:09.177Z"
   },
   {
    "duration": 310,
    "start_time": "2024-02-28T08:45:10.367Z"
   },
   {
    "duration": 167,
    "start_time": "2024-02-28T08:45:10.680Z"
   },
   {
    "duration": 206,
    "start_time": "2024-02-28T08:45:10.849Z"
   },
   {
    "duration": 222,
    "start_time": "2024-02-28T08:45:11.056Z"
   },
   {
    "duration": 37,
    "start_time": "2024-02-28T08:45:11.279Z"
   },
   {
    "duration": 51,
    "start_time": "2024-02-28T08:45:11.317Z"
   },
   {
    "duration": 71,
    "start_time": "2024-02-28T08:45:11.370Z"
   },
   {
    "duration": 11,
    "start_time": "2024-02-28T08:45:11.444Z"
   },
   {
    "duration": 27,
    "start_time": "2024-02-28T08:45:11.456Z"
   },
   {
    "duration": 44,
    "start_time": "2024-02-28T08:45:11.485Z"
   },
   {
    "duration": 31,
    "start_time": "2024-02-28T08:45:11.531Z"
   },
   {
    "duration": 28,
    "start_time": "2024-02-28T08:45:11.564Z"
   },
   {
    "duration": 26,
    "start_time": "2024-02-28T08:45:11.615Z"
   },
   {
    "duration": 28,
    "start_time": "2024-02-28T08:45:11.642Z"
   },
   {
    "duration": 95,
    "start_time": "2024-02-28T08:45:11.672Z"
   },
   {
    "duration": 77,
    "start_time": "2024-02-28T08:45:11.768Z"
   },
   {
    "duration": 97,
    "start_time": "2024-02-28T08:45:11.846Z"
   },
   {
    "duration": 3,
    "start_time": "2024-02-28T08:45:11.944Z"
   },
   {
    "duration": 429,
    "start_time": "2024-02-28T08:45:11.949Z"
   },
   {
    "duration": 1,
    "start_time": "2024-02-28T08:45:12.380Z"
   },
   {
    "duration": 0,
    "start_time": "2024-02-28T08:45:12.382Z"
   },
   {
    "duration": 0,
    "start_time": "2024-02-28T08:45:12.384Z"
   },
   {
    "duration": 0,
    "start_time": "2024-02-28T08:45:12.385Z"
   },
   {
    "duration": 0,
    "start_time": "2024-02-28T08:45:12.387Z"
   },
   {
    "duration": 0,
    "start_time": "2024-02-28T08:45:12.389Z"
   },
   {
    "duration": 0,
    "start_time": "2024-02-28T08:45:12.390Z"
   },
   {
    "duration": 0,
    "start_time": "2024-02-28T08:45:12.392Z"
   },
   {
    "duration": 0,
    "start_time": "2024-02-28T08:45:12.393Z"
   },
   {
    "duration": 1374,
    "start_time": "2024-02-28T08:49:57.904Z"
   },
   {
    "duration": 933,
    "start_time": "2024-02-28T08:49:59.280Z"
   },
   {
    "duration": 314,
    "start_time": "2024-02-28T08:50:00.215Z"
   },
   {
    "duration": 163,
    "start_time": "2024-02-28T08:50:00.531Z"
   },
   {
    "duration": 245,
    "start_time": "2024-02-28T08:50:00.696Z"
   },
   {
    "duration": 204,
    "start_time": "2024-02-28T08:50:00.942Z"
   },
   {
    "duration": 34,
    "start_time": "2024-02-28T08:50:01.148Z"
   },
   {
    "duration": 91,
    "start_time": "2024-02-28T08:50:01.183Z"
   },
   {
    "duration": 59,
    "start_time": "2024-02-28T08:50:01.276Z"
   },
   {
    "duration": 11,
    "start_time": "2024-02-28T08:50:01.338Z"
   },
   {
    "duration": 73,
    "start_time": "2024-02-28T08:50:01.351Z"
   },
   {
    "duration": 31,
    "start_time": "2024-02-28T08:50:01.426Z"
   },
   {
    "duration": 75,
    "start_time": "2024-02-28T08:50:01.458Z"
   },
   {
    "duration": 63,
    "start_time": "2024-02-28T08:50:01.535Z"
   },
   {
    "duration": 66,
    "start_time": "2024-02-28T08:50:01.600Z"
   },
   {
    "duration": 46,
    "start_time": "2024-02-28T08:50:01.668Z"
   },
   {
    "duration": 68,
    "start_time": "2024-02-28T08:50:01.716Z"
   },
   {
    "duration": 99,
    "start_time": "2024-02-28T08:50:01.785Z"
   },
   {
    "duration": 107,
    "start_time": "2024-02-28T08:50:01.886Z"
   },
   {
    "duration": 2,
    "start_time": "2024-02-28T08:50:01.995Z"
   },
   {
    "duration": 308,
    "start_time": "2024-02-28T08:50:01.999Z"
   },
   {
    "duration": 4891,
    "start_time": "2024-02-28T08:50:02.309Z"
   },
   {
    "duration": 0,
    "start_time": "2024-02-28T08:50:07.202Z"
   },
   {
    "duration": 0,
    "start_time": "2024-02-28T08:50:07.204Z"
   },
   {
    "duration": 0,
    "start_time": "2024-02-28T08:50:07.206Z"
   },
   {
    "duration": 0,
    "start_time": "2024-02-28T08:50:07.207Z"
   },
   {
    "duration": 0,
    "start_time": "2024-02-28T08:50:07.209Z"
   },
   {
    "duration": 0,
    "start_time": "2024-02-28T08:50:07.210Z"
   },
   {
    "duration": 0,
    "start_time": "2024-02-28T08:50:07.212Z"
   },
   {
    "duration": 0,
    "start_time": "2024-02-28T08:50:07.214Z"
   },
   {
    "duration": 19,
    "start_time": "2024-02-28T08:51:02.270Z"
   },
   {
    "duration": 4,
    "start_time": "2024-02-28T08:52:19.881Z"
   },
   {
    "duration": 823,
    "start_time": "2024-02-28T08:52:22.442Z"
   },
   {
    "duration": 11,
    "start_time": "2024-02-28T08:52:56.848Z"
   },
   {
    "duration": 12,
    "start_time": "2024-02-28T08:53:02.934Z"
   },
   {
    "duration": 7,
    "start_time": "2024-02-28T08:54:22.930Z"
   },
   {
    "duration": 16,
    "start_time": "2024-02-28T08:55:07.641Z"
   },
   {
    "duration": 159,
    "start_time": "2024-02-28T08:55:30.994Z"
   },
   {
    "duration": 16,
    "start_time": "2024-02-28T08:55:45.948Z"
   },
   {
    "duration": 1278,
    "start_time": "2024-02-28T12:53:52.442Z"
   },
   {
    "duration": 1060,
    "start_time": "2024-02-28T12:53:56.500Z"
   },
   {
    "duration": 18,
    "start_time": "2024-02-28T12:54:01.998Z"
   },
   {
    "duration": 98,
    "start_time": "2024-02-28T12:54:14.330Z"
   },
   {
    "duration": 10,
    "start_time": "2024-02-28T12:54:18.157Z"
   },
   {
    "duration": 143,
    "start_time": "2024-02-28T12:54:44.378Z"
   },
   {
    "duration": 8,
    "start_time": "2024-02-28T12:55:29.454Z"
   },
   {
    "duration": 12,
    "start_time": "2024-02-28T12:55:34.673Z"
   },
   {
    "duration": 882,
    "start_time": "2024-02-28T12:56:05.609Z"
   },
   {
    "duration": 9,
    "start_time": "2024-02-28T12:56:08.367Z"
   },
   {
    "duration": 1336,
    "start_time": "2024-02-28T13:00:27.623Z"
   },
   {
    "duration": 839,
    "start_time": "2024-02-28T13:00:28.961Z"
   },
   {
    "duration": 342,
    "start_time": "2024-02-28T13:00:29.801Z"
   },
   {
    "duration": 163,
    "start_time": "2024-02-28T13:00:30.145Z"
   },
   {
    "duration": 196,
    "start_time": "2024-02-28T13:00:30.310Z"
   },
   {
    "duration": 226,
    "start_time": "2024-02-28T13:00:30.508Z"
   },
   {
    "duration": 37,
    "start_time": "2024-02-28T13:00:30.736Z"
   },
   {
    "duration": 89,
    "start_time": "2024-02-28T13:00:30.775Z"
   },
   {
    "duration": 67,
    "start_time": "2024-02-28T13:00:30.866Z"
   },
   {
    "duration": 27,
    "start_time": "2024-02-28T13:00:30.935Z"
   },
   {
    "duration": 84,
    "start_time": "2024-02-28T13:00:30.964Z"
   },
   {
    "duration": 46,
    "start_time": "2024-02-28T13:00:31.050Z"
   },
   {
    "duration": 103,
    "start_time": "2024-02-28T13:00:31.098Z"
   },
   {
    "duration": 45,
    "start_time": "2024-02-28T13:00:31.204Z"
   },
   {
    "duration": 94,
    "start_time": "2024-02-28T13:00:31.251Z"
   },
   {
    "duration": 112,
    "start_time": "2024-02-28T13:00:31.347Z"
   },
   {
    "duration": 92,
    "start_time": "2024-02-28T13:00:31.460Z"
   },
   {
    "duration": 107,
    "start_time": "2024-02-28T13:00:31.553Z"
   },
   {
    "duration": 123,
    "start_time": "2024-02-28T13:00:31.661Z"
   },
   {
    "duration": 3,
    "start_time": "2024-02-28T13:00:31.786Z"
   },
   {
    "duration": 639,
    "start_time": "2024-02-28T13:00:31.791Z"
   },
   {
    "duration": 108,
    "start_time": "2024-02-28T13:00:32.431Z"
   },
   {
    "duration": 0,
    "start_time": "2024-02-28T13:00:32.541Z"
   },
   {
    "duration": 0,
    "start_time": "2024-02-28T13:00:32.542Z"
   },
   {
    "duration": 0,
    "start_time": "2024-02-28T13:00:32.543Z"
   },
   {
    "duration": 0,
    "start_time": "2024-02-28T13:00:32.544Z"
   },
   {
    "duration": 0,
    "start_time": "2024-02-28T13:00:32.545Z"
   },
   {
    "duration": 0,
    "start_time": "2024-02-28T13:00:32.546Z"
   },
   {
    "duration": 0,
    "start_time": "2024-02-28T13:00:32.547Z"
   },
   {
    "duration": 0,
    "start_time": "2024-02-28T13:00:32.547Z"
   },
   {
    "duration": 0,
    "start_time": "2024-02-28T13:00:32.549Z"
   },
   {
    "duration": 1296,
    "start_time": "2024-02-28T13:02:53.137Z"
   },
   {
    "duration": 825,
    "start_time": "2024-02-28T13:02:54.434Z"
   },
   {
    "duration": 320,
    "start_time": "2024-02-28T13:02:55.260Z"
   },
   {
    "duration": 169,
    "start_time": "2024-02-28T13:02:55.582Z"
   },
   {
    "duration": 199,
    "start_time": "2024-02-28T13:02:55.754Z"
   },
   {
    "duration": 224,
    "start_time": "2024-02-28T13:02:55.955Z"
   },
   {
    "duration": 35,
    "start_time": "2024-02-28T13:02:56.180Z"
   },
   {
    "duration": 85,
    "start_time": "2024-02-28T13:02:56.217Z"
   },
   {
    "duration": 77,
    "start_time": "2024-02-28T13:02:56.304Z"
   },
   {
    "duration": 12,
    "start_time": "2024-02-28T13:02:56.384Z"
   },
   {
    "duration": 52,
    "start_time": "2024-02-28T13:02:56.397Z"
   },
   {
    "duration": 47,
    "start_time": "2024-02-28T13:02:56.450Z"
   },
   {
    "duration": 47,
    "start_time": "2024-02-28T13:02:56.498Z"
   },
   {
    "duration": 42,
    "start_time": "2024-02-28T13:02:56.547Z"
   },
   {
    "duration": 44,
    "start_time": "2024-02-28T13:02:56.591Z"
   },
   {
    "duration": 28,
    "start_time": "2024-02-28T13:02:56.637Z"
   },
   {
    "duration": 84,
    "start_time": "2024-02-28T13:02:56.667Z"
   },
   {
    "duration": 86,
    "start_time": "2024-02-28T13:02:56.752Z"
   },
   {
    "duration": 117,
    "start_time": "2024-02-28T13:02:56.839Z"
   },
   {
    "duration": 2,
    "start_time": "2024-02-28T13:02:56.958Z"
   },
   {
    "duration": 940,
    "start_time": "2024-02-28T13:02:56.962Z"
   },
   {
    "duration": 138,
    "start_time": "2024-02-28T13:02:57.903Z"
   },
   {
    "duration": 0,
    "start_time": "2024-02-28T13:02:58.043Z"
   },
   {
    "duration": 0,
    "start_time": "2024-02-28T13:02:58.044Z"
   },
   {
    "duration": 0,
    "start_time": "2024-02-28T13:02:58.045Z"
   },
   {
    "duration": 0,
    "start_time": "2024-02-28T13:02:58.046Z"
   },
   {
    "duration": 0,
    "start_time": "2024-02-28T13:02:58.047Z"
   },
   {
    "duration": 0,
    "start_time": "2024-02-28T13:02:58.048Z"
   },
   {
    "duration": 0,
    "start_time": "2024-02-28T13:02:58.049Z"
   },
   {
    "duration": 0,
    "start_time": "2024-02-28T13:02:58.050Z"
   },
   {
    "duration": 0,
    "start_time": "2024-02-28T13:02:58.051Z"
   },
   {
    "duration": 1405,
    "start_time": "2024-02-28T13:03:44.944Z"
   },
   {
    "duration": 864,
    "start_time": "2024-02-28T13:03:46.351Z"
   },
   {
    "duration": 308,
    "start_time": "2024-02-28T13:03:47.216Z"
   },
   {
    "duration": 156,
    "start_time": "2024-02-28T13:03:47.525Z"
   },
   {
    "duration": 214,
    "start_time": "2024-02-28T13:03:47.682Z"
   },
   {
    "duration": 236,
    "start_time": "2024-02-28T13:03:47.897Z"
   },
   {
    "duration": 34,
    "start_time": "2024-02-28T13:03:48.136Z"
   },
   {
    "duration": 66,
    "start_time": "2024-02-28T13:03:48.172Z"
   },
   {
    "duration": 55,
    "start_time": "2024-02-28T13:03:48.240Z"
   },
   {
    "duration": 11,
    "start_time": "2024-02-28T13:03:48.298Z"
   },
   {
    "duration": 45,
    "start_time": "2024-02-28T13:03:48.310Z"
   },
   {
    "duration": 31,
    "start_time": "2024-02-28T13:03:48.357Z"
   },
   {
    "duration": 48,
    "start_time": "2024-02-28T13:03:48.390Z"
   },
   {
    "duration": 26,
    "start_time": "2024-02-28T13:03:48.440Z"
   },
   {
    "duration": 28,
    "start_time": "2024-02-28T13:03:48.468Z"
   },
   {
    "duration": 38,
    "start_time": "2024-02-28T13:03:48.498Z"
   },
   {
    "duration": 57,
    "start_time": "2024-02-28T13:03:48.538Z"
   },
   {
    "duration": 86,
    "start_time": "2024-02-28T13:03:48.597Z"
   },
   {
    "duration": 96,
    "start_time": "2024-02-28T13:03:48.684Z"
   },
   {
    "duration": 2,
    "start_time": "2024-02-28T13:03:48.782Z"
   },
   {
    "duration": 702,
    "start_time": "2024-02-28T13:03:48.786Z"
   },
   {
    "duration": 0,
    "start_time": "2024-02-28T13:03:49.490Z"
   },
   {
    "duration": 1,
    "start_time": "2024-02-28T13:03:49.490Z"
   },
   {
    "duration": 0,
    "start_time": "2024-02-28T13:03:49.492Z"
   },
   {
    "duration": 0,
    "start_time": "2024-02-28T13:03:49.493Z"
   },
   {
    "duration": 0,
    "start_time": "2024-02-28T13:03:49.494Z"
   },
   {
    "duration": 0,
    "start_time": "2024-02-28T13:03:49.495Z"
   },
   {
    "duration": 0,
    "start_time": "2024-02-28T13:03:49.496Z"
   },
   {
    "duration": 0,
    "start_time": "2024-02-28T13:03:49.497Z"
   },
   {
    "duration": 0,
    "start_time": "2024-02-28T13:03:49.498Z"
   },
   {
    "duration": 1,
    "start_time": "2024-02-28T13:03:49.498Z"
   },
   {
    "duration": 491,
    "start_time": "2024-02-28T13:05:00.381Z"
   },
   {
    "duration": 1289,
    "start_time": "2024-02-28T13:05:32.081Z"
   },
   {
    "duration": 874,
    "start_time": "2024-02-28T13:05:33.373Z"
   },
   {
    "duration": 317,
    "start_time": "2024-02-28T13:05:34.248Z"
   },
   {
    "duration": 154,
    "start_time": "2024-02-28T13:05:34.567Z"
   },
   {
    "duration": 211,
    "start_time": "2024-02-28T13:05:34.723Z"
   },
   {
    "duration": 200,
    "start_time": "2024-02-28T13:05:34.936Z"
   },
   {
    "duration": 32,
    "start_time": "2024-02-28T13:05:35.138Z"
   },
   {
    "duration": 49,
    "start_time": "2024-02-28T13:05:35.171Z"
   },
   {
    "duration": 75,
    "start_time": "2024-02-28T13:05:35.221Z"
   },
   {
    "duration": 11,
    "start_time": "2024-02-28T13:05:35.298Z"
   },
   {
    "duration": 49,
    "start_time": "2024-02-28T13:05:35.311Z"
   },
   {
    "duration": 25,
    "start_time": "2024-02-28T13:05:35.361Z"
   },
   {
    "duration": 47,
    "start_time": "2024-02-28T13:05:35.388Z"
   },
   {
    "duration": 27,
    "start_time": "2024-02-28T13:05:35.437Z"
   },
   {
    "duration": 26,
    "start_time": "2024-02-28T13:05:35.466Z"
   },
   {
    "duration": 46,
    "start_time": "2024-02-28T13:05:35.493Z"
   },
   {
    "duration": 57,
    "start_time": "2024-02-28T13:05:35.541Z"
   },
   {
    "duration": 82,
    "start_time": "2024-02-28T13:05:35.600Z"
   },
   {
    "duration": 100,
    "start_time": "2024-02-28T13:05:35.684Z"
   },
   {
    "duration": 4,
    "start_time": "2024-02-28T13:05:35.787Z"
   },
   {
    "duration": 708,
    "start_time": "2024-02-28T13:05:35.793Z"
   },
   {
    "duration": 0,
    "start_time": "2024-02-28T13:05:36.503Z"
   },
   {
    "duration": 0,
    "start_time": "2024-02-28T13:05:36.504Z"
   },
   {
    "duration": 0,
    "start_time": "2024-02-28T13:05:36.505Z"
   },
   {
    "duration": 0,
    "start_time": "2024-02-28T13:05:36.506Z"
   },
   {
    "duration": 0,
    "start_time": "2024-02-28T13:05:36.507Z"
   },
   {
    "duration": 0,
    "start_time": "2024-02-28T13:05:36.508Z"
   },
   {
    "duration": 0,
    "start_time": "2024-02-28T13:05:36.509Z"
   },
   {
    "duration": 0,
    "start_time": "2024-02-28T13:05:36.510Z"
   },
   {
    "duration": 0,
    "start_time": "2024-02-28T13:05:36.511Z"
   },
   {
    "duration": 0,
    "start_time": "2024-02-28T13:05:36.512Z"
   },
   {
    "duration": 0,
    "start_time": "2024-02-28T13:05:36.513Z"
   },
   {
    "duration": 1309,
    "start_time": "2024-02-28T13:09:16.929Z"
   },
   {
    "duration": 879,
    "start_time": "2024-02-28T13:09:18.240Z"
   },
   {
    "duration": 303,
    "start_time": "2024-02-28T13:09:19.121Z"
   },
   {
    "duration": 158,
    "start_time": "2024-02-28T13:09:19.426Z"
   },
   {
    "duration": 212,
    "start_time": "2024-02-28T13:09:19.586Z"
   },
   {
    "duration": 219,
    "start_time": "2024-02-28T13:09:19.800Z"
   },
   {
    "duration": 34,
    "start_time": "2024-02-28T13:09:20.021Z"
   },
   {
    "duration": 51,
    "start_time": "2024-02-28T13:09:20.057Z"
   },
   {
    "duration": 78,
    "start_time": "2024-02-28T13:09:20.109Z"
   },
   {
    "duration": 11,
    "start_time": "2024-02-28T13:09:20.189Z"
   },
   {
    "duration": 56,
    "start_time": "2024-02-28T13:09:20.202Z"
   },
   {
    "duration": 25,
    "start_time": "2024-02-28T13:09:20.260Z"
   },
   {
    "duration": 46,
    "start_time": "2024-02-28T13:09:20.287Z"
   },
   {
    "duration": 26,
    "start_time": "2024-02-28T13:09:20.335Z"
   },
   {
    "duration": 25,
    "start_time": "2024-02-28T13:09:20.363Z"
   },
   {
    "duration": 48,
    "start_time": "2024-02-28T13:09:20.389Z"
   },
   {
    "duration": 62,
    "start_time": "2024-02-28T13:09:20.438Z"
   },
   {
    "duration": 92,
    "start_time": "2024-02-28T13:09:20.502Z"
   },
   {
    "duration": 101,
    "start_time": "2024-02-28T13:09:20.595Z"
   },
   {
    "duration": 3,
    "start_time": "2024-02-28T13:09:20.698Z"
   },
   {
    "duration": 840,
    "start_time": "2024-02-28T13:09:20.702Z"
   },
   {
    "duration": 3,
    "start_time": "2024-02-28T13:09:21.543Z"
   },
   {
    "duration": 124,
    "start_time": "2024-02-28T13:09:21.547Z"
   },
   {
    "duration": 0,
    "start_time": "2024-02-28T13:09:21.673Z"
   },
   {
    "duration": 0,
    "start_time": "2024-02-28T13:09:21.675Z"
   },
   {
    "duration": 0,
    "start_time": "2024-02-28T13:09:21.677Z"
   },
   {
    "duration": 0,
    "start_time": "2024-02-28T13:09:21.678Z"
   },
   {
    "duration": 0,
    "start_time": "2024-02-28T13:09:21.679Z"
   },
   {
    "duration": 0,
    "start_time": "2024-02-28T13:09:21.681Z"
   },
   {
    "duration": 0,
    "start_time": "2024-02-28T13:09:21.682Z"
   },
   {
    "duration": 0,
    "start_time": "2024-02-28T13:09:21.683Z"
   },
   {
    "duration": 0,
    "start_time": "2024-02-28T13:09:21.685Z"
   },
   {
    "duration": 1315,
    "start_time": "2024-02-28T13:11:25.542Z"
   },
   {
    "duration": 837,
    "start_time": "2024-02-28T13:11:26.860Z"
   },
   {
    "duration": 312,
    "start_time": "2024-02-28T13:11:27.699Z"
   },
   {
    "duration": 160,
    "start_time": "2024-02-28T13:11:28.013Z"
   },
   {
    "duration": 208,
    "start_time": "2024-02-28T13:11:28.174Z"
   },
   {
    "duration": 210,
    "start_time": "2024-02-28T13:11:28.383Z"
   },
   {
    "duration": 40,
    "start_time": "2024-02-28T13:11:28.595Z"
   },
   {
    "duration": 50,
    "start_time": "2024-02-28T13:11:28.636Z"
   },
   {
    "duration": 70,
    "start_time": "2024-02-28T13:11:28.687Z"
   },
   {
    "duration": 10,
    "start_time": "2024-02-28T13:11:28.759Z"
   },
   {
    "duration": 31,
    "start_time": "2024-02-28T13:11:28.770Z"
   },
   {
    "duration": 47,
    "start_time": "2024-02-28T13:11:28.803Z"
   },
   {
    "duration": 27,
    "start_time": "2024-02-28T13:11:28.851Z"
   },
   {
    "duration": 43,
    "start_time": "2024-02-28T13:11:28.879Z"
   },
   {
    "duration": 31,
    "start_time": "2024-02-28T13:11:28.924Z"
   },
   {
    "duration": 41,
    "start_time": "2024-02-28T13:11:28.956Z"
   },
   {
    "duration": 74,
    "start_time": "2024-02-28T13:11:28.999Z"
   },
   {
    "duration": 87,
    "start_time": "2024-02-28T13:11:29.075Z"
   },
   {
    "duration": 106,
    "start_time": "2024-02-28T13:11:29.164Z"
   },
   {
    "duration": 3,
    "start_time": "2024-02-28T13:11:29.272Z"
   },
   {
    "duration": 910,
    "start_time": "2024-02-28T13:11:29.277Z"
   },
   {
    "duration": 2,
    "start_time": "2024-02-28T13:11:30.189Z"
   },
   {
    "duration": 198,
    "start_time": "2024-02-28T13:11:30.193Z"
   },
   {
    "duration": 0,
    "start_time": "2024-02-28T13:11:30.393Z"
   },
   {
    "duration": 0,
    "start_time": "2024-02-28T13:11:30.394Z"
   },
   {
    "duration": 0,
    "start_time": "2024-02-28T13:11:30.395Z"
   },
   {
    "duration": 0,
    "start_time": "2024-02-28T13:11:30.396Z"
   },
   {
    "duration": 0,
    "start_time": "2024-02-28T13:11:30.397Z"
   },
   {
    "duration": 0,
    "start_time": "2024-02-28T13:11:30.398Z"
   },
   {
    "duration": 0,
    "start_time": "2024-02-28T13:11:30.398Z"
   },
   {
    "duration": 0,
    "start_time": "2024-02-28T13:11:30.399Z"
   },
   {
    "duration": 0,
    "start_time": "2024-02-28T13:11:30.400Z"
   },
   {
    "duration": 1347,
    "start_time": "2024-02-28T13:12:01.901Z"
   },
   {
    "duration": 909,
    "start_time": "2024-02-28T13:12:03.250Z"
   },
   {
    "duration": 302,
    "start_time": "2024-02-28T13:12:04.161Z"
   },
   {
    "duration": 150,
    "start_time": "2024-02-28T13:12:04.465Z"
   },
   {
    "duration": 200,
    "start_time": "2024-02-28T13:12:04.618Z"
   },
   {
    "duration": 215,
    "start_time": "2024-02-28T13:12:04.819Z"
   },
   {
    "duration": 34,
    "start_time": "2024-02-28T13:12:05.036Z"
   },
   {
    "duration": 64,
    "start_time": "2024-02-28T13:12:05.072Z"
   },
   {
    "duration": 59,
    "start_time": "2024-02-28T13:12:05.137Z"
   },
   {
    "duration": 35,
    "start_time": "2024-02-28T13:12:05.198Z"
   },
   {
    "duration": 29,
    "start_time": "2024-02-28T13:12:05.235Z"
   },
   {
    "duration": 27,
    "start_time": "2024-02-28T13:12:05.265Z"
   },
   {
    "duration": 51,
    "start_time": "2024-02-28T13:12:05.293Z"
   },
   {
    "duration": 27,
    "start_time": "2024-02-28T13:12:05.346Z"
   },
   {
    "duration": 27,
    "start_time": "2024-02-28T13:12:05.374Z"
   },
   {
    "duration": 48,
    "start_time": "2024-02-28T13:12:05.402Z"
   },
   {
    "duration": 61,
    "start_time": "2024-02-28T13:12:05.452Z"
   },
   {
    "duration": 90,
    "start_time": "2024-02-28T13:12:05.515Z"
   },
   {
    "duration": 113,
    "start_time": "2024-02-28T13:12:05.607Z"
   },
   {
    "duration": 4,
    "start_time": "2024-02-28T13:12:05.722Z"
   },
   {
    "duration": 843,
    "start_time": "2024-02-28T13:12:05.734Z"
   },
   {
    "duration": 3,
    "start_time": "2024-02-28T13:12:06.579Z"
   },
   {
    "duration": 110,
    "start_time": "2024-02-28T13:12:06.584Z"
   },
   {
    "duration": 0,
    "start_time": "2024-02-28T13:12:06.696Z"
   },
   {
    "duration": 0,
    "start_time": "2024-02-28T13:12:06.697Z"
   },
   {
    "duration": 0,
    "start_time": "2024-02-28T13:12:06.698Z"
   },
   {
    "duration": 0,
    "start_time": "2024-02-28T13:12:06.699Z"
   },
   {
    "duration": 0,
    "start_time": "2024-02-28T13:12:06.700Z"
   },
   {
    "duration": 0,
    "start_time": "2024-02-28T13:12:06.701Z"
   },
   {
    "duration": 0,
    "start_time": "2024-02-28T13:12:06.702Z"
   },
   {
    "duration": 0,
    "start_time": "2024-02-28T13:12:06.703Z"
   },
   {
    "duration": 0,
    "start_time": "2024-02-28T13:12:06.704Z"
   },
   {
    "duration": 1276,
    "start_time": "2024-02-28T13:14:33.891Z"
   },
   {
    "duration": 867,
    "start_time": "2024-02-28T13:14:35.169Z"
   },
   {
    "duration": 289,
    "start_time": "2024-02-28T13:14:36.037Z"
   },
   {
    "duration": 153,
    "start_time": "2024-02-28T13:14:36.328Z"
   },
   {
    "duration": 175,
    "start_time": "2024-02-28T13:14:36.483Z"
   },
   {
    "duration": 190,
    "start_time": "2024-02-28T13:14:36.659Z"
   },
   {
    "duration": 34,
    "start_time": "2024-02-28T13:14:36.850Z"
   },
   {
    "duration": 74,
    "start_time": "2024-02-28T13:14:36.885Z"
   },
   {
    "duration": 55,
    "start_time": "2024-02-28T13:14:36.961Z"
   },
   {
    "duration": 27,
    "start_time": "2024-02-28T13:14:37.019Z"
   },
   {
    "duration": 26,
    "start_time": "2024-02-28T13:14:37.048Z"
   },
   {
    "duration": 25,
    "start_time": "2024-02-28T13:14:37.076Z"
   },
   {
    "duration": 55,
    "start_time": "2024-02-28T13:14:37.103Z"
   },
   {
    "duration": 27,
    "start_time": "2024-02-28T13:14:37.160Z"
   },
   {
    "duration": 45,
    "start_time": "2024-02-28T13:14:37.188Z"
   },
   {
    "duration": 27,
    "start_time": "2024-02-28T13:14:37.234Z"
   },
   {
    "duration": 71,
    "start_time": "2024-02-28T13:14:37.263Z"
   },
   {
    "duration": 66,
    "start_time": "2024-02-28T13:14:37.336Z"
   },
   {
    "duration": 104,
    "start_time": "2024-02-28T13:14:37.403Z"
   },
   {
    "duration": 2,
    "start_time": "2024-02-28T13:14:37.509Z"
   },
   {
    "duration": 836,
    "start_time": "2024-02-28T13:14:37.513Z"
   },
   {
    "duration": 370401,
    "start_time": "2024-02-28T13:14:38.351Z"
   },
   {
    "duration": 10651,
    "start_time": "2024-02-28T13:20:48.755Z"
   },
   {
    "duration": 167,
    "start_time": "2024-02-28T13:20:59.407Z"
   },
   {
    "duration": 72851,
    "start_time": "2024-02-28T13:20:59.576Z"
   },
   {
    "duration": 1295,
    "start_time": "2024-02-28T13:24:03.464Z"
   },
   {
    "duration": 932,
    "start_time": "2024-02-28T13:24:04.760Z"
   },
   {
    "duration": 356,
    "start_time": "2024-02-28T13:24:05.694Z"
   },
   {
    "duration": 149,
    "start_time": "2024-02-28T13:24:06.052Z"
   },
   {
    "duration": 228,
    "start_time": "2024-02-28T13:24:06.203Z"
   },
   {
    "duration": 217,
    "start_time": "2024-02-28T13:24:06.433Z"
   },
   {
    "duration": 35,
    "start_time": "2024-02-28T13:24:06.652Z"
   },
   {
    "duration": 72,
    "start_time": "2024-02-28T13:24:06.689Z"
   },
   {
    "duration": 82,
    "start_time": "2024-02-28T13:24:06.764Z"
   },
   {
    "duration": 15,
    "start_time": "2024-02-28T13:24:06.851Z"
   },
   {
    "duration": 63,
    "start_time": "2024-02-28T13:24:06.868Z"
   },
   {
    "duration": 35,
    "start_time": "2024-02-28T13:24:06.933Z"
   },
   {
    "duration": 48,
    "start_time": "2024-02-28T13:24:06.971Z"
   },
   {
    "duration": 32,
    "start_time": "2024-02-28T13:24:07.020Z"
   },
   {
    "duration": 35,
    "start_time": "2024-02-28T13:24:07.053Z"
   },
   {
    "duration": 51,
    "start_time": "2024-02-28T13:24:07.090Z"
   },
   {
    "duration": 89,
    "start_time": "2024-02-28T13:24:07.143Z"
   },
   {
    "duration": 88,
    "start_time": "2024-02-28T13:24:07.233Z"
   },
   {
    "duration": 107,
    "start_time": "2024-02-28T13:24:07.322Z"
   },
   {
    "duration": 3,
    "start_time": "2024-02-28T13:24:07.430Z"
   },
   {
    "duration": 889,
    "start_time": "2024-02-28T13:24:07.435Z"
   },
   {
    "duration": 1242,
    "start_time": "2024-02-28T13:26:42.879Z"
   },
   {
    "duration": 861,
    "start_time": "2024-02-28T13:26:44.122Z"
   },
   {
    "duration": 297,
    "start_time": "2024-02-28T13:26:44.984Z"
   },
   {
    "duration": 155,
    "start_time": "2024-02-28T13:26:45.283Z"
   },
   {
    "duration": 202,
    "start_time": "2024-02-28T13:26:45.440Z"
   },
   {
    "duration": 218,
    "start_time": "2024-02-28T13:26:45.644Z"
   },
   {
    "duration": 45,
    "start_time": "2024-02-28T13:26:45.864Z"
   },
   {
    "duration": 76,
    "start_time": "2024-02-28T13:26:45.911Z"
   },
   {
    "duration": 62,
    "start_time": "2024-02-28T13:26:45.989Z"
   },
   {
    "duration": 10,
    "start_time": "2024-02-28T13:26:46.054Z"
   },
   {
    "duration": 26,
    "start_time": "2024-02-28T13:26:46.066Z"
   },
   {
    "duration": 50,
    "start_time": "2024-02-28T13:26:46.094Z"
   },
   {
    "duration": 46,
    "start_time": "2024-02-28T13:26:46.145Z"
   },
   {
    "duration": 30,
    "start_time": "2024-02-28T13:26:46.193Z"
   },
   {
    "duration": 42,
    "start_time": "2024-02-28T13:26:46.233Z"
   },
   {
    "duration": 30,
    "start_time": "2024-02-28T13:26:46.277Z"
   },
   {
    "duration": 61,
    "start_time": "2024-02-28T13:26:46.308Z"
   },
   {
    "duration": 118,
    "start_time": "2024-02-28T13:26:46.371Z"
   },
   {
    "duration": 98,
    "start_time": "2024-02-28T13:26:46.491Z"
   },
   {
    "duration": 3,
    "start_time": "2024-02-28T13:26:46.590Z"
   },
   {
    "duration": 834,
    "start_time": "2024-02-28T13:26:46.594Z"
   },
   {
    "duration": 10096,
    "start_time": "2024-02-28T13:26:47.430Z"
   },
   {
    "duration": 172,
    "start_time": "2024-02-28T13:26:57.528Z"
   },
   {
    "duration": 70785,
    "start_time": "2024-02-28T13:26:57.701Z"
   },
   {
    "duration": 2686,
    "start_time": "2024-02-28T13:28:08.488Z"
   },
   {
    "duration": 0,
    "start_time": "2024-02-28T13:28:11.177Z"
   },
   {
    "duration": 0,
    "start_time": "2024-02-28T13:28:11.181Z"
   },
   {
    "duration": 0,
    "start_time": "2024-02-28T13:28:11.183Z"
   },
   {
    "duration": 0,
    "start_time": "2024-02-28T13:28:11.184Z"
   },
   {
    "duration": 360,
    "start_time": "2024-02-28T13:28:21.753Z"
   },
   {
    "duration": 1286,
    "start_time": "2024-02-28T13:40:15.625Z"
   },
   {
    "duration": 890,
    "start_time": "2024-02-28T13:40:16.913Z"
   },
   {
    "duration": 298,
    "start_time": "2024-02-28T13:40:17.805Z"
   },
   {
    "duration": 152,
    "start_time": "2024-02-28T13:40:18.105Z"
   },
   {
    "duration": 200,
    "start_time": "2024-02-28T13:40:18.258Z"
   },
   {
    "duration": 210,
    "start_time": "2024-02-28T13:40:18.460Z"
   },
   {
    "duration": 33,
    "start_time": "2024-02-28T13:40:18.671Z"
   },
   {
    "duration": 59,
    "start_time": "2024-02-28T13:40:18.706Z"
   },
   {
    "duration": 66,
    "start_time": "2024-02-28T13:40:18.767Z"
   },
   {
    "duration": 11,
    "start_time": "2024-02-28T13:40:18.836Z"
   },
   {
    "duration": 39,
    "start_time": "2024-02-28T13:40:18.848Z"
   },
   {
    "duration": 26,
    "start_time": "2024-02-28T13:40:18.888Z"
   },
   {
    "duration": 43,
    "start_time": "2024-02-28T13:40:18.915Z"
   },
   {
    "duration": 30,
    "start_time": "2024-02-28T13:40:18.960Z"
   },
   {
    "duration": 23,
    "start_time": "2024-02-28T13:40:18.992Z"
   },
   {
    "duration": 40,
    "start_time": "2024-02-28T13:40:19.016Z"
   },
   {
    "duration": 58,
    "start_time": "2024-02-28T13:40:19.058Z"
   },
   {
    "duration": 81,
    "start_time": "2024-02-28T13:40:19.118Z"
   },
   {
    "duration": 98,
    "start_time": "2024-02-28T13:40:19.200Z"
   },
   {
    "duration": 2,
    "start_time": "2024-02-28T13:40:19.300Z"
   },
   {
    "duration": 811,
    "start_time": "2024-02-28T13:40:19.303Z"
   },
   {
    "duration": 345,
    "start_time": "2024-02-28T13:40:20.116Z"
   },
   {
    "duration": 3581236,
    "start_time": "2024-02-28T13:40:20.462Z"
   },
   {
    "duration": 0,
    "start_time": "2024-02-28T14:40:01.701Z"
   },
   {
    "duration": 0,
    "start_time": "2024-02-28T14:40:01.703Z"
   },
   {
    "duration": 0,
    "start_time": "2024-02-28T14:40:01.705Z"
   },
   {
    "duration": 1249,
    "start_time": "2024-02-28T14:40:34.959Z"
   },
   {
    "duration": 827,
    "start_time": "2024-02-28T14:40:36.210Z"
   },
   {
    "duration": 297,
    "start_time": "2024-02-28T14:40:37.038Z"
   },
   {
    "duration": 152,
    "start_time": "2024-02-28T14:40:37.337Z"
   },
   {
    "duration": 213,
    "start_time": "2024-02-28T14:40:37.491Z"
   },
   {
    "duration": 239,
    "start_time": "2024-02-28T14:40:37.706Z"
   },
   {
    "duration": 34,
    "start_time": "2024-02-28T14:40:37.947Z"
   },
   {
    "duration": 81,
    "start_time": "2024-02-28T14:40:37.983Z"
   },
   {
    "duration": 60,
    "start_time": "2024-02-28T14:40:38.065Z"
   },
   {
    "duration": 11,
    "start_time": "2024-02-28T14:40:38.127Z"
   },
   {
    "duration": 62,
    "start_time": "2024-02-28T14:40:38.139Z"
   },
   {
    "duration": 75,
    "start_time": "2024-02-28T14:40:38.203Z"
   },
   {
    "duration": 31,
    "start_time": "2024-02-28T14:40:38.279Z"
   },
   {
    "duration": 50,
    "start_time": "2024-02-28T14:40:38.312Z"
   },
   {
    "duration": 57,
    "start_time": "2024-02-28T14:40:38.363Z"
   },
   {
    "duration": 46,
    "start_time": "2024-02-28T14:40:38.422Z"
   },
   {
    "duration": 95,
    "start_time": "2024-02-28T14:40:38.469Z"
   },
   {
    "duration": 116,
    "start_time": "2024-02-28T14:40:38.566Z"
   },
   {
    "duration": 102,
    "start_time": "2024-02-28T14:40:38.684Z"
   },
   {
    "duration": 3,
    "start_time": "2024-02-28T14:40:38.788Z"
   },
   {
    "duration": 813,
    "start_time": "2024-02-28T14:40:38.792Z"
   },
   {
    "duration": 372,
    "start_time": "2024-02-28T14:40:39.606Z"
   },
   {
    "duration": 18727,
    "start_time": "2024-02-28T14:40:39.980Z"
   },
   {
    "duration": 0,
    "start_time": "2024-02-28T14:40:58.709Z"
   },
   {
    "duration": 0,
    "start_time": "2024-02-28T14:40:58.710Z"
   },
   {
    "duration": 0,
    "start_time": "2024-02-28T14:40:58.711Z"
   },
   {
    "duration": 36617,
    "start_time": "2024-02-28T14:41:08.817Z"
   },
   {
    "duration": 3,
    "start_time": "2024-02-28T14:42:19.358Z"
   },
   {
    "duration": 36429,
    "start_time": "2024-02-28T14:42:26.133Z"
   },
   {
    "duration": 1386,
    "start_time": "2024-02-28T19:36:10.113Z"
   },
   {
    "duration": 2948,
    "start_time": "2024-02-28T19:36:11.501Z"
   },
   {
    "duration": 328,
    "start_time": "2024-02-28T19:36:14.451Z"
   },
   {
    "duration": 167,
    "start_time": "2024-02-28T19:36:14.781Z"
   },
   {
    "duration": 240,
    "start_time": "2024-02-28T19:36:14.951Z"
   },
   {
    "duration": 284,
    "start_time": "2024-02-28T19:36:15.192Z"
   },
   {
    "duration": 39,
    "start_time": "2024-02-28T19:36:15.478Z"
   },
   {
    "duration": 57,
    "start_time": "2024-02-28T19:36:15.519Z"
   },
   {
    "duration": 74,
    "start_time": "2024-02-28T19:36:15.577Z"
   },
   {
    "duration": 12,
    "start_time": "2024-02-28T19:36:15.653Z"
   },
   {
    "duration": 48,
    "start_time": "2024-02-28T19:36:15.667Z"
   },
   {
    "duration": 32,
    "start_time": "2024-02-28T19:36:15.716Z"
   },
   {
    "duration": 53,
    "start_time": "2024-02-28T19:36:15.750Z"
   },
   {
    "duration": 30,
    "start_time": "2024-02-28T19:36:15.805Z"
   },
   {
    "duration": 28,
    "start_time": "2024-02-28T19:36:15.836Z"
   },
   {
    "duration": 52,
    "start_time": "2024-02-28T19:36:15.866Z"
   },
   {
    "duration": 82,
    "start_time": "2024-02-28T19:36:15.920Z"
   },
   {
    "duration": 101,
    "start_time": "2024-02-28T19:36:16.004Z"
   },
   {
    "duration": 93,
    "start_time": "2024-02-28T19:36:16.106Z"
   },
   {
    "duration": 3,
    "start_time": "2024-02-28T19:36:16.201Z"
   },
   {
    "duration": 960,
    "start_time": "2024-02-28T19:36:16.206Z"
   },
   {
    "duration": 387,
    "start_time": "2024-02-28T19:36:17.168Z"
   },
   {
    "duration": 4371096,
    "start_time": "2024-02-28T19:36:17.556Z"
   },
   {
    "duration": 31779,
    "start_time": "2024-02-28T20:49:08.653Z"
   },
   {
    "duration": 143,
    "start_time": "2024-02-28T20:49:40.434Z"
   },
   {
    "duration": 0,
    "start_time": "2024-02-28T20:49:40.579Z"
   },
   {
    "duration": 1247,
    "start_time": "2024-02-29T05:55:14.675Z"
   },
   {
    "duration": 1085,
    "start_time": "2024-02-29T05:55:15.924Z"
   },
   {
    "duration": 287,
    "start_time": "2024-02-29T05:55:17.011Z"
   },
   {
    "duration": 153,
    "start_time": "2024-02-29T05:55:17.300Z"
   },
   {
    "duration": 183,
    "start_time": "2024-02-29T05:55:17.454Z"
   },
   {
    "duration": 228,
    "start_time": "2024-02-29T05:55:17.638Z"
   },
   {
    "duration": 31,
    "start_time": "2024-02-29T05:55:17.867Z"
   },
   {
    "duration": 59,
    "start_time": "2024-02-29T05:55:17.899Z"
   },
   {
    "duration": 51,
    "start_time": "2024-02-29T05:55:17.960Z"
   },
   {
    "duration": 10,
    "start_time": "2024-02-29T05:55:18.014Z"
   },
   {
    "duration": 40,
    "start_time": "2024-02-29T05:55:18.026Z"
   },
   {
    "duration": 32,
    "start_time": "2024-02-29T05:55:18.068Z"
   },
   {
    "duration": 44,
    "start_time": "2024-02-29T05:55:18.101Z"
   },
   {
    "duration": 27,
    "start_time": "2024-02-29T05:55:18.146Z"
   },
   {
    "duration": 25,
    "start_time": "2024-02-29T05:55:18.174Z"
   },
   {
    "duration": 27,
    "start_time": "2024-02-29T05:55:18.200Z"
   },
   {
    "duration": 66,
    "start_time": "2024-02-29T05:55:18.245Z"
   },
   {
    "duration": 73,
    "start_time": "2024-02-29T05:55:18.312Z"
   },
   {
    "duration": 85,
    "start_time": "2024-02-29T05:55:18.386Z"
   },
   {
    "duration": 2,
    "start_time": "2024-02-29T05:55:18.473Z"
   },
   {
    "duration": 750,
    "start_time": "2024-02-29T05:55:18.476Z"
   },
   {
    "duration": 4331,
    "start_time": "2024-02-29T05:55:19.228Z"
   },
   {
    "duration": 401,
    "start_time": "2024-02-29T05:55:23.561Z"
   },
   {
    "duration": 33662,
    "start_time": "2024-02-29T05:55:23.963Z"
   },
   {
    "duration": 419,
    "start_time": "2024-02-29T05:55:57.627Z"
   },
   {
    "duration": 5,
    "start_time": "2024-02-29T05:55:58.047Z"
   }
  ],
  "kernelspec": {
   "display_name": "Python 3 (ipykernel)",
   "language": "python",
   "name": "python3"
  },
  "language_info": {
   "codemirror_mode": {
    "name": "ipython",
    "version": 3
   },
   "file_extension": ".py",
   "mimetype": "text/x-python",
   "name": "python",
   "nbconvert_exporter": "python",
   "pygments_lexer": "ipython3",
   "version": "3.10.9"
  },
  "toc": {
   "base_numbering": 1,
   "nav_menu": {},
   "number_sections": true,
   "sideBar": true,
   "skip_h1_title": true,
   "title_cell": "Table of Contents",
   "title_sidebar": "Contents",
   "toc_cell": false,
   "toc_position": {},
   "toc_section_display": true,
   "toc_window_display": false
  }
 },
 "nbformat": 4,
 "nbformat_minor": 2
}
