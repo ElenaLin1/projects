{
 "cells": [
  {
   "cell_type": "markdown",
   "metadata": {},
   "source": [
    "# Защита персональных данных клиентов"
   ]
  },
  {
   "cell_type": "markdown",
   "metadata": {},
   "source": [
    "Вам нужно защитить данные клиентов страховой компании «Хоть потоп». Разработайте такой метод преобразования данных, чтобы по ним было сложно восстановить персональную информацию. Обоснуйте корректность его работы.\n",
    "\n",
    "Нужно защитить данные, чтобы при преобразовании качество моделей машинного обучения не ухудшилось. Подбирать наилучшую модель не требуется."
   ]
  },
  {
   "cell_type": "markdown",
   "metadata": {},
   "source": [
    "## Загрузка данных"
   ]
  },
  {
   "cell_type": "code",
   "execution_count": 1,
   "metadata": {},
   "outputs": [],
   "source": [
    "import pandas as pd\n",
    "import numpy as np\n",
    "from sklearn.model_selection import train_test_split\n",
    "from sklearn.linear_model import LinearRegression\n",
    "from sklearn.metrics import r2_score"
   ]
  },
  {
   "cell_type": "code",
   "execution_count": 2,
   "metadata": {
    "scrolled": true
   },
   "outputs": [
    {
     "name": "stdout",
     "output_type": "stream",
     "text": [
      "   Пол  Возраст  Зарплата  Члены семьи  Страховые выплаты\n",
      "0    1     41.0   49600.0            1                  0\n",
      "1    0     46.0   38000.0            1                  1\n",
      "2    0     29.0   21000.0            0                  0\n",
      "3    0     21.0   41700.0            2                  0\n",
      "4    1     28.0   26100.0            0                  0\n",
      "<class 'pandas.core.frame.DataFrame'>\n",
      "RangeIndex: 5000 entries, 0 to 4999\n",
      "Data columns (total 5 columns):\n",
      " #   Column             Non-Null Count  Dtype  \n",
      "---  ------             --------------  -----  \n",
      " 0   Пол                5000 non-null   int64  \n",
      " 1   Возраст            5000 non-null   float64\n",
      " 2   Зарплата           5000 non-null   float64\n",
      " 3   Члены семьи        5000 non-null   int64  \n",
      " 4   Страховые выплаты  5000 non-null   int64  \n",
      "dtypes: float64(2), int64(3)\n",
      "memory usage: 195.4 KB\n"
     ]
    },
    {
     "data": {
      "text/html": [
       "<div>\n",
       "<style scoped>\n",
       "    .dataframe tbody tr th:only-of-type {\n",
       "        vertical-align: middle;\n",
       "    }\n",
       "\n",
       "    .dataframe tbody tr th {\n",
       "        vertical-align: top;\n",
       "    }\n",
       "\n",
       "    .dataframe thead th {\n",
       "        text-align: right;\n",
       "    }\n",
       "</style>\n",
       "<table border=\"1\" class=\"dataframe\">\n",
       "  <thead>\n",
       "    <tr style=\"text-align: right;\">\n",
       "      <th></th>\n",
       "      <th>Пол</th>\n",
       "      <th>Возраст</th>\n",
       "      <th>Зарплата</th>\n",
       "      <th>Члены семьи</th>\n",
       "      <th>Страховые выплаты</th>\n",
       "    </tr>\n",
       "  </thead>\n",
       "  <tbody>\n",
       "    <tr>\n",
       "      <th>count</th>\n",
       "      <td>5000.000000</td>\n",
       "      <td>5000.000000</td>\n",
       "      <td>5000.000000</td>\n",
       "      <td>5000.000000</td>\n",
       "      <td>5000.000000</td>\n",
       "    </tr>\n",
       "    <tr>\n",
       "      <th>mean</th>\n",
       "      <td>0.499000</td>\n",
       "      <td>30.952800</td>\n",
       "      <td>39916.360000</td>\n",
       "      <td>1.194200</td>\n",
       "      <td>0.148000</td>\n",
       "    </tr>\n",
       "    <tr>\n",
       "      <th>std</th>\n",
       "      <td>0.500049</td>\n",
       "      <td>8.440807</td>\n",
       "      <td>9900.083569</td>\n",
       "      <td>1.091387</td>\n",
       "      <td>0.463183</td>\n",
       "    </tr>\n",
       "    <tr>\n",
       "      <th>min</th>\n",
       "      <td>0.000000</td>\n",
       "      <td>18.000000</td>\n",
       "      <td>5300.000000</td>\n",
       "      <td>0.000000</td>\n",
       "      <td>0.000000</td>\n",
       "    </tr>\n",
       "    <tr>\n",
       "      <th>25%</th>\n",
       "      <td>0.000000</td>\n",
       "      <td>24.000000</td>\n",
       "      <td>33300.000000</td>\n",
       "      <td>0.000000</td>\n",
       "      <td>0.000000</td>\n",
       "    </tr>\n",
       "    <tr>\n",
       "      <th>50%</th>\n",
       "      <td>0.000000</td>\n",
       "      <td>30.000000</td>\n",
       "      <td>40200.000000</td>\n",
       "      <td>1.000000</td>\n",
       "      <td>0.000000</td>\n",
       "    </tr>\n",
       "    <tr>\n",
       "      <th>75%</th>\n",
       "      <td>1.000000</td>\n",
       "      <td>37.000000</td>\n",
       "      <td>46600.000000</td>\n",
       "      <td>2.000000</td>\n",
       "      <td>0.000000</td>\n",
       "    </tr>\n",
       "    <tr>\n",
       "      <th>max</th>\n",
       "      <td>1.000000</td>\n",
       "      <td>65.000000</td>\n",
       "      <td>79000.000000</td>\n",
       "      <td>6.000000</td>\n",
       "      <td>5.000000</td>\n",
       "    </tr>\n",
       "  </tbody>\n",
       "</table>\n",
       "</div>"
      ],
      "text/plain": [
       "               Пол      Возраст      Зарплата  Члены семьи  Страховые выплаты\n",
       "count  5000.000000  5000.000000   5000.000000  5000.000000        5000.000000\n",
       "mean      0.499000    30.952800  39916.360000     1.194200           0.148000\n",
       "std       0.500049     8.440807   9900.083569     1.091387           0.463183\n",
       "min       0.000000    18.000000   5300.000000     0.000000           0.000000\n",
       "25%       0.000000    24.000000  33300.000000     0.000000           0.000000\n",
       "50%       0.000000    30.000000  40200.000000     1.000000           0.000000\n",
       "75%       1.000000    37.000000  46600.000000     2.000000           0.000000\n",
       "max       1.000000    65.000000  79000.000000     6.000000           5.000000"
      ]
     },
     "execution_count": 2,
     "metadata": {},
     "output_type": "execute_result"
    }
   ],
   "source": [
    "df=pd.read_csv('insurance.csv')\n",
    "print(df.head())\n",
    "df.info()\n",
    "df.describe()"
   ]
  },
  {
   "cell_type": "markdown",
   "metadata": {},
   "source": [
    "В данных пропусков нет, типы данных преобразовывать не нужно"
   ]
  },
  {
   "cell_type": "markdown",
   "metadata": {},
   "source": [
    "## Умножение матриц"
   ]
  },
  {
   "cell_type": "markdown",
   "metadata": {},
   "source": [
    "Обозначения:\n",
    "\n",
    "- $X$ — матрица признаков (нулевой столбец состоит из единиц)\n",
    "\n",
    "- $y$ — вектор целевого признака\n",
    "\n",
    "- $P$ — матрица, на которую умножаются признаки\n",
    "\n",
    "- $w$ — вектор весов линейной регрессии (нулевой элемент равен сдвигу)"
   ]
  },
  {
   "cell_type": "markdown",
   "metadata": {},
   "source": [
    "Предсказания:\n",
    "\n",
    "$$\n",
    "a = Xw\n",
    "$$\n",
    "\n",
    "Задача обучения:\n",
    "\n",
    "$$\n",
    "w = \\arg\\min_w MSE(Xw, y)\n",
    "$$\n",
    "\n",
    "Формула обучения:\n",
    "\n",
    "$$\n",
    "w = (X^T X)^{-1} X^T y\n",
    "$$"
   ]
  },
  {
   "cell_type": "markdown",
   "metadata": {},
   "source": [
    "**Ответ:** не изменится\n",
    "\n",
    "**Обоснование:** \n",
    "учитывая: \n",
    "$$\n",
    "(AB)^{-1} = B^{-1} A^{-1}\n",
    "$$\n",
    "$$\n",
    "(AB)^{T} = B^{T} A^{T}\n",
    "$$\n",
    "\n",
    "Пускай $Z$ - преобразованная матрица.\n",
    "$$\n",
    "Z = XP\n",
    "$$\n",
    "$$\n",
    "a_1 = Zw_1\n",
    "$$\n",
    "$$\n",
    "w_1 = (Z^T Z)^{-1} Z^T y = ((XP)^T(XP))^{-1}  (XP)^Ty = P^{-1}((XP)^{T}X)^{-1}  (XP)^Ty = P^{-1}((XP)^{T}X)^{-1}  P^TX^Ty = P^{-1}(P^TX^TX)^{-1}  P^TX^Ty = P^{-1}(X^TX)^{-1}(P^T)^{-1}  P^TX^Ty = P^{-1}(X^TX)^{-1}  X^Ty = P^{-1} w\n",
    "$$\n",
    "$$\n",
    "a_1 = Zw_1 = XP P^{-1} w = Xw = a\n",
    "$$"
   ]
  },
  {
   "cell_type": "markdown",
   "metadata": {},
   "source": [
    "## Алгоритм преобразования"
   ]
  },
  {
   "cell_type": "markdown",
   "metadata": {},
   "source": [
    "**Алгоритм**\n",
    "\n",
    "1. Вызываю случайную матрицу (по размерам матрицы признаков)\n",
    "2. Проверяю, действительно ли она обратимая\n",
    "3. Умножаю изначальные признаки на случайную матрицу\n",
    "4. Сравниваю r2 начальной матрицы и преобразованной"
   ]
  },
  {
   "cell_type": "markdown",
   "metadata": {},
   "source": [
    "**Обоснование**\n",
    "\n",
    "1. Случайная матрица должна быть квадратной, по количеству признаков (4*4)"
   ]
  },
  {
   "cell_type": "markdown",
   "metadata": {},
   "source": [
    "## Проверка алгоритма"
   ]
  },
  {
   "cell_type": "markdown",
   "metadata": {},
   "source": [
    "Сначала обучаю модень на изначальных данных и нахожу r2"
   ]
  },
  {
   "cell_type": "code",
   "execution_count": 3,
   "metadata": {},
   "outputs": [
    {
     "name": "stdout",
     "output_type": "stream",
     "text": [
      "0.435227571270266\n"
     ]
    }
   ],
   "source": [
    "features = df.drop('Страховые выплаты', axis=1)\n",
    "target = df['Страховые выплаты']\n",
    "features_train, features_valid, target_train, target_valid = train_test_split(\n",
    "    features, target, test_size=0.25, random_state=12345)\n",
    "model = LinearRegression()\n",
    "model.fit(features_train, target_train)\n",
    "predictions = model.predict(features_valid)\n",
    "r2 = r2_score(target_valid, predictions)\n",
    "print(r2)"
   ]
  },
  {
   "cell_type": "markdown",
   "metadata": {},
   "source": [
    "Беру рандомную матрицу и пробую сделать из нее обратную. Если ошибки нет - умножаю на исходную и повторяю все как на исходных данных."
   ]
  },
  {
   "cell_type": "code",
   "execution_count": 4,
   "metadata": {},
   "outputs": [
    {
     "name": "stdout",
     "output_type": "stream",
     "text": [
      "0.43522757126972256\n"
     ]
    }
   ],
   "source": [
    "features_matrix = features.values\n",
    "random_matrix = np.random.randint(1, 10, (features_train.shape[1], features_train.shape[1]))\n",
    "random_matrix_err = np.linalg.inv(random_matrix)\n",
    "features_new = features_matrix @ random_matrix\n",
    "features_train, features_valid, target_train, target_valid = train_test_split(\n",
    "    features_new, target, test_size=0.25, random_state=12345)\n",
    "model = LinearRegression()\n",
    "model.fit(features_train, target_train)\n",
    "predictions = model.predict(features_valid)\n",
    "r2 = r2_score(target_valid, predictions)\n",
    "print(r2)"
   ]
  },
  {
   "cell_type": "markdown",
   "metadata": {},
   "source": [
    "r2 одинаковый на начальной матрице и после преобразования."
   ]
  }
 ],
 "metadata": {
  "ExecuteTimeLog": [
   {
    "duration": 489,
    "start_time": "2023-11-20T16:19:14.068Z"
   },
   {
    "duration": 37,
    "start_time": "2023-11-20T16:19:34.364Z"
   },
   {
    "duration": 39,
    "start_time": "2023-11-20T16:19:56.099Z"
   },
   {
    "duration": 30,
    "start_time": "2023-11-20T16:20:43.204Z"
   },
   {
    "duration": 36,
    "start_time": "2023-11-20T16:20:55.266Z"
   },
   {
    "duration": 378,
    "start_time": "2023-11-20T16:22:37.130Z"
   },
   {
    "duration": 59,
    "start_time": "2023-11-21T12:16:31.605Z"
   },
   {
    "duration": 489,
    "start_time": "2023-11-21T12:16:38.195Z"
   },
   {
    "duration": 4,
    "start_time": "2023-11-21T12:16:45.178Z"
   },
   {
    "duration": 39,
    "start_time": "2023-11-21T13:55:51.450Z"
   },
   {
    "duration": 4,
    "start_time": "2023-11-21T13:57:12.392Z"
   },
   {
    "duration": 3,
    "start_time": "2023-11-21T13:57:14.022Z"
   },
   {
    "duration": 718,
    "start_time": "2023-11-21T14:08:20.792Z"
   },
   {
    "duration": 7,
    "start_time": "2023-11-21T14:08:29.470Z"
   },
   {
    "duration": 23,
    "start_time": "2023-11-21T14:11:30.465Z"
   },
   {
    "duration": 68,
    "start_time": "2023-11-21T14:12:09.286Z"
   },
   {
    "duration": 23,
    "start_time": "2023-11-21T14:12:18.948Z"
   },
   {
    "duration": 11,
    "start_time": "2023-11-21T14:12:32.044Z"
   },
   {
    "duration": 4,
    "start_time": "2023-11-21T14:14:02.531Z"
   },
   {
    "duration": 12,
    "start_time": "2023-11-21T14:14:08.544Z"
   },
   {
    "duration": 4,
    "start_time": "2023-11-21T14:16:21.857Z"
   },
   {
    "duration": 4,
    "start_time": "2023-11-21T14:16:33.424Z"
   },
   {
    "duration": 1124,
    "start_time": "2023-11-21T14:18:11.247Z"
   },
   {
    "duration": 48,
    "start_time": "2023-11-21T14:18:12.372Z"
   },
   {
    "duration": 13,
    "start_time": "2023-11-21T14:18:12.422Z"
   },
   {
    "duration": 13,
    "start_time": "2023-11-21T14:18:12.437Z"
   },
   {
    "duration": 5,
    "start_time": "2023-11-21T14:19:10.365Z"
   },
   {
    "duration": 4,
    "start_time": "2023-11-21T14:26:50.986Z"
   },
   {
    "duration": 4,
    "start_time": "2023-11-21T14:27:00.583Z"
   },
   {
    "duration": 5,
    "start_time": "2023-11-21T14:27:24.802Z"
   },
   {
    "duration": 5,
    "start_time": "2023-11-21T14:28:45.749Z"
   },
   {
    "duration": 229,
    "start_time": "2023-11-21T14:32:48.592Z"
   },
   {
    "duration": 132,
    "start_time": "2023-11-21T14:33:12.290Z"
   },
   {
    "duration": 4,
    "start_time": "2023-11-21T14:34:58.613Z"
   },
   {
    "duration": 4,
    "start_time": "2023-11-21T14:35:09.770Z"
   },
   {
    "duration": 154,
    "start_time": "2023-11-21T14:36:03.540Z"
   },
   {
    "duration": 93,
    "start_time": "2023-11-21T14:40:18.346Z"
   },
   {
    "duration": 4,
    "start_time": "2023-11-21T14:40:23.865Z"
   },
   {
    "duration": 4,
    "start_time": "2023-11-21T14:40:33.872Z"
   },
   {
    "duration": 4,
    "start_time": "2023-11-21T14:40:47.390Z"
   },
   {
    "duration": 5,
    "start_time": "2023-11-21T14:40:51.248Z"
   },
   {
    "duration": 106,
    "start_time": "2023-11-21T14:40:55.067Z"
   },
   {
    "duration": 5,
    "start_time": "2023-11-21T14:45:52.568Z"
   },
   {
    "duration": 5,
    "start_time": "2023-11-21T14:52:12.261Z"
   },
   {
    "duration": 14,
    "start_time": "2023-11-21T14:53:06.467Z"
   },
   {
    "duration": 5,
    "start_time": "2023-11-21T14:54:45.275Z"
   },
   {
    "duration": 5,
    "start_time": "2023-11-21T14:54:59.528Z"
   },
   {
    "duration": 8,
    "start_time": "2023-11-21T15:20:26.907Z"
   },
   {
    "duration": 5,
    "start_time": "2023-11-21T15:20:53.072Z"
   },
   {
    "duration": 1052,
    "start_time": "2023-11-21T16:44:49.996Z"
   },
   {
    "duration": 40,
    "start_time": "2023-11-21T16:44:51.050Z"
   },
   {
    "duration": 11,
    "start_time": "2023-11-21T16:44:51.092Z"
   },
   {
    "duration": 8,
    "start_time": "2023-11-21T16:44:51.105Z"
   },
   {
    "duration": 1119,
    "start_time": "2023-11-21T16:46:09.236Z"
   },
   {
    "duration": 39,
    "start_time": "2023-11-21T16:46:10.357Z"
   },
   {
    "duration": 11,
    "start_time": "2023-11-21T16:46:10.397Z"
   },
   {
    "duration": 10,
    "start_time": "2023-11-21T16:46:10.410Z"
   },
   {
    "duration": 1739,
    "start_time": "2023-11-21T18:25:42.352Z"
   },
   {
    "duration": 86,
    "start_time": "2023-11-21T18:25:44.093Z"
   },
   {
    "duration": 12,
    "start_time": "2023-11-21T18:25:44.180Z"
   },
   {
    "duration": 37,
    "start_time": "2023-11-21T18:25:44.194Z"
   },
   {
    "duration": 48,
    "start_time": "2023-11-22T14:36:06.643Z"
   },
   {
    "duration": 1061,
    "start_time": "2023-11-22T14:36:11.751Z"
   },
   {
    "duration": 108,
    "start_time": "2023-11-22T14:36:14.140Z"
   },
   {
    "duration": 1207,
    "start_time": "2023-11-22T14:56:00.193Z"
   },
   {
    "duration": 60,
    "start_time": "2023-11-22T14:56:01.402Z"
   },
   {
    "duration": 12,
    "start_time": "2023-11-22T14:56:01.464Z"
   },
   {
    "duration": 44,
    "start_time": "2023-11-22T14:56:01.478Z"
   },
   {
    "duration": 1060,
    "start_time": "2023-11-22T15:19:52.728Z"
   },
   {
    "duration": 60,
    "start_time": "2023-11-22T15:19:53.790Z"
   },
   {
    "duration": 11,
    "start_time": "2023-11-22T15:19:53.851Z"
   },
   {
    "duration": 12,
    "start_time": "2023-11-22T15:19:53.864Z"
   },
   {
    "duration": 1885,
    "start_time": "2023-11-22T15:26:05.429Z"
   },
   {
    "duration": 132,
    "start_time": "2023-11-22T15:26:07.316Z"
   },
   {
    "duration": 12,
    "start_time": "2023-11-22T15:26:07.449Z"
   },
   {
    "duration": 52,
    "start_time": "2023-11-22T15:26:07.463Z"
   }
  ],
  "kernelspec": {
   "display_name": "Python 3 (ipykernel)",
   "language": "python",
   "name": "python3"
  },
  "language_info": {
   "codemirror_mode": {
    "name": "ipython",
    "version": 3
   },
   "file_extension": ".py",
   "mimetype": "text/x-python",
   "name": "python",
   "nbconvert_exporter": "python",
   "pygments_lexer": "ipython3",
   "version": "3.10.9"
  },
  "toc": {
   "base_numbering": 1,
   "nav_menu": {},
   "number_sections": true,
   "sideBar": true,
   "skip_h1_title": true,
   "title_cell": "Содержание",
   "title_sidebar": "Contents",
   "toc_cell": true,
   "toc_position": {},
   "toc_section_display": true,
   "toc_window_display": true
  }
 },
 "nbformat": 4,
 "nbformat_minor": 2
}
